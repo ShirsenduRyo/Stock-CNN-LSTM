{
 "cells": [
  {
   "cell_type": "markdown",
   "id": "b8dc11ef",
   "metadata": {},
   "source": [
    "# The Packages"
   ]
  },
  {
   "cell_type": "code",
   "execution_count": 1,
   "id": "b8cd3bb5",
   "metadata": {},
   "outputs": [],
   "source": [
    "import numpy as np\n",
    "import pandas as pd\n",
    "import os\n",
    "import gc\n",
    "import datetime\n",
    "import warnings"
   ]
  },
  {
   "cell_type": "code",
   "execution_count": 2,
   "id": "77568f48",
   "metadata": {},
   "outputs": [],
   "source": [
    "\n",
    "import statsmodels.api as sm\n",
    "from datetime import date"
   ]
  },
  {
   "cell_type": "code",
   "execution_count": 3,
   "id": "3777791b",
   "metadata": {},
   "outputs": [],
   "source": [
    "from sklearn.preprocessing import MinMaxScaler\n",
    "from sklearn.metrics import mean_squared_error, mean_absolute_error"
   ]
  },
  {
   "cell_type": "code",
   "execution_count": 4,
   "id": "98ea5e9d",
   "metadata": {},
   "outputs": [],
   "source": [
    "import tensorflow as tf\n",
    "import math \n",
    "# keras = tf.keras\n",
    "from tensorflow.keras.optimizers import Adam\n",
    "from tensorflow.keras.layers import LSTM\n",
    "from tensorflow.keras import losses\n",
    "from tensorflow import keras\n",
    "from tensorflow.keras.callbacks import ModelCheckpoint, CSVLogger, ReduceLROnPlateau, EarlyStopping, TensorBoard\n",
    "from tensorflow.keras.utils import plot_model"
   ]
  },
  {
   "cell_type": "code",
   "execution_count": 5,
   "id": "a724b59c",
   "metadata": {},
   "outputs": [
    {
     "data": {
      "text/plain": [
       "'2.10.1'"
      ]
     },
     "execution_count": 5,
     "metadata": {},
     "output_type": "execute_result"
    }
   ],
   "source": [
    "tf.__version__"
   ]
  },
  {
   "cell_type": "code",
   "execution_count": 6,
   "id": "9837a66b",
   "metadata": {},
   "outputs": [],
   "source": [
    "# DATA VISUALIZATION\n",
    "# ------------------------------------------------------\n",
    "import matplotlib.pyplot as plt\n",
    "import seaborn as sns\n",
    "plt.rcParams['figure.figsize'] = (20.0, 10.0)\n",
    "sns.set_style(\"darkgrid\")\n",
    "sns.color_palette(\"mako\", as_cmap=True)\n",
    "import plotly.express as px\n"
   ]
  },
  {
   "cell_type": "code",
   "execution_count": 7,
   "id": "15a50b20",
   "metadata": {},
   "outputs": [],
   "source": [
    "# CONFIGURATIONS\n",
    "# ------------------------------------------------------\n",
    "pd.set_option('display.max_columns', None)\n",
    "pd.options.display.float_format = '{:.2f}'.format\n",
    "warnings.filterwarnings('ignore')"
   ]
  },
  {
   "cell_type": "markdown",
   "id": "aa5865e8",
   "metadata": {},
   "source": [
    "# Utility Functions"
   ]
  },
  {
   "cell_type": "code",
   "execution_count": 8,
   "id": "9e95a2a6",
   "metadata": {},
   "outputs": [],
   "source": [
    "def plotSeries(time, series, lab,form='-'):\n",
    "    plt.plot(time, series, form, label=lab)\n",
    "    plt.xlabel(\"Date\")\n",
    "    plt.ylabel(\"Close Price\")\n",
    "    plt.grid(True)"
   ]
  },
  {
   "cell_type": "code",
   "execution_count": null,
   "id": "e3006ce7",
   "metadata": {},
   "outputs": [],
   "source": []
  },
  {
   "cell_type": "markdown",
   "id": "63ac3c46",
   "metadata": {},
   "source": [
    "# The Data"
   ]
  },
  {
   "cell_type": "code",
   "execution_count": 9,
   "id": "b8f77ce0",
   "metadata": {},
   "outputs": [],
   "source": [
    "wfc = pd.read_csv('Dataset/WFC Daily1.csv')"
   ]
  },
  {
   "cell_type": "code",
   "execution_count": 10,
   "id": "ad202701",
   "metadata": {},
   "outputs": [
    {
     "data": {
      "text/html": [
       "<div>\n",
       "<style scoped>\n",
       "    .dataframe tbody tr th:only-of-type {\n",
       "        vertical-align: middle;\n",
       "    }\n",
       "\n",
       "    .dataframe tbody tr th {\n",
       "        vertical-align: top;\n",
       "    }\n",
       "\n",
       "    .dataframe thead th {\n",
       "        text-align: right;\n",
       "    }\n",
       "</style>\n",
       "<table border=\"1\" class=\"dataframe\">\n",
       "  <thead>\n",
       "    <tr style=\"text-align: right;\">\n",
       "      <th></th>\n",
       "      <th>Date</th>\n",
       "      <th>Open</th>\n",
       "      <th>High</th>\n",
       "      <th>Low</th>\n",
       "      <th>Close</th>\n",
       "      <th>Adj Close</th>\n",
       "      <th>Volume</th>\n",
       "    </tr>\n",
       "  </thead>\n",
       "  <tbody>\n",
       "    <tr>\n",
       "      <th>0</th>\n",
       "      <td>2000-01-03</td>\n",
       "      <td>20.16</td>\n",
       "      <td>20.19</td>\n",
       "      <td>19.00</td>\n",
       "      <td>19.56</td>\n",
       "      <td>10.44</td>\n",
       "      <td>9037000</td>\n",
       "    </tr>\n",
       "    <tr>\n",
       "      <th>1</th>\n",
       "      <td>2000-01-04</td>\n",
       "      <td>18.62</td>\n",
       "      <td>18.84</td>\n",
       "      <td>18.00</td>\n",
       "      <td>18.59</td>\n",
       "      <td>9.92</td>\n",
       "      <td>15237200</td>\n",
       "    </tr>\n",
       "    <tr>\n",
       "      <th>2</th>\n",
       "      <td>2000-01-05</td>\n",
       "      <td>18.50</td>\n",
       "      <td>18.88</td>\n",
       "      <td>18.03</td>\n",
       "      <td>18.41</td>\n",
       "      <td>9.82</td>\n",
       "      <td>8228200</td>\n",
       "    </tr>\n",
       "    <tr>\n",
       "      <th>3</th>\n",
       "      <td>2000-01-06</td>\n",
       "      <td>18.53</td>\n",
       "      <td>19.50</td>\n",
       "      <td>18.47</td>\n",
       "      <td>19.22</td>\n",
       "      <td>10.25</td>\n",
       "      <td>8326800</td>\n",
       "    </tr>\n",
       "    <tr>\n",
       "      <th>4</th>\n",
       "      <td>2000-01-07</td>\n",
       "      <td>19.62</td>\n",
       "      <td>19.84</td>\n",
       "      <td>19.28</td>\n",
       "      <td>19.56</td>\n",
       "      <td>10.44</td>\n",
       "      <td>7711200</td>\n",
       "    </tr>\n",
       "  </tbody>\n",
       "</table>\n",
       "</div>"
      ],
      "text/plain": [
       "         Date  Open  High   Low  Close  Adj Close    Volume\n",
       "0  2000-01-03 20.16 20.19 19.00  19.56      10.44   9037000\n",
       "1  2000-01-04 18.62 18.84 18.00  18.59       9.92  15237200\n",
       "2  2000-01-05 18.50 18.88 18.03  18.41       9.82   8228200\n",
       "3  2000-01-06 18.53 19.50 18.47  19.22      10.25   8326800\n",
       "4  2000-01-07 19.62 19.84 19.28  19.56      10.44   7711200"
      ]
     },
     "execution_count": 10,
     "metadata": {},
     "output_type": "execute_result"
    }
   ],
   "source": [
    "wfc.head()"
   ]
  },
  {
   "cell_type": "code",
   "execution_count": 11,
   "id": "a5831b2d",
   "metadata": {},
   "outputs": [
    {
     "data": {
      "text/plain": [
       "dtype('O')"
      ]
     },
     "execution_count": 11,
     "metadata": {},
     "output_type": "execute_result"
    }
   ],
   "source": [
    "wfc.Date.dtype"
   ]
  },
  {
   "cell_type": "code",
   "execution_count": 12,
   "id": "85f91b01",
   "metadata": {},
   "outputs": [],
   "source": [
    "wfc['Date'] = pd.to_datetime(wfc['Date'])\n",
    "#wfc.set_index(['Date'],inplace=True)"
   ]
  },
  {
   "cell_type": "code",
   "execution_count": 13,
   "id": "3899b716",
   "metadata": {},
   "outputs": [
    {
     "data": {
      "text/html": [
       "<div>\n",
       "<style scoped>\n",
       "    .dataframe tbody tr th:only-of-type {\n",
       "        vertical-align: middle;\n",
       "    }\n",
       "\n",
       "    .dataframe tbody tr th {\n",
       "        vertical-align: top;\n",
       "    }\n",
       "\n",
       "    .dataframe thead th {\n",
       "        text-align: right;\n",
       "    }\n",
       "</style>\n",
       "<table border=\"1\" class=\"dataframe\">\n",
       "  <thead>\n",
       "    <tr style=\"text-align: right;\">\n",
       "      <th></th>\n",
       "      <th>Date</th>\n",
       "      <th>Open</th>\n",
       "      <th>High</th>\n",
       "      <th>Low</th>\n",
       "      <th>Close</th>\n",
       "      <th>Adj Close</th>\n",
       "      <th>Volume</th>\n",
       "    </tr>\n",
       "  </thead>\n",
       "  <tbody>\n",
       "    <tr>\n",
       "      <th>0</th>\n",
       "      <td>2000-01-03</td>\n",
       "      <td>20.16</td>\n",
       "      <td>20.19</td>\n",
       "      <td>19.00</td>\n",
       "      <td>19.56</td>\n",
       "      <td>10.44</td>\n",
       "      <td>9037000</td>\n",
       "    </tr>\n",
       "    <tr>\n",
       "      <th>1</th>\n",
       "      <td>2000-01-04</td>\n",
       "      <td>18.62</td>\n",
       "      <td>18.84</td>\n",
       "      <td>18.00</td>\n",
       "      <td>18.59</td>\n",
       "      <td>9.92</td>\n",
       "      <td>15237200</td>\n",
       "    </tr>\n",
       "    <tr>\n",
       "      <th>2</th>\n",
       "      <td>2000-01-05</td>\n",
       "      <td>18.50</td>\n",
       "      <td>18.88</td>\n",
       "      <td>18.03</td>\n",
       "      <td>18.41</td>\n",
       "      <td>9.82</td>\n",
       "      <td>8228200</td>\n",
       "    </tr>\n",
       "    <tr>\n",
       "      <th>3</th>\n",
       "      <td>2000-01-06</td>\n",
       "      <td>18.53</td>\n",
       "      <td>19.50</td>\n",
       "      <td>18.47</td>\n",
       "      <td>19.22</td>\n",
       "      <td>10.25</td>\n",
       "      <td>8326800</td>\n",
       "    </tr>\n",
       "    <tr>\n",
       "      <th>4</th>\n",
       "      <td>2000-01-07</td>\n",
       "      <td>19.62</td>\n",
       "      <td>19.84</td>\n",
       "      <td>19.28</td>\n",
       "      <td>19.56</td>\n",
       "      <td>10.44</td>\n",
       "      <td>7711200</td>\n",
       "    </tr>\n",
       "  </tbody>\n",
       "</table>\n",
       "</div>"
      ],
      "text/plain": [
       "        Date  Open  High   Low  Close  Adj Close    Volume\n",
       "0 2000-01-03 20.16 20.19 19.00  19.56      10.44   9037000\n",
       "1 2000-01-04 18.62 18.84 18.00  18.59       9.92  15237200\n",
       "2 2000-01-05 18.50 18.88 18.03  18.41       9.82   8228200\n",
       "3 2000-01-06 18.53 19.50 18.47  19.22      10.25   8326800\n",
       "4 2000-01-07 19.62 19.84 19.28  19.56      10.44   7711200"
      ]
     },
     "execution_count": 13,
     "metadata": {},
     "output_type": "execute_result"
    }
   ],
   "source": [
    "wfc.head()"
   ]
  },
  {
   "cell_type": "code",
   "execution_count": 14,
   "id": "74d869dd",
   "metadata": {},
   "outputs": [
    {
     "name": "stdout",
     "output_type": "stream",
     "text": [
      "<class 'pandas.core.frame.DataFrame'>\n",
      "RangeIndex: 5754 entries, 0 to 5753\n",
      "Data columns (total 7 columns):\n",
      " #   Column     Non-Null Count  Dtype         \n",
      "---  ------     --------------  -----         \n",
      " 0   Date       5754 non-null   datetime64[ns]\n",
      " 1   Open       5754 non-null   float64       \n",
      " 2   High       5754 non-null   float64       \n",
      " 3   Low        5754 non-null   float64       \n",
      " 4   Close      5754 non-null   float64       \n",
      " 5   Adj Close  5754 non-null   float64       \n",
      " 6   Volume     5754 non-null   int64         \n",
      "dtypes: datetime64[ns](1), float64(5), int64(1)\n",
      "memory usage: 314.8 KB\n"
     ]
    }
   ],
   "source": [
    "wfc.info()"
   ]
  },
  {
   "cell_type": "code",
   "execution_count": 15,
   "id": "725de532",
   "metadata": {},
   "outputs": [
    {
     "data": {
      "text/html": [
       "<div>\n",
       "<style scoped>\n",
       "    .dataframe tbody tr th:only-of-type {\n",
       "        vertical-align: middle;\n",
       "    }\n",
       "\n",
       "    .dataframe tbody tr th {\n",
       "        vertical-align: top;\n",
       "    }\n",
       "\n",
       "    .dataframe thead th {\n",
       "        text-align: right;\n",
       "    }\n",
       "</style>\n",
       "<table border=\"1\" class=\"dataframe\">\n",
       "  <thead>\n",
       "    <tr style=\"text-align: right;\">\n",
       "      <th></th>\n",
       "      <th>Open</th>\n",
       "      <th>High</th>\n",
       "      <th>Low</th>\n",
       "      <th>Close</th>\n",
       "      <th>Adj Close</th>\n",
       "      <th>Volume</th>\n",
       "    </tr>\n",
       "  </thead>\n",
       "  <tbody>\n",
       "    <tr>\n",
       "      <th>count</th>\n",
       "      <td>5754.00</td>\n",
       "      <td>5754.00</td>\n",
       "      <td>5754.00</td>\n",
       "      <td>5754.00</td>\n",
       "      <td>5754.00</td>\n",
       "      <td>5754.00</td>\n",
       "    </tr>\n",
       "    <tr>\n",
       "      <th>mean</th>\n",
       "      <td>36.38</td>\n",
       "      <td>36.78</td>\n",
       "      <td>35.98</td>\n",
       "      <td>36.38</td>\n",
       "      <td>28.01</td>\n",
       "      <td>24313450.19</td>\n",
       "    </tr>\n",
       "    <tr>\n",
       "      <th>std</th>\n",
       "      <td>11.74</td>\n",
       "      <td>11.77</td>\n",
       "      <td>11.73</td>\n",
       "      <td>11.75</td>\n",
       "      <td>12.85</td>\n",
       "      <td>26705062.78</td>\n",
       "    </tr>\n",
       "    <tr>\n",
       "      <th>min</th>\n",
       "      <td>8.65</td>\n",
       "      <td>8.94</td>\n",
       "      <td>7.80</td>\n",
       "      <td>8.12</td>\n",
       "      <td>5.76</td>\n",
       "      <td>1774000.00</td>\n",
       "    </tr>\n",
       "    <tr>\n",
       "      <th>25%</th>\n",
       "      <td>26.71</td>\n",
       "      <td>27.20</td>\n",
       "      <td>26.25</td>\n",
       "      <td>26.74</td>\n",
       "      <td>18.01</td>\n",
       "      <td>10091200.00</td>\n",
       "    </tr>\n",
       "    <tr>\n",
       "      <th>50%</th>\n",
       "      <td>32.65</td>\n",
       "      <td>33.13</td>\n",
       "      <td>32.25</td>\n",
       "      <td>32.64</td>\n",
       "      <td>23.18</td>\n",
       "      <td>17086600.00</td>\n",
       "    </tr>\n",
       "    <tr>\n",
       "      <th>75%</th>\n",
       "      <td>47.75</td>\n",
       "      <td>48.19</td>\n",
       "      <td>47.33</td>\n",
       "      <td>47.79</td>\n",
       "      <td>41.58</td>\n",
       "      <td>29145250.00</td>\n",
       "    </tr>\n",
       "    <tr>\n",
       "      <th>max</th>\n",
       "      <td>65.89</td>\n",
       "      <td>66.31</td>\n",
       "      <td>65.66</td>\n",
       "      <td>65.93</td>\n",
       "      <td>57.96</td>\n",
       "      <td>478736600.00</td>\n",
       "    </tr>\n",
       "  </tbody>\n",
       "</table>\n",
       "</div>"
      ],
      "text/plain": [
       "         Open    High     Low   Close  Adj Close       Volume\n",
       "count 5754.00 5754.00 5754.00 5754.00    5754.00      5754.00\n",
       "mean    36.38   36.78   35.98   36.38      28.01  24313450.19\n",
       "std     11.74   11.77   11.73   11.75      12.85  26705062.78\n",
       "min      8.65    8.94    7.80    8.12       5.76   1774000.00\n",
       "25%     26.71   27.20   26.25   26.74      18.01  10091200.00\n",
       "50%     32.65   33.13   32.25   32.64      23.18  17086600.00\n",
       "75%     47.75   48.19   47.33   47.79      41.58  29145250.00\n",
       "max     65.89   66.31   65.66   65.93      57.96 478736600.00"
      ]
     },
     "execution_count": 15,
     "metadata": {},
     "output_type": "execute_result"
    }
   ],
   "source": [
    "wfc.describe()"
   ]
  },
  {
   "cell_type": "code",
   "execution_count": 16,
   "id": "d4ce26e5",
   "metadata": {},
   "outputs": [
    {
     "data": {
      "text/html": [
       "<style type=\"text/css\">\n",
       "#T_27da4_row0_col0, #T_27da4_row0_col1, #T_27da4_row0_col2, #T_27da4_row0_col3, #T_27da4_row1_col0, #T_27da4_row1_col1, #T_27da4_row1_col2, #T_27da4_row1_col3, #T_27da4_row2_col0, #T_27da4_row2_col1, #T_27da4_row2_col2, #T_27da4_row2_col3, #T_27da4_row3_col0, #T_27da4_row3_col1, #T_27da4_row3_col2, #T_27da4_row3_col3, #T_27da4_row4_col4, #T_27da4_row5_col5 {\n",
       "  background-color: #023858;\n",
       "  color: #f1f1f1;\n",
       "}\n",
       "#T_27da4_row0_col4, #T_27da4_row2_col4, #T_27da4_row3_col4 {\n",
       "  background-color: #034165;\n",
       "  color: #f1f1f1;\n",
       "}\n",
       "#T_27da4_row0_col5, #T_27da4_row3_col5 {\n",
       "  background-color: #fdf5fa;\n",
       "  color: #000000;\n",
       "}\n",
       "#T_27da4_row1_col4, #T_27da4_row4_col0, #T_27da4_row4_col1, #T_27da4_row4_col2, #T_27da4_row4_col3 {\n",
       "  background-color: #023f64;\n",
       "  color: #f1f1f1;\n",
       "}\n",
       "#T_27da4_row1_col5 {\n",
       "  background-color: #fbf4f9;\n",
       "  color: #000000;\n",
       "}\n",
       "#T_27da4_row2_col5, #T_27da4_row5_col0, #T_27da4_row5_col1, #T_27da4_row5_col2, #T_27da4_row5_col3, #T_27da4_row5_col4 {\n",
       "  background-color: #fff7fb;\n",
       "  color: #000000;\n",
       "}\n",
       "#T_27da4_row4_col5 {\n",
       "  background-color: #f0eaf4;\n",
       "  color: #000000;\n",
       "}\n",
       "</style>\n",
       "<table id=\"T_27da4\">\n",
       "  <thead>\n",
       "    <tr>\n",
       "      <th class=\"blank level0\" >&nbsp;</th>\n",
       "      <th id=\"T_27da4_level0_col0\" class=\"col_heading level0 col0\" >Open</th>\n",
       "      <th id=\"T_27da4_level0_col1\" class=\"col_heading level0 col1\" >High</th>\n",
       "      <th id=\"T_27da4_level0_col2\" class=\"col_heading level0 col2\" >Low</th>\n",
       "      <th id=\"T_27da4_level0_col3\" class=\"col_heading level0 col3\" >Close</th>\n",
       "      <th id=\"T_27da4_level0_col4\" class=\"col_heading level0 col4\" >Adj Close</th>\n",
       "      <th id=\"T_27da4_level0_col5\" class=\"col_heading level0 col5\" >Volume</th>\n",
       "    </tr>\n",
       "  </thead>\n",
       "  <tbody>\n",
       "    <tr>\n",
       "      <th id=\"T_27da4_level0_row0\" class=\"row_heading level0 row0\" >Open</th>\n",
       "      <td id=\"T_27da4_row0_col0\" class=\"data row0 col0\" >1.000000</td>\n",
       "      <td id=\"T_27da4_row0_col1\" class=\"data row0 col1\" >0.999324</td>\n",
       "      <td id=\"T_27da4_row0_col2\" class=\"data row0 col2\" >0.999274</td>\n",
       "      <td id=\"T_27da4_row0_col3\" class=\"data row0 col3\" >0.998754</td>\n",
       "      <td id=\"T_27da4_row0_col4\" class=\"data row0 col4\" >0.965403</td>\n",
       "      <td id=\"T_27da4_row0_col5\" class=\"data row0 col5\" >-0.184389</td>\n",
       "    </tr>\n",
       "    <tr>\n",
       "      <th id=\"T_27da4_level0_row1\" class=\"row_heading level0 row1\" >High</th>\n",
       "      <td id=\"T_27da4_row1_col0\" class=\"data row1 col0\" >0.999324</td>\n",
       "      <td id=\"T_27da4_row1_col1\" class=\"data row1 col1\" >1.000000</td>\n",
       "      <td id=\"T_27da4_row1_col2\" class=\"data row1 col2\" >0.998796</td>\n",
       "      <td id=\"T_27da4_row1_col3\" class=\"data row1 col3\" >0.999323</td>\n",
       "      <td id=\"T_27da4_row1_col4\" class=\"data row1 col4\" >0.967945</td>\n",
       "      <td id=\"T_27da4_row1_col5\" class=\"data row1 col5\" >-0.169457</td>\n",
       "    </tr>\n",
       "    <tr>\n",
       "      <th id=\"T_27da4_level0_row2\" class=\"row_heading level0 row2\" >Low</th>\n",
       "      <td id=\"T_27da4_row2_col0\" class=\"data row2 col0\" >0.999274</td>\n",
       "      <td id=\"T_27da4_row2_col1\" class=\"data row2 col1\" >0.998796</td>\n",
       "      <td id=\"T_27da4_row2_col2\" class=\"data row2 col2\" >1.000000</td>\n",
       "      <td id=\"T_27da4_row2_col3\" class=\"data row2 col3\" >0.999303</td>\n",
       "      <td id=\"T_27da4_row2_col4\" class=\"data row2 col4\" >0.963519</td>\n",
       "      <td id=\"T_27da4_row2_col5\" class=\"data row2 col5\" >-0.199335</td>\n",
       "    </tr>\n",
       "    <tr>\n",
       "      <th id=\"T_27da4_level0_row3\" class=\"row_heading level0 row3\" >Close</th>\n",
       "      <td id=\"T_27da4_row3_col0\" class=\"data row3 col0\" >0.998754</td>\n",
       "      <td id=\"T_27da4_row3_col1\" class=\"data row3 col1\" >0.999323</td>\n",
       "      <td id=\"T_27da4_row3_col2\" class=\"data row3 col2\" >0.999303</td>\n",
       "      <td id=\"T_27da4_row3_col3\" class=\"data row3 col3\" >1.000000</td>\n",
       "      <td id=\"T_27da4_row3_col4\" class=\"data row3 col4\" >0.966149</td>\n",
       "      <td id=\"T_27da4_row3_col5\" class=\"data row3 col5\" >-0.183272</td>\n",
       "    </tr>\n",
       "    <tr>\n",
       "      <th id=\"T_27da4_level0_row4\" class=\"row_heading level0 row4\" >Adj Close</th>\n",
       "      <td id=\"T_27da4_row4_col0\" class=\"data row4 col0\" >0.965403</td>\n",
       "      <td id=\"T_27da4_row4_col1\" class=\"data row4 col1\" >0.967945</td>\n",
       "      <td id=\"T_27da4_row4_col2\" class=\"data row4 col2\" >0.963519</td>\n",
       "      <td id=\"T_27da4_row4_col3\" class=\"data row4 col3\" >0.966149</td>\n",
       "      <td id=\"T_27da4_row4_col4\" class=\"data row4 col4\" >1.000000</td>\n",
       "      <td id=\"T_27da4_row4_col5\" class=\"data row4 col5\" >-0.080189</td>\n",
       "    </tr>\n",
       "    <tr>\n",
       "      <th id=\"T_27da4_level0_row5\" class=\"row_heading level0 row5\" >Volume</th>\n",
       "      <td id=\"T_27da4_row5_col0\" class=\"data row5 col0\" >-0.184389</td>\n",
       "      <td id=\"T_27da4_row5_col1\" class=\"data row5 col1\" >-0.169457</td>\n",
       "      <td id=\"T_27da4_row5_col2\" class=\"data row5 col2\" >-0.199335</td>\n",
       "      <td id=\"T_27da4_row5_col3\" class=\"data row5 col3\" >-0.183272</td>\n",
       "      <td id=\"T_27da4_row5_col4\" class=\"data row5 col4\" >-0.080189</td>\n",
       "      <td id=\"T_27da4_row5_col5\" class=\"data row5 col5\" >1.000000</td>\n",
       "    </tr>\n",
       "  </tbody>\n",
       "</table>\n"
      ],
      "text/plain": [
       "<pandas.io.formats.style.Styler at 0x226c4635d50>"
      ]
     },
     "execution_count": 16,
     "metadata": {},
     "output_type": "execute_result"
    }
   ],
   "source": [
    "correlation = wfc.corr ()  \n",
    "correlation. style.background_gradient ()"
   ]
  },
  {
   "cell_type": "markdown",
   "id": "2c464387",
   "metadata": {},
   "source": [
    "# The Split"
   ]
  },
  {
   "cell_type": "code",
   "execution_count": 17,
   "id": "a3593a07",
   "metadata": {},
   "outputs": [
    {
     "name": "stdout",
     "output_type": "stream",
     "text": [
      "Min: 2000-01-03 00:00:00 Max: 2022-11-11 00:00:00\n"
     ]
    }
   ],
   "source": [
    "min_date = wfc.Date.min()\n",
    "max_date = wfc.Date.max()\n",
    "print(\"Min:\", min_date, \"Max:\", max_date)"
   ]
  },
  {
   "cell_type": "code",
   "execution_count": 18,
   "id": "bf62035d",
   "metadata": {},
   "outputs": [
    {
     "name": "stdout",
     "output_type": "stream",
     "text": [
      "Training Cutoff Date: 2017-02-23 00:00:00\n",
      "Validation Cutoff Date: 2019-11-21 18:14:24\n"
     ]
    }
   ],
   "source": [
    "train_percent = .75\n",
    "valid_percent = .12\n",
    "\n",
    "time_between = max_date - min_date\n",
    "\n",
    "train_cutoff = min_date + train_percent*time_between\n",
    "valid_cutoff = min_date + (train_percent + valid_percent)*time_between\n",
    "\n",
    "print(\"Training Cutoff Date: {:s}\".format(str(train_cutoff)))\n",
    "print(\"Validation Cutoff Date: {:s}\".format(str(valid_cutoff)))"
   ]
  },
  {
   "cell_type": "code",
   "execution_count": 19,
   "id": "7845cdb2",
   "metadata": {},
   "outputs": [],
   "source": [
    "train_df = wfc[wfc.Date <= train_cutoff]\n",
    "valid_df = wfc[(wfc.Date > train_cutoff) & (wfc.Date <= valid_cutoff)]\n",
    "test_df = wfc[wfc.Date > valid_cutoff]\n"
   ]
  },
  {
   "cell_type": "code",
   "execution_count": 20,
   "id": "6bc99643",
   "metadata": {},
   "outputs": [
    {
     "name": "stdout",
     "output_type": "stream",
     "text": [
      "Dataset shape: (5754, 7)\n",
      "Train dataset shape: (4313, 7)\n",
      "Vaid dataset shape: (692, 7)\n",
      "Test dataset shape: (749, 7)\n"
     ]
    }
   ],
   "source": [
    "print(\"Dataset shape: {:s}\".format(str(wfc.shape)))\n",
    "print(\"Train dataset shape: {:s}\".format(str(train_df.shape)))\n",
    "print(\"Vaid dataset shape: {:s}\".format(str(valid_df.shape)))\n",
    "print(\"Test dataset shape: {:s}\".format(str(test_df.shape)))"
   ]
  },
  {
   "cell_type": "markdown",
   "id": "75ade580",
   "metadata": {},
   "source": [
    "# Stock Price Graph"
   ]
  },
  {
   "cell_type": "code",
   "execution_count": 21,
   "id": "363a3387",
   "metadata": {},
   "outputs": [
    {
     "data": {
      "text/plain": [
       "<matplotlib.legend.Legend at 0x226c48b3f10>"
      ]
     },
     "execution_count": 21,
     "metadata": {},
     "output_type": "execute_result"
    },
    {
     "data": {
      "image/png": "[encoded data removed]",
      "text/plain": [
       "<Figure size 2000x1000 with 1 Axes>"
      ]
     },
     "metadata": {},
     "output_type": "display_data"
    }
   ],
   "source": [
    "plotSeries(train_df.Date, train_df.Close, \"Training Data\")\n",
    "plotSeries(valid_df.Date, valid_df.Close, \"Validation Data\")\n",
    "plotSeries(test_df.Date, test_df.Close, \"Test Data\")\n",
    "plt.legend(loc='upper left')"
   ]
  },
  {
   "cell_type": "code",
   "execution_count": 22,
   "id": "afb26c1d",
   "metadata": {},
   "outputs": [],
   "source": [
    "# How to add the Date columns after normalizing\n",
    "# Maybe do TCS & infosys for better smoothing "
   ]
  },
  {
   "cell_type": "code",
   "execution_count": 23,
   "id": "e2a11898",
   "metadata": {},
   "outputs": [],
   "source": [
    "train_df.set_index(['Date'],inplace=True)\n",
    "test_df.set_index(['Date'],inplace=True)\n",
    "valid_df.set_index(['Date'],inplace=True)"
   ]
  },
  {
   "cell_type": "code",
   "execution_count": 24,
   "id": "c04bb644",
   "metadata": {},
   "outputs": [],
   "source": [
    "trainNorm = train_df.Close.values.reshape(-1, 1)\n",
    "testNorm = test_df.Close.values.reshape(-1, 1)\n",
    "validNorm = valid_df.Close.values.reshape(-1, 1)"
   ]
  },
  {
   "cell_type": "code",
   "execution_count": 25,
   "id": "2d99d7b4",
   "metadata": {},
   "outputs": [
    {
     "data": {
      "text/plain": [
       "(4313, 1)"
      ]
     },
     "execution_count": 25,
     "metadata": {},
     "output_type": "execute_result"
    }
   ],
   "source": [
    "trainNorm.shape"
   ]
  },
  {
   "cell_type": "markdown",
   "id": "7f017c65",
   "metadata": {},
   "source": [
    "## Windowed Dataset"
   ]
  },
  {
   "cell_type": "code",
   "execution_count": 26,
   "id": "090cdc72",
   "metadata": {},
   "outputs": [],
   "source": [
    "# mse_arr=[]\n",
    "# Z = []\n",
    "\n",
    "window = 4"
   ]
  },
  {
   "cell_type": "code",
   "execution_count": 27,
   "id": "4edf2e8b",
   "metadata": {},
   "outputs": [],
   "source": [
    "X_train= []\n",
    "Y_train=[]\n",
    "X_valid= []\n",
    "Y_valid=[]\n",
    "X_test= []\n",
    "Y_test=[]\n",
    "\n",
    "for i in range(len(trainNorm) - (window)):\n",
    "    X_train.append(trainNorm[i:i+window])\n",
    "    Y_train.append(trainNorm[i+window])\n",
    "    \n",
    "for i in range(len(validNorm) - (window)):\n",
    "    X_valid.append(validNorm[i:i+window])\n",
    "    Y_valid.append(validNorm[i+window])\n",
    "    \n",
    "for i in range(len(testNorm) - (window)):\n",
    "    X_test.append(testNorm[i:i+window])\n",
    "    Y_test.append(testNorm[i+window])\n",
    "    \n",
    "\n",
    "X_train=np.asanyarray(X_train)\n",
    "Y_train=np.asanyarray(Y_train)\n",
    "X_valid=np.asanyarray(X_valid)\n",
    "Y_valid=np.asanyarray(Y_valid)\n",
    "X_test=np.asanyarray(X_test)\n",
    "Y_test=np.asanyarray(Y_test)\n",
    "\n",
    "Xtrain = X_train[:,:,:]  \n",
    "Ytrain = Y_train[:]  \n",
    "Xvalid = X_valid[:,:,:]  \n",
    "Yvalid= Y_valid[:]  \n",
    "Xtest = X_test[:,:,:]  \n",
    "Ytest= Y_test[:]  "
   ]
  },
  {
   "cell_type": "markdown",
   "id": "9bd820db",
   "metadata": {},
   "source": [
    "# Model Building"
   ]
  },
  {
   "cell_type": "code",
   "execution_count": 28,
   "id": "e3bc0b22",
   "metadata": {},
   "outputs": [],
   "source": [
    "tf.keras.backend.clear_session()\n",
    "model = tf.keras.Sequential()"
   ]
  },
  {
   "cell_type": "code",
   "execution_count": 29,
   "id": "f19fa346",
   "metadata": {},
   "outputs": [],
   "source": [
    "model.add(keras.layers.Conv1D(\n",
    "    filters= 64,\n",
    "    kernel_size=5, \n",
    "    strides= 1, \n",
    "    padding='same',\n",
    "    activation='relu'\n",
    "))\n",
    "model.add(keras.layers.MaxPooling1D(pool_size=2))\n",
    "model.add(keras.layers.Conv1D(\n",
    "    filters= 128,\n",
    "    kernel_size=5, \n",
    "    strides= 1, \n",
    "    padding='same',\n",
    "    activation='relu'\n",
    "))\n",
    "model.add(keras.layers.MaxPooling1D(pool_size=2))\n",
    "model.add(keras.layers.LSTM(128,return_sequences=True))\n",
    "model.add(keras.layers.LSTM(64,return_sequences=False))\n",
    "model.add(keras.layers.Dense(32, activation=\"relu\"))\n",
    "# model.add(keras.layers.Dropout(0.3))\n",
    "# model.add(keras.layers.Dense(16, activation=\"relu\"))\n",
    "model.add(keras.layers.Dropout(0.2))\n",
    "model.add(keras.layers.Dense(1, activation=\"relu\"))"
   ]
  },
  {
   "cell_type": "markdown",
   "id": "d58c68af",
   "metadata": {},
   "source": [
    "## Find the Optimal Learning Rate"
   ]
  },
  {
   "cell_type": "code",
   "execution_count": 30,
   "id": "bdd90900",
   "metadata": {},
   "outputs": [],
   "source": [
    "lrSchedule = tf.keras.callbacks.LearningRateScheduler(\n",
    "    lambda epoch:1e-8*10**(epoch/20))\n",
    "earlyStop = tf.keras.callbacks.EarlyStopping(monitor='loss', patience=10, restore_best_weights=True)"
   ]
  },
  {
   "cell_type": "code",
   "execution_count": 31,
   "id": "71c21004",
   "metadata": {},
   "outputs": [],
   "source": [
    "optimizer = tf.keras.optimizers.SGD(learning_rate=1e-8, momentum=0.9)\n",
    "model.compile(loss=tf.keras.losses.Huber(),\n",
    "             optimizer = optimizer,\n",
    "             metrics = [\"mae\"])"
   ]
  },
  {
   "cell_type": "code",
   "execution_count": 32,
   "id": "20b62591",
   "metadata": {},
   "outputs": [
    {
     "name": "stdout",
     "output_type": "stream",
     "text": [
      "Epoch 1/500\n",
      "135/135 [==============================] - 9s 9ms/step - loss: 32.5650 - mae: 33.0650 - lr: 1.0000e-08\n",
      "Epoch 2/500\n",
      "135/135 [==============================] - 1s 9ms/step - loss: 32.5650 - mae: 33.0650 - lr: 1.1220e-08\n",
      "Epoch 3/500\n",
      "135/135 [==============================] - 1s 9ms/step - loss: 32.5649 - mae: 33.0649 - lr: 1.2589e-08\n",
      "Epoch 4/500\n",
      "135/135 [==============================] - 1s 9ms/step - loss: 32.5649 - mae: 33.0649 - lr: 1.4125e-08\n",
      "Epoch 5/500\n",
      "135/135 [==============================] - 1s 9ms/step - loss: 32.5650 - mae: 33.0650 - lr: 1.5849e-08\n",
      "Epoch 6/500\n",
      "135/135 [==============================] - 1s 9ms/step - loss: 32.5650 - mae: 33.0650 - lr: 1.7783e-08\n",
      "Epoch 7/500\n",
      "135/135 [==============================] - 1s 9ms/step - loss: 32.5649 - mae: 33.0650 - lr: 1.9953e-08\n",
      "Epoch 8/500\n",
      "135/135 [==============================] - 1s 9ms/step - loss: 32.5650 - mae: 33.0650 - lr: 2.2387e-08\n",
      "Epoch 9/500\n",
      "135/135 [==============================] - 1s 9ms/step - loss: 32.5650 - mae: 33.0650 - lr: 2.5119e-08\n",
      "Epoch 10/500\n",
      "135/135 [==============================] - 1s 10ms/step - loss: 32.5650 - mae: 33.0650 - lr: 2.8184e-08\n",
      "Epoch 11/500\n",
      "135/135 [==============================] - 1s 10ms/step - loss: 32.5650 - mae: 33.0649 - lr: 3.1623e-08\n",
      "Epoch 12/500\n",
      "135/135 [==============================] - 1s 9ms/step - loss: 32.5650 - mae: 33.0650 - lr: 3.5481e-08\n",
      "Epoch 13/500\n",
      "135/135 [==============================] - 1s 10ms/step - loss: 32.5649 - mae: 33.0649 - lr: 3.9811e-08\n",
      "Epoch 14/500\n",
      "135/135 [==============================] - 1s 9ms/step - loss: 32.5650 - mae: 33.0650 - lr: 4.4668e-08\n",
      "Epoch 15/500\n",
      "135/135 [==============================] - 1s 9ms/step - loss: 32.5649 - mae: 33.0649 - lr: 5.0119e-08\n",
      "Epoch 16/500\n",
      "135/135 [==============================] - 1s 10ms/step - loss: 32.5650 - mae: 33.0650 - lr: 5.6234e-08\n",
      "Epoch 17/500\n",
      "135/135 [==============================] - 1s 9ms/step - loss: 32.5650 - mae: 33.0650 - lr: 6.3096e-08\n",
      "Epoch 18/500\n",
      "135/135 [==============================] - 1s 9ms/step - loss: 32.5650 - mae: 33.0650 - lr: 7.0795e-08\n",
      "Epoch 19/500\n",
      "135/135 [==============================] - 1s 9ms/step - loss: 32.5649 - mae: 33.0649 - lr: 7.9433e-08\n",
      "Epoch 20/500\n",
      "135/135 [==============================] - 1s 9ms/step - loss: 32.5650 - mae: 33.0650 - lr: 8.9125e-08\n",
      "Epoch 21/500\n",
      "135/135 [==============================] - 1s 9ms/step - loss: 32.5650 - mae: 33.0650 - lr: 1.0000e-07\n",
      "Epoch 22/500\n",
      "135/135 [==============================] - 1s 9ms/step - loss: 32.5650 - mae: 33.0650 - lr: 1.1220e-07\n",
      "Epoch 23/500\n",
      "135/135 [==============================] - 1s 10ms/step - loss: 32.5650 - mae: 33.0650 - lr: 1.2589e-07\n"
     ]
    }
   ],
   "source": [
    "history = model.fit(Xtrain,Ytrain, epochs=500, callbacks=[lrSchedule, earlyStop])"
   ]
  },
  {
   "cell_type": "code",
   "execution_count": 33,
   "id": "0bf7007c",
   "metadata": {},
   "outputs": [
    {
     "data": {
      "text/plain": [
       "[<matplotlib.lines.Line2D at 0x2272f9cf6d0>]"
      ]
     },
     "execution_count": 33,
     "metadata": {},
     "output_type": "execute_result"
    },
    {
     "data": {
      "image/png": "[encoded data removed]",
      "text/plain": [
       "<Figure size 2000x800 with 1 Axes>"
      ]
     },
     "metadata": {},
     "output_type": "display_data"
    }
   ],
   "source": [
    "plt.figure(figsize=(20,8))\n",
    "plt.semilogx(history.history[\"lr\"], history.history[\"loss\"])\n",
    "#plt.axis([1e-8, 1e-4, 0, 30])"
   ]
  },
  {
   "cell_type": "code",
   "execution_count": 34,
   "id": "e391591f",
   "metadata": {},
   "outputs": [
    {
     "ename": "NameError",
     "evalue": "name 'end' is not defined",
     "output_type": "error",
     "traceback": [
      "\u001b[1;31m---------------------------------------------------------------------------\u001b[0m",
      "\u001b[1;31mNameError\u001b[0m                                 Traceback (most recent call last)",
      "Cell \u001b[1;32mIn [34], line 1\u001b[0m\n\u001b[1;32m----> 1\u001b[0m \u001b[43mend\u001b[49m()\n",
      "\u001b[1;31mNameError\u001b[0m: name 'end' is not defined"
     ]
    }
   ],
   "source": [
    "end()"
   ]
  },
  {
   "cell_type": "code",
   "execution_count": null,
   "id": "8a26fb88",
   "metadata": {},
   "outputs": [],
   "source": [
    "# plt.figure(figsize=(20,8))\n",
    "# plt.semilogx(history.history[\"lr\"], history.history[\"loss\"])\n",
    "# plt.axis([1e-4, 1e-2, 0, 10])"
   ]
  },
  {
   "cell_type": "markdown",
   "id": "8ac1403a",
   "metadata": {},
   "source": [
    "# Final Model Build"
   ]
  },
  {
   "cell_type": "code",
   "execution_count": null,
   "id": "8787adfb",
   "metadata": {},
   "outputs": [],
   "source": [
    "#### Clear Session part & random.seeds()\n",
    "tf.keras.backend.clear_session()\n",
    "tf.random.set_seed(99)"
   ]
  },
  {
   "cell_type": "code",
   "execution_count": null,
   "id": "b4fd0c8f",
   "metadata": {},
   "outputs": [],
   "source": [
    "model.compile(loss=tf.keras.losses.MeanSquaredError(),\n",
    "              optimizer=Adam(1e-4),\n",
    "              metrics=['mae'])"
   ]
  },
  {
   "cell_type": "code",
   "execution_count": null,
   "id": "84a780fa",
   "metadata": {},
   "outputs": [],
   "source": [
    "log_dir = \"logs\\\\\" + datetime.datetime.now().strftime(\"%d-%m-%Y_%H%M%S\")\n",
    "\n",
    "tensorboard_callback = [\n",
    "#                         tf.keras.callbacks.TensorBoard(log_dir=log_dir, histogram_freq=1),\n",
    "#                         ModelCheckpoint(model_path, verbose=1, save_best_only=True),\n",
    "#                         ReduceLROnPlateau(monitor= \"val_mae\", factor=0.1, patience=5, min_lr=1e-7, verbose=1),\n",
    "                        ReduceLROnPlateau(monitor='val_mae', factor=0.2,patience=5, min_lr=1e-6, verbose=1),\n",
    "#                         CSVLogger(csv_path),\n",
    "                        TensorBoard(),\n",
    "                        EarlyStopping(monitor= \"val_mae\", patience=10, restore_best_weights=True)\n",
    "                       ]"
   ]
  },
  {
   "cell_type": "code",
   "execution_count": null,
   "id": "9e315142",
   "metadata": {},
   "outputs": [],
   "source": [
    "history = model.fit(Xtrain, Ytrain,batch_size=128, epochs=100, verbose=1,validation_data=(Xvalid, Yvalid), callbacks=tensorboard_callback)"
   ]
  },
  {
   "cell_type": "code",
   "execution_count": null,
   "id": "d3f9530e",
   "metadata": {},
   "outputs": [],
   "source": [
    "model.summary()"
   ]
  },
  {
   "cell_type": "code",
   "execution_count": null,
   "id": "878e7081",
   "metadata": {},
   "outputs": [],
   "source": [
    "#Showing training and validation loss\n",
    "history_dict = history.history\n",
    "loss_values = history_dict['loss']\n",
    "val_loss_values = history_dict['val_loss']\n",
    "loss_values50 = loss_values[0:150]\n",
    "val_loss_values50 = val_loss_values[0:150]\n",
    "epochs = range(1, len(loss_values50) + 1)\n",
    "plt.plot(epochs, loss_values50, label='Training Loss')\n",
    "plt.plot(epochs, val_loss_values50, label='Validation Loss')\n",
    "plt.rc('font', size = 14)\n",
    "plt.title('Training and validation loss')\n",
    "plt.xlabel('Epochs')\n",
    "plt.ylabel('Loss')\n",
    "plt.legend()\n",
    "plt.xticks(epochs)\n",
    "plt.xticks(np.arange(min(epochs), max(epochs)+1, 10.0))\n",
    "#fig.savefig('test&validationlosscnn.png', dpi=300)\n",
    "plt.show()"
   ]
  },
  {
   "cell_type": "code",
   "execution_count": null,
   "id": "2a507624",
   "metadata": {},
   "outputs": [],
   "source": [
    "loss_values = history_dict['mae']\n",
    "val_loss_values = history_dict['val_mae']\n",
    "loss_values50 = loss_values[0:150]\n",
    "val_loss_values50 = val_loss_values[0:150]\n",
    "epochs = range(1, len(loss_values50) + 1)\n",
    "plt.plot(epochs, loss_values50, label='Training MAE')\n",
    "plt.plot(epochs, val_loss_values50, label='Validation MAE')\n",
    "plt.rc('font', size = 14)\n",
    "plt.title('Training and Validation MAE')\n",
    "plt.xlabel('Epochs')\n",
    "plt.ylabel('MAE')\n",
    "plt.legend()\n",
    "plt.xticks(epochs)\n",
    "plt.xticks(np.arange(min(epochs), max(epochs)+1, 10.0))\n",
    "#fig.savefig('test&validationlosscnn.png', dpi=300)\n",
    "plt.show()"
   ]
  },
  {
   "cell_type": "code",
   "execution_count": null,
   "id": "7b591715",
   "metadata": {},
   "outputs": [],
   "source": [
    "#Evaluating model\n",
    "trainScore = model.evaluate(Xtrain, Ytrain, verbose=1)\n",
    "validScore = model.evaluate(Xvalid, Yvalid, verbose=1)\n",
    "testScore = model.evaluate(Xtest, Ytest, verbose=1)"
   ]
  },
  {
   "cell_type": "code",
   "execution_count": null,
   "id": "b50db779",
   "metadata": {},
   "outputs": [],
   "source": [
    "testScore, validScore, trainScore"
   ]
  },
  {
   "cell_type": "code",
   "execution_count": null,
   "id": "ddf4f3e0",
   "metadata": {},
   "outputs": [],
   "source": [
    "preds = model.predict(Xtest)"
   ]
  },
  {
   "cell_type": "code",
   "execution_count": null,
   "id": "c99e882b",
   "metadata": {},
   "outputs": [],
   "source": [
    "Xtest.shape"
   ]
  },
  {
   "cell_type": "code",
   "execution_count": null,
   "id": "a7281a7e",
   "metadata": {},
   "outputs": [],
   "source": [
    "\n",
    "plt.figure(figsize=(15,5))\n",
    "plt.title('MSE: {}'.format(trainScore[0]))\n",
    "plt.plot(Ytest, label='Real')\n",
    "plt.plot(preds, label='Prediction')\n",
    "\n",
    "plt.legend(loc=\"best\")\n",
    "\n",
    "#for saving figures\n",
    "plt.savefig('NonScalerGraph.png')\n",
    "plt.show()"
   ]
  },
  {
   "cell_type": "code",
   "execution_count": null,
   "id": "37ed4fc8",
   "metadata": {},
   "outputs": [],
   "source": [
    "#denormalizing datasets\n",
    "# preds = scaler.inverse_transform(preds)\n",
    "# Ytest = scaler.inverse_transform(Ytest)"
   ]
  },
  {
   "cell_type": "code",
   "execution_count": null,
   "id": "470db8e2",
   "metadata": {},
   "outputs": [],
   "source": [
    "#Show Train and Test Scores\n",
    "print('Train MSE \\t Train RMSE \\t Train MAE \\t Testscore RMSE \\tTest MSE \\tTest MAE')\n",
    "print('%.9f \\t %.9f \\t %.9f \\t %.9f \\t \\t %.9f \\t %.9f' % (trainScore[0], math.sqrt(trainScore[0]),trainScore[1],math.sqrt(testScore[0]),testScore[0],testScore[1]))"
   ]
  },
  {
   "cell_type": "code",
   "execution_count": null,
   "id": "73431457",
   "metadata": {},
   "outputs": [],
   "source": [
    "print('MAE \\t\\t MAPE')\n",
    "print('%.4f \\t\\t %.4f' % (mean_absolute_error(Ytest,preds),(np.mean(np.abs((Ytest - preds) / Ytest)) * 100)))"
   ]
  },
  {
   "cell_type": "code",
   "execution_count": null,
   "id": "b1a113b8",
   "metadata": {},
   "outputs": [],
   "source": []
  },
  {
   "cell_type": "code",
   "execution_count": null,
   "id": "fdbfe886",
   "metadata": {},
   "outputs": [],
   "source": []
  }
 ],
 "metadata": {
  "kernelspec": {
   "display_name": "tf1",
   "language": "python",
   "name": "tf1"
  },
  "language_info": {
   "codemirror_mode": {
    "name": "ipython",
    "version": 3
   },
   "file_extension": ".py",
   "mimetype": "text/x-python",
   "name": "python",
   "nbconvert_exporter": "python",
   "pygments_lexer": "ipython3",
   "version": "3.10.6"
  }
 },
 "nbformat": 4,
 "nbformat_minor": 5
}
