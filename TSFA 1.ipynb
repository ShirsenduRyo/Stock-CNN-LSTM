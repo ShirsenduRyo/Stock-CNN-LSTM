{
 "cells": [
  {
   "cell_type": "markdown",
   "id": "b8dc11ef",
   "metadata": {},
   "source": [
    "# The Packages"
   ]
  },
  {
   "cell_type": "code",
   "execution_count": 1,
   "id": "b8cd3bb5",
   "metadata": {},
   "outputs": [],
   "source": [
    "import numpy as np\n",
    "import pandas as pd\n",
    "import os\n",
    "import gc\n",
    "import warnings"
   ]
  },
  {
   "cell_type": "code",
   "execution_count": 2,
   "id": "77568f48",
   "metadata": {},
   "outputs": [],
   "source": [
    "# PACF - ACF\n",
    "# ------------------------------------------------------\n",
    "import statsmodels.api as sm\n"
   ]
  },
  {
   "cell_type": "code",
   "execution_count": 3,
   "id": "9837a66b",
   "metadata": {},
   "outputs": [],
   "source": [
    "# DATA VISUALIZATION\n",
    "# ------------------------------------------------------\n",
    "import matplotlib.pyplot as plt\n",
    "import seaborn as sns\n",
    "import plotly.express as px\n"
   ]
  },
  {
   "cell_type": "code",
   "execution_count": 4,
   "id": "15a50b20",
   "metadata": {},
   "outputs": [],
   "source": [
    "# CONFIGURATIONS\n",
    "# ------------------------------------------------------\n",
    "pd.set_option('display.max_columns', None)\n",
    "pd.options.display.float_format = '{:.2f}'.format\n",
    "warnings.filterwarnings('ignore')"
   ]
  },
  {
   "cell_type": "markdown",
   "id": "857dcd1c",
   "metadata": {},
   "source": [
    "# Utility Functions"
   ]
  },
  {
   "cell_type": "code",
   "execution_count": 5,
   "id": "03396c06",
   "metadata": {},
   "outputs": [],
   "source": [
    "def plot_series(time, series, lab, form='-', start=0, end=None):\n",
    "    plt.plot(time[start:end], series[start:end], form, label=lab)\n",
    "    plt.xlabel(\"Date\")\n",
    "    plt.ylabel(\"Price\")\n",
    "    plt.grid(True)"
   ]
  },
  {
   "cell_type": "markdown",
   "id": "63ac3c46",
   "metadata": {},
   "source": [
    "# The Data"
   ]
  },
  {
   "cell_type": "code",
   "execution_count": 6,
   "id": "b8f77ce0",
   "metadata": {},
   "outputs": [],
   "source": [
    "wfc = pd.read_csv('Dataset/WFC Daily1.csv')"
   ]
  },
  {
   "cell_type": "code",
   "execution_count": 7,
   "id": "ad202701",
   "metadata": {},
   "outputs": [
    {
     "data": {
      "text/html": [
       "<div>\n",
       "<style scoped>\n",
       "    .dataframe tbody tr th:only-of-type {\n",
       "        vertical-align: middle;\n",
       "    }\n",
       "\n",
       "    .dataframe tbody tr th {\n",
       "        vertical-align: top;\n",
       "    }\n",
       "\n",
       "    .dataframe thead th {\n",
       "        text-align: right;\n",
       "    }\n",
       "</style>\n",
       "<table border=\"1\" class=\"dataframe\">\n",
       "  <thead>\n",
       "    <tr style=\"text-align: right;\">\n",
       "      <th></th>\n",
       "      <th>Date</th>\n",
       "      <th>Open</th>\n",
       "      <th>High</th>\n",
       "      <th>Low</th>\n",
       "      <th>Close</th>\n",
       "      <th>Adj Close</th>\n",
       "      <th>Volume</th>\n",
       "    </tr>\n",
       "  </thead>\n",
       "  <tbody>\n",
       "    <tr>\n",
       "      <th>0</th>\n",
       "      <td>2000-01-03</td>\n",
       "      <td>20.16</td>\n",
       "      <td>20.19</td>\n",
       "      <td>19.00</td>\n",
       "      <td>19.56</td>\n",
       "      <td>10.44</td>\n",
       "      <td>9037000</td>\n",
       "    </tr>\n",
       "    <tr>\n",
       "      <th>1</th>\n",
       "      <td>2000-01-04</td>\n",
       "      <td>18.62</td>\n",
       "      <td>18.84</td>\n",
       "      <td>18.00</td>\n",
       "      <td>18.59</td>\n",
       "      <td>9.92</td>\n",
       "      <td>15237200</td>\n",
       "    </tr>\n",
       "    <tr>\n",
       "      <th>2</th>\n",
       "      <td>2000-01-05</td>\n",
       "      <td>18.50</td>\n",
       "      <td>18.88</td>\n",
       "      <td>18.03</td>\n",
       "      <td>18.41</td>\n",
       "      <td>9.82</td>\n",
       "      <td>8228200</td>\n",
       "    </tr>\n",
       "    <tr>\n",
       "      <th>3</th>\n",
       "      <td>2000-01-06</td>\n",
       "      <td>18.53</td>\n",
       "      <td>19.50</td>\n",
       "      <td>18.47</td>\n",
       "      <td>19.22</td>\n",
       "      <td>10.25</td>\n",
       "      <td>8326800</td>\n",
       "    </tr>\n",
       "    <tr>\n",
       "      <th>4</th>\n",
       "      <td>2000-01-07</td>\n",
       "      <td>19.62</td>\n",
       "      <td>19.84</td>\n",
       "      <td>19.28</td>\n",
       "      <td>19.56</td>\n",
       "      <td>10.44</td>\n",
       "      <td>7711200</td>\n",
       "    </tr>\n",
       "  </tbody>\n",
       "</table>\n",
       "</div>"
      ],
      "text/plain": [
       "         Date  Open  High   Low  Close  Adj Close    Volume\n",
       "0  2000-01-03 20.16 20.19 19.00  19.56      10.44   9037000\n",
       "1  2000-01-04 18.62 18.84 18.00  18.59       9.92  15237200\n",
       "2  2000-01-05 18.50 18.88 18.03  18.41       9.82   8228200\n",
       "3  2000-01-06 18.53 19.50 18.47  19.22      10.25   8326800\n",
       "4  2000-01-07 19.62 19.84 19.28  19.56      10.44   7711200"
      ]
     },
     "execution_count": 7,
     "metadata": {},
     "output_type": "execute_result"
    }
   ],
   "source": [
    "wfc.head()"
   ]
  },
  {
   "cell_type": "code",
   "execution_count": 8,
   "id": "a5831b2d",
   "metadata": {},
   "outputs": [
    {
     "data": {
      "text/plain": [
       "dtype('O')"
      ]
     },
     "execution_count": 8,
     "metadata": {},
     "output_type": "execute_result"
    }
   ],
   "source": [
    "wfc.Date.dtype"
   ]
  },
  {
   "cell_type": "code",
   "execution_count": 9,
   "id": "85f91b01",
   "metadata": {},
   "outputs": [],
   "source": [
    "wfc['Date'] = pd.to_datetime(wfc['Date'])\n",
    "# wfc.set_index(['Date'],inplace=True)"
   ]
  },
  {
   "cell_type": "code",
   "execution_count": 10,
   "id": "3899b716",
   "metadata": {},
   "outputs": [
    {
     "data": {
      "text/html": [
       "<div>\n",
       "<style scoped>\n",
       "    .dataframe tbody tr th:only-of-type {\n",
       "        vertical-align: middle;\n",
       "    }\n",
       "\n",
       "    .dataframe tbody tr th {\n",
       "        vertical-align: top;\n",
       "    }\n",
       "\n",
       "    .dataframe thead th {\n",
       "        text-align: right;\n",
       "    }\n",
       "</style>\n",
       "<table border=\"1\" class=\"dataframe\">\n",
       "  <thead>\n",
       "    <tr style=\"text-align: right;\">\n",
       "      <th></th>\n",
       "      <th>Date</th>\n",
       "      <th>Open</th>\n",
       "      <th>High</th>\n",
       "      <th>Low</th>\n",
       "      <th>Close</th>\n",
       "      <th>Adj Close</th>\n",
       "      <th>Volume</th>\n",
       "    </tr>\n",
       "  </thead>\n",
       "  <tbody>\n",
       "    <tr>\n",
       "      <th>0</th>\n",
       "      <td>2000-01-03</td>\n",
       "      <td>20.16</td>\n",
       "      <td>20.19</td>\n",
       "      <td>19.00</td>\n",
       "      <td>19.56</td>\n",
       "      <td>10.44</td>\n",
       "      <td>9037000</td>\n",
       "    </tr>\n",
       "    <tr>\n",
       "      <th>1</th>\n",
       "      <td>2000-01-04</td>\n",
       "      <td>18.62</td>\n",
       "      <td>18.84</td>\n",
       "      <td>18.00</td>\n",
       "      <td>18.59</td>\n",
       "      <td>9.92</td>\n",
       "      <td>15237200</td>\n",
       "    </tr>\n",
       "    <tr>\n",
       "      <th>2</th>\n",
       "      <td>2000-01-05</td>\n",
       "      <td>18.50</td>\n",
       "      <td>18.88</td>\n",
       "      <td>18.03</td>\n",
       "      <td>18.41</td>\n",
       "      <td>9.82</td>\n",
       "      <td>8228200</td>\n",
       "    </tr>\n",
       "    <tr>\n",
       "      <th>3</th>\n",
       "      <td>2000-01-06</td>\n",
       "      <td>18.53</td>\n",
       "      <td>19.50</td>\n",
       "      <td>18.47</td>\n",
       "      <td>19.22</td>\n",
       "      <td>10.25</td>\n",
       "      <td>8326800</td>\n",
       "    </tr>\n",
       "    <tr>\n",
       "      <th>4</th>\n",
       "      <td>2000-01-07</td>\n",
       "      <td>19.62</td>\n",
       "      <td>19.84</td>\n",
       "      <td>19.28</td>\n",
       "      <td>19.56</td>\n",
       "      <td>10.44</td>\n",
       "      <td>7711200</td>\n",
       "    </tr>\n",
       "  </tbody>\n",
       "</table>\n",
       "</div>"
      ],
      "text/plain": [
       "        Date  Open  High   Low  Close  Adj Close    Volume\n",
       "0 2000-01-03 20.16 20.19 19.00  19.56      10.44   9037000\n",
       "1 2000-01-04 18.62 18.84 18.00  18.59       9.92  15237200\n",
       "2 2000-01-05 18.50 18.88 18.03  18.41       9.82   8228200\n",
       "3 2000-01-06 18.53 19.50 18.47  19.22      10.25   8326800\n",
       "4 2000-01-07 19.62 19.84 19.28  19.56      10.44   7711200"
      ]
     },
     "execution_count": 10,
     "metadata": {},
     "output_type": "execute_result"
    }
   ],
   "source": [
    "wfc.head()"
   ]
  },
  {
   "cell_type": "code",
   "execution_count": 11,
   "id": "74d869dd",
   "metadata": {},
   "outputs": [
    {
     "name": "stdout",
     "output_type": "stream",
     "text": [
      "<class 'pandas.core.frame.DataFrame'>\n",
      "RangeIndex: 5754 entries, 0 to 5753\n",
      "Data columns (total 7 columns):\n",
      " #   Column     Non-Null Count  Dtype         \n",
      "---  ------     --------------  -----         \n",
      " 0   Date       5754 non-null   datetime64[ns]\n",
      " 1   Open       5754 non-null   float64       \n",
      " 2   High       5754 non-null   float64       \n",
      " 3   Low        5754 non-null   float64       \n",
      " 4   Close      5754 non-null   float64       \n",
      " 5   Adj Close  5754 non-null   float64       \n",
      " 6   Volume     5754 non-null   int64         \n",
      "dtypes: datetime64[ns](1), float64(5), int64(1)\n",
      "memory usage: 314.8 KB\n"
     ]
    }
   ],
   "source": [
    "wfc.info()"
   ]
  },
  {
   "cell_type": "code",
   "execution_count": 12,
   "id": "5d6e0574",
   "metadata": {},
   "outputs": [
    {
     "data": {
      "text/plain": [
       "pandas.core.frame.DataFrame"
      ]
     },
     "execution_count": 12,
     "metadata": {},
     "output_type": "execute_result"
    }
   ],
   "source": [
    "type(wfc)"
   ]
  },
  {
   "cell_type": "markdown",
   "id": "9ce475f3",
   "metadata": {},
   "source": [
    "# The Split"
   ]
  },
  {
   "cell_type": "code",
   "execution_count": 13,
   "id": "e661e0c8",
   "metadata": {},
   "outputs": [
    {
     "name": "stdout",
     "output_type": "stream",
     "text": [
      "Min: 2000-01-03 00:00:00 Max: 2022-11-11 00:00:00\n"
     ]
    }
   ],
   "source": [
    "min_date = wfc.Date.min()\n",
    "max_date = wfc.Date.max()\n",
    "print(\"Min:\", min_date, \"Max:\", max_date)"
   ]
  },
  {
   "cell_type": "code",
   "execution_count": 14,
   "id": "6f85dd45",
   "metadata": {},
   "outputs": [
    {
     "name": "stdout",
     "output_type": "stream",
     "text": [
      "Training Cutoff Date: 2016-01-02 14:23:59.999999936\n",
      "Validation Cutoff Date: 2019-06-07 19:12:00\n"
     ]
    }
   ],
   "source": [
    "train_percent = .70\n",
    "valid_percent = .15\n",
    "\n",
    "time_between = max_date - min_date\n",
    "\n",
    "train_cutoff = min_date + train_percent*time_between\n",
    "valid_cutoff = min_date + (train_percent + valid_percent)*time_between\n",
    "\n",
    "print(\"Training Cutoff Date: {:s}\".format(str(train_cutoff)))\n",
    "print(\"Validation Cutoff Date: {:s}\".format(str(valid_cutoff)))\n"
   ]
  },
  {
   "cell_type": "code",
   "execution_count": 15,
   "id": "2e97e576",
   "metadata": {},
   "outputs": [],
   "source": [
    "\n",
    "train_df = wfc[wfc.Date <= train_cutoff]\n",
    "valid_df = wfc[(wfc.Date > train_cutoff) & (wfc.Date <= valid_cutoff)]\n",
    "test_df = wfc[wfc.Date > valid_cutoff]\n"
   ]
  },
  {
   "cell_type": "code",
   "execution_count": 16,
   "id": "1324de0f",
   "metadata": {},
   "outputs": [
    {
     "data": {
      "text/plain": [
       "((4025, 7), (863, 7), (866, 7))"
      ]
     },
     "execution_count": 16,
     "metadata": {},
     "output_type": "execute_result"
    }
   ],
   "source": [
    "train_df.shape, valid_df.shape, test_df.shape"
   ]
  },
  {
   "cell_type": "code",
   "execution_count": 17,
   "id": "8e2b1211",
   "metadata": {},
   "outputs": [
    {
     "ename": "NameError",
     "evalue": "name 'end' is not defined",
     "output_type": "error",
     "traceback": [
      "\u001b[1;31m---------------------------------------------------------------------------\u001b[0m",
      "\u001b[1;31mNameError\u001b[0m                                 Traceback (most recent call last)",
      "Cell \u001b[1;32mIn [17], line 1\u001b[0m\n\u001b[1;32m----> 1\u001b[0m \u001b[43mend\u001b[49m()\n",
      "\u001b[1;31mNameError\u001b[0m: name 'end' is not defined"
     ]
    }
   ],
   "source": [
    "end()"
   ]
  },
  {
   "cell_type": "code",
   "execution_count": null,
   "id": "5b3871ec",
   "metadata": {},
   "outputs": [],
   "source": []
  },
  {
   "cell_type": "code",
   "execution_count": null,
   "id": "47c6f10c",
   "metadata": {},
   "outputs": [],
   "source": []
  },
  {
   "cell_type": "code",
   "execution_count": null,
   "id": "fa73c31e",
   "metadata": {},
   "outputs": [],
   "source": []
  },
  {
   "cell_type": "code",
   "execution_count": null,
   "id": "1b63d498",
   "metadata": {},
   "outputs": [],
   "source": [
    "train_dataset, cross_validation_dataset, dev_dataset = splitDataset(wfc)\n",
    "\n",
    "print(\"Dataset shape: {:s}\".format(str(wfc.values.shape)))\n",
    "print(\"Train dataset shape: {:s}\".format(str(train_dataset.shape)))\n",
    "print(\"Cross validation dataset shape: {:s}\".format(str(cross_validation_dataset.shape)))\n",
    "print(\"Dev dataset shape: {:s}\".format(str(dev_dataset.shape)))"
   ]
  },
  {
   "cell_type": "code",
   "execution_count": null,
   "id": "fba52a9b",
   "metadata": {},
   "outputs": [],
   "source": [
    "train_dataset"
   ]
  },
  {
   "cell_type": "code",
   "execution_count": 21,
   "id": "3044bed4",
   "metadata": {},
   "outputs": [],
   "source": [
    "def plotSeries(time, series, lab, form='-', start=0, end=None):\n",
    "    plt.plot(time[start:end], series[start:end], form, label=lab)\n",
    "    plt.xlabel(\"Date\")\n",
    "    plt.ylabel(\"Price\")\n",
    "    plt.grid(True)"
   ]
  },
  {
   "cell_type": "code",
   "execution_count": null,
   "id": "d4716898",
   "metadata": {},
   "outputs": [],
   "source": [
    "plt.figure(figsize=(18, 10))\n",
    "plotSeries(np.arange(train_dataset.shape[0]), train_dataset[:, -3], \"train dataset\")\n",
    "plotSeries(np.arange(train_dataset.shape[0], (cross_validation_dataset.shape[0] + train_dataset.shape[0])), cross_validation_dataset[:, -3], \"cross validation dataset\")\n",
    "plotSeries(np.arange((cross_validation_dataset.shape[0] + train_dataset.shape[0]), (cross_validation_dataset.shape[0]+ train_dataset.shape[0] + dev_dataset.shape[0])), dev_dataset[:, -3], \"dev dataset\")\n",
    "plt.legend(loc='lower left')"
   ]
  },
  {
   "cell_type": "markdown",
   "id": "39e7e73d",
   "metadata": {},
   "source": [
    "# Stock Price Graph"
   ]
  },
  {
   "cell_type": "code",
   "execution_count": null,
   "id": "7b98fbd2",
   "metadata": {},
   "outputs": [],
   "source": [
    "plt.figure(figsize=(18, 10))\n",
    "plot_series(np.arange(train_dataset.shape[0]), train_dataset[:, -1], \"train dataset\")\n",
    "plot_series(np.arange(train_dataset.shape[0], (cross_validation_dataset.shape[0] + train_dataset.shape[0])), cross_validation_dataset[:, -1], \"cross validation dataset\")\n",
    "plot_series(np.arange((cross_validation_dataset.shape[0] + train_dataset.shape[0]), (cross_validation_dataset.shape[0]+ train_dataset.shape[0] + dev_dataset.shape[0])), dev_dataset[:, -1], \"dev dataset\")\n",
    "plt.legend(loc='lower left')"
   ]
  },
  {
   "cell_type": "code",
   "execution_count": 24,
   "id": "3f877dc1",
   "metadata": {},
   "outputs": [
    {
     "data": {
      "text/html": [
       "<div>\n",
       "<style scoped>\n",
       "    .dataframe tbody tr th:only-of-type {\n",
       "        vertical-align: middle;\n",
       "    }\n",
       "\n",
       "    .dataframe tbody tr th {\n",
       "        vertical-align: top;\n",
       "    }\n",
       "\n",
       "    .dataframe thead th {\n",
       "        text-align: right;\n",
       "    }\n",
       "</style>\n",
       "<table border=\"1\" class=\"dataframe\">\n",
       "  <thead>\n",
       "    <tr style=\"text-align: right;\">\n",
       "      <th></th>\n",
       "      <th>Date</th>\n",
       "      <th>Open</th>\n",
       "      <th>High</th>\n",
       "      <th>Low</th>\n",
       "      <th>Close</th>\n",
       "      <th>Adj Close</th>\n",
       "      <th>Volume</th>\n",
       "    </tr>\n",
       "  </thead>\n",
       "  <tbody>\n",
       "    <tr>\n",
       "      <th>0</th>\n",
       "      <td>2000-01-03</td>\n",
       "      <td>20.16</td>\n",
       "      <td>20.19</td>\n",
       "      <td>19.00</td>\n",
       "      <td>19.56</td>\n",
       "      <td>10.44</td>\n",
       "      <td>9037000</td>\n",
       "    </tr>\n",
       "    <tr>\n",
       "      <th>1</th>\n",
       "      <td>2000-01-04</td>\n",
       "      <td>18.62</td>\n",
       "      <td>18.84</td>\n",
       "      <td>18.00</td>\n",
       "      <td>18.59</td>\n",
       "      <td>9.92</td>\n",
       "      <td>15237200</td>\n",
       "    </tr>\n",
       "    <tr>\n",
       "      <th>2</th>\n",
       "      <td>2000-01-05</td>\n",
       "      <td>18.50</td>\n",
       "      <td>18.88</td>\n",
       "      <td>18.03</td>\n",
       "      <td>18.41</td>\n",
       "      <td>9.82</td>\n",
       "      <td>8228200</td>\n",
       "    </tr>\n",
       "    <tr>\n",
       "      <th>3</th>\n",
       "      <td>2000-01-06</td>\n",
       "      <td>18.53</td>\n",
       "      <td>19.50</td>\n",
       "      <td>18.47</td>\n",
       "      <td>19.22</td>\n",
       "      <td>10.25</td>\n",
       "      <td>8326800</td>\n",
       "    </tr>\n",
       "    <tr>\n",
       "      <th>4</th>\n",
       "      <td>2000-01-07</td>\n",
       "      <td>19.62</td>\n",
       "      <td>19.84</td>\n",
       "      <td>19.28</td>\n",
       "      <td>19.56</td>\n",
       "      <td>10.44</td>\n",
       "      <td>7711200</td>\n",
       "    </tr>\n",
       "  </tbody>\n",
       "</table>\n",
       "</div>"
      ],
      "text/plain": [
       "        Date  Open  High   Low  Close  Adj Close    Volume\n",
       "0 2000-01-03 20.16 20.19 19.00  19.56      10.44   9037000\n",
       "1 2000-01-04 18.62 18.84 18.00  18.59       9.92  15237200\n",
       "2 2000-01-05 18.50 18.88 18.03  18.41       9.82   8228200\n",
       "3 2000-01-06 18.53 19.50 18.47  19.22      10.25   8326800\n",
       "4 2000-01-07 19.62 19.84 19.28  19.56      10.44   7711200"
      ]
     },
     "execution_count": 24,
     "metadata": {},
     "output_type": "execute_result"
    }
   ],
   "source": [
    "train_df.head()"
   ]
  },
  {
   "cell_type": "code",
   "execution_count": 27,
   "id": "7dc86c77",
   "metadata": {},
   "outputs": [
    {
     "data": {
      "text/plain": [
       "[<matplotlib.lines.Line2D at 0x219a7ca9330>]"
      ]
     },
     "execution_count": 27,
     "metadata": {},
     "output_type": "execute_result"
    },
    {
     "data": {
      "image/png": "[encoded data removed]",
      "text/plain": [
       "<Figure size 640x480 with 1 Axes>"
      ]
     },
     "metadata": {},
     "output_type": "display_data"
    }
   ],
   "source": [
    "plt.plot(train_df.Date,train_df.Close)\n",
    "plt.plot(valid_df.Date,valid_df.Close)\n",
    "plt.plot(test_df.Date,test_df.Close)\n"
   ]
  },
  {
   "cell_type": "code",
   "execution_count": null,
   "id": "7b9d1f45",
   "metadata": {},
   "outputs": [],
   "source": []
  }
 ],
 "metadata": {
  "kernelspec": {
   "display_name": "tf1",
   "language": "python",
   "name": "tf1"
  },
  "language_info": {
   "codemirror_mode": {
    "name": "ipython",
    "version": 3
   },
   "file_extension": ".py",
   "mimetype": "text/x-python",
   "name": "python",
   "nbconvert_exporter": "python",
   "pygments_lexer": "ipython3",
   "version": "3.10.6"
  }
 },
 "nbformat": 4,
 "nbformat_minor": 5
}
