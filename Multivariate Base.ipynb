{
 "cells": [
  {
   "cell_type": "markdown",
   "id": "b8dc11ef",
   "metadata": {},
   "source": [
    "# The Packages"
   ]
  },
  {
   "cell_type": "code",
   "execution_count": 1,
   "id": "b8cd3bb5",
   "metadata": {},
   "outputs": [],
   "source": [
    "import numpy as np\n",
    "import pandas as pd\n",
    "import os\n",
    "import gc\n",
    "import datetime\n",
    "import warnings"
   ]
  },
  {
   "cell_type": "code",
   "execution_count": 2,
   "id": "77568f48",
   "metadata": {},
   "outputs": [],
   "source": [
    "\n",
    "import statsmodels.api as sm\n",
    "from datetime import date"
   ]
  },
  {
   "cell_type": "code",
   "execution_count": 3,
   "id": "3777791b",
   "metadata": {},
   "outputs": [],
   "source": [
    "from sklearn.preprocessing import MinMaxScaler\n",
    "from sklearn.metrics import mean_squared_error, mean_absolute_error"
   ]
  },
  {
   "cell_type": "code",
   "execution_count": 4,
   "id": "98ea5e9d",
   "metadata": {},
   "outputs": [],
   "source": [
    "import tensorflow as tf\n",
    "import math \n",
    "# keras = tf.keras\n",
    "from tensorflow.keras.optimizers import Adam\n",
    "from tensorflow.keras.layers import LSTM\n",
    "from tensorflow.keras import losses\n",
    "from tensorflow import keras\n",
    "from tensorflow.keras.callbacks import ModelCheckpoint, CSVLogger, ReduceLROnPlateau, EarlyStopping, TensorBoard\n",
    "from tensorflow.keras.utils import plot_model"
   ]
  },
  {
   "cell_type": "code",
   "execution_count": 5,
   "id": "a724b59c",
   "metadata": {},
   "outputs": [
    {
     "data": {
      "text/plain": [
       "'2.10.1'"
      ]
     },
     "execution_count": 5,
     "metadata": {},
     "output_type": "execute_result"
    }
   ],
   "source": [
    "tf.__version__"
   ]
  },
  {
   "cell_type": "code",
   "execution_count": 6,
   "id": "9837a66b",
   "metadata": {},
   "outputs": [],
   "source": [
    "# DATA VISUALIZATION\n",
    "# ------------------------------------------------------\n",
    "import matplotlib.pyplot as plt\n",
    "import seaborn as sns\n",
    "plt.rcParams['figure.figsize'] = (20.0, 10.0)\n",
    "sns.set_style(\"darkgrid\")\n",
    "sns.color_palette(\"mako\", as_cmap=True)\n",
    "import plotly.express as px\n"
   ]
  },
  {
   "cell_type": "code",
   "execution_count": 7,
   "id": "15a50b20",
   "metadata": {},
   "outputs": [],
   "source": [
    "# CONFIGURATIONS\n",
    "# ------------------------------------------------------\n",
    "pd.set_option('display.max_columns', None)\n",
    "pd.options.display.float_format = '{:.2f}'.format\n",
    "warnings.filterwarnings('ignore')"
   ]
  },
  {
   "cell_type": "markdown",
   "id": "aa5865e8",
   "metadata": {},
   "source": [
    "# Utility Functions"
   ]
  },
  {
   "cell_type": "code",
   "execution_count": 8,
   "id": "9e95a2a6",
   "metadata": {},
   "outputs": [],
   "source": [
    "def plotSeries(time, series, lab,form='-'):\n",
    "    plt.plot(time, series, form, label=lab)\n",
    "    plt.xlabel(\"Date\")\n",
    "    plt.ylabel(\"Close Price\")\n",
    "    plt.grid(True)"
   ]
  },
  {
   "cell_type": "code",
   "execution_count": null,
   "id": "e3006ce7",
   "metadata": {},
   "outputs": [],
   "source": []
  },
  {
   "cell_type": "markdown",
   "id": "63ac3c46",
   "metadata": {},
   "source": [
    "# The Data"
   ]
  },
  {
   "cell_type": "code",
   "execution_count": 9,
   "id": "b8f77ce0",
   "metadata": {},
   "outputs": [],
   "source": [
    "wfc = pd.read_csv('Dataset/WFC Daily1.csv')"
   ]
  },
  {
   "cell_type": "code",
   "execution_count": 10,
   "id": "ad202701",
   "metadata": {},
   "outputs": [
    {
     "data": {
      "text/html": [
       "<div>\n",
       "<style scoped>\n",
       "    .dataframe tbody tr th:only-of-type {\n",
       "        vertical-align: middle;\n",
       "    }\n",
       "\n",
       "    .dataframe tbody tr th {\n",
       "        vertical-align: top;\n",
       "    }\n",
       "\n",
       "    .dataframe thead th {\n",
       "        text-align: right;\n",
       "    }\n",
       "</style>\n",
       "<table border=\"1\" class=\"dataframe\">\n",
       "  <thead>\n",
       "    <tr style=\"text-align: right;\">\n",
       "      <th></th>\n",
       "      <th>Date</th>\n",
       "      <th>Open</th>\n",
       "      <th>High</th>\n",
       "      <th>Low</th>\n",
       "      <th>Close</th>\n",
       "      <th>Adj Close</th>\n",
       "      <th>Volume</th>\n",
       "    </tr>\n",
       "  </thead>\n",
       "  <tbody>\n",
       "    <tr>\n",
       "      <th>0</th>\n",
       "      <td>2000-01-03</td>\n",
       "      <td>20.16</td>\n",
       "      <td>20.19</td>\n",
       "      <td>19.00</td>\n",
       "      <td>19.56</td>\n",
       "      <td>10.44</td>\n",
       "      <td>9037000</td>\n",
       "    </tr>\n",
       "    <tr>\n",
       "      <th>1</th>\n",
       "      <td>2000-01-04</td>\n",
       "      <td>18.62</td>\n",
       "      <td>18.84</td>\n",
       "      <td>18.00</td>\n",
       "      <td>18.59</td>\n",
       "      <td>9.92</td>\n",
       "      <td>15237200</td>\n",
       "    </tr>\n",
       "    <tr>\n",
       "      <th>2</th>\n",
       "      <td>2000-01-05</td>\n",
       "      <td>18.50</td>\n",
       "      <td>18.88</td>\n",
       "      <td>18.03</td>\n",
       "      <td>18.41</td>\n",
       "      <td>9.82</td>\n",
       "      <td>8228200</td>\n",
       "    </tr>\n",
       "    <tr>\n",
       "      <th>3</th>\n",
       "      <td>2000-01-06</td>\n",
       "      <td>18.53</td>\n",
       "      <td>19.50</td>\n",
       "      <td>18.47</td>\n",
       "      <td>19.22</td>\n",
       "      <td>10.25</td>\n",
       "      <td>8326800</td>\n",
       "    </tr>\n",
       "    <tr>\n",
       "      <th>4</th>\n",
       "      <td>2000-01-07</td>\n",
       "      <td>19.62</td>\n",
       "      <td>19.84</td>\n",
       "      <td>19.28</td>\n",
       "      <td>19.56</td>\n",
       "      <td>10.44</td>\n",
       "      <td>7711200</td>\n",
       "    </tr>\n",
       "  </tbody>\n",
       "</table>\n",
       "</div>"
      ],
      "text/plain": [
       "         Date  Open  High   Low  Close  Adj Close    Volume\n",
       "0  2000-01-03 20.16 20.19 19.00  19.56      10.44   9037000\n",
       "1  2000-01-04 18.62 18.84 18.00  18.59       9.92  15237200\n",
       "2  2000-01-05 18.50 18.88 18.03  18.41       9.82   8228200\n",
       "3  2000-01-06 18.53 19.50 18.47  19.22      10.25   8326800\n",
       "4  2000-01-07 19.62 19.84 19.28  19.56      10.44   7711200"
      ]
     },
     "execution_count": 10,
     "metadata": {},
     "output_type": "execute_result"
    }
   ],
   "source": [
    "wfc.head()"
   ]
  },
  {
   "cell_type": "code",
   "execution_count": 11,
   "id": "a5831b2d",
   "metadata": {},
   "outputs": [
    {
     "data": {
      "text/plain": [
       "dtype('O')"
      ]
     },
     "execution_count": 11,
     "metadata": {},
     "output_type": "execute_result"
    }
   ],
   "source": [
    "wfc.Date.dtype"
   ]
  },
  {
   "cell_type": "code",
   "execution_count": 12,
   "id": "85f91b01",
   "metadata": {},
   "outputs": [],
   "source": [
    "wfc['Date'] = pd.to_datetime(wfc['Date'])\n",
    "#wfc.set_index(['Date'],inplace=True)"
   ]
  },
  {
   "cell_type": "code",
   "execution_count": 13,
   "id": "3899b716",
   "metadata": {},
   "outputs": [
    {
     "data": {
      "text/html": [
       "<div>\n",
       "<style scoped>\n",
       "    .dataframe tbody tr th:only-of-type {\n",
       "        vertical-align: middle;\n",
       "    }\n",
       "\n",
       "    .dataframe tbody tr th {\n",
       "        vertical-align: top;\n",
       "    }\n",
       "\n",
       "    .dataframe thead th {\n",
       "        text-align: right;\n",
       "    }\n",
       "</style>\n",
       "<table border=\"1\" class=\"dataframe\">\n",
       "  <thead>\n",
       "    <tr style=\"text-align: right;\">\n",
       "      <th></th>\n",
       "      <th>Date</th>\n",
       "      <th>Open</th>\n",
       "      <th>High</th>\n",
       "      <th>Low</th>\n",
       "      <th>Close</th>\n",
       "      <th>Adj Close</th>\n",
       "      <th>Volume</th>\n",
       "    </tr>\n",
       "  </thead>\n",
       "  <tbody>\n",
       "    <tr>\n",
       "      <th>0</th>\n",
       "      <td>2000-01-03</td>\n",
       "      <td>20.16</td>\n",
       "      <td>20.19</td>\n",
       "      <td>19.00</td>\n",
       "      <td>19.56</td>\n",
       "      <td>10.44</td>\n",
       "      <td>9037000</td>\n",
       "    </tr>\n",
       "    <tr>\n",
       "      <th>1</th>\n",
       "      <td>2000-01-04</td>\n",
       "      <td>18.62</td>\n",
       "      <td>18.84</td>\n",
       "      <td>18.00</td>\n",
       "      <td>18.59</td>\n",
       "      <td>9.92</td>\n",
       "      <td>15237200</td>\n",
       "    </tr>\n",
       "    <tr>\n",
       "      <th>2</th>\n",
       "      <td>2000-01-05</td>\n",
       "      <td>18.50</td>\n",
       "      <td>18.88</td>\n",
       "      <td>18.03</td>\n",
       "      <td>18.41</td>\n",
       "      <td>9.82</td>\n",
       "      <td>8228200</td>\n",
       "    </tr>\n",
       "    <tr>\n",
       "      <th>3</th>\n",
       "      <td>2000-01-06</td>\n",
       "      <td>18.53</td>\n",
       "      <td>19.50</td>\n",
       "      <td>18.47</td>\n",
       "      <td>19.22</td>\n",
       "      <td>10.25</td>\n",
       "      <td>8326800</td>\n",
       "    </tr>\n",
       "    <tr>\n",
       "      <th>4</th>\n",
       "      <td>2000-01-07</td>\n",
       "      <td>19.62</td>\n",
       "      <td>19.84</td>\n",
       "      <td>19.28</td>\n",
       "      <td>19.56</td>\n",
       "      <td>10.44</td>\n",
       "      <td>7711200</td>\n",
       "    </tr>\n",
       "  </tbody>\n",
       "</table>\n",
       "</div>"
      ],
      "text/plain": [
       "        Date  Open  High   Low  Close  Adj Close    Volume\n",
       "0 2000-01-03 20.16 20.19 19.00  19.56      10.44   9037000\n",
       "1 2000-01-04 18.62 18.84 18.00  18.59       9.92  15237200\n",
       "2 2000-01-05 18.50 18.88 18.03  18.41       9.82   8228200\n",
       "3 2000-01-06 18.53 19.50 18.47  19.22      10.25   8326800\n",
       "4 2000-01-07 19.62 19.84 19.28  19.56      10.44   7711200"
      ]
     },
     "execution_count": 13,
     "metadata": {},
     "output_type": "execute_result"
    }
   ],
   "source": [
    "wfc.head()"
   ]
  },
  {
   "cell_type": "code",
   "execution_count": 14,
   "id": "74d869dd",
   "metadata": {},
   "outputs": [
    {
     "name": "stdout",
     "output_type": "stream",
     "text": [
      "<class 'pandas.core.frame.DataFrame'>\n",
      "RangeIndex: 5754 entries, 0 to 5753\n",
      "Data columns (total 7 columns):\n",
      " #   Column     Non-Null Count  Dtype         \n",
      "---  ------     --------------  -----         \n",
      " 0   Date       5754 non-null   datetime64[ns]\n",
      " 1   Open       5754 non-null   float64       \n",
      " 2   High       5754 non-null   float64       \n",
      " 3   Low        5754 non-null   float64       \n",
      " 4   Close      5754 non-null   float64       \n",
      " 5   Adj Close  5754 non-null   float64       \n",
      " 6   Volume     5754 non-null   int64         \n",
      "dtypes: datetime64[ns](1), float64(5), int64(1)\n",
      "memory usage: 314.8 KB\n"
     ]
    }
   ],
   "source": [
    "wfc.info()"
   ]
  },
  {
   "cell_type": "code",
   "execution_count": 15,
   "id": "725de532",
   "metadata": {},
   "outputs": [
    {
     "data": {
      "text/html": [
       "<div>\n",
       "<style scoped>\n",
       "    .dataframe tbody tr th:only-of-type {\n",
       "        vertical-align: middle;\n",
       "    }\n",
       "\n",
       "    .dataframe tbody tr th {\n",
       "        vertical-align: top;\n",
       "    }\n",
       "\n",
       "    .dataframe thead th {\n",
       "        text-align: right;\n",
       "    }\n",
       "</style>\n",
       "<table border=\"1\" class=\"dataframe\">\n",
       "  <thead>\n",
       "    <tr style=\"text-align: right;\">\n",
       "      <th></th>\n",
       "      <th>Open</th>\n",
       "      <th>High</th>\n",
       "      <th>Low</th>\n",
       "      <th>Close</th>\n",
       "      <th>Adj Close</th>\n",
       "      <th>Volume</th>\n",
       "    </tr>\n",
       "  </thead>\n",
       "  <tbody>\n",
       "    <tr>\n",
       "      <th>count</th>\n",
       "      <td>5754.00</td>\n",
       "      <td>5754.00</td>\n",
       "      <td>5754.00</td>\n",
       "      <td>5754.00</td>\n",
       "      <td>5754.00</td>\n",
       "      <td>5754.00</td>\n",
       "    </tr>\n",
       "    <tr>\n",
       "      <th>mean</th>\n",
       "      <td>36.38</td>\n",
       "      <td>36.78</td>\n",
       "      <td>35.98</td>\n",
       "      <td>36.38</td>\n",
       "      <td>28.01</td>\n",
       "      <td>24313450.19</td>\n",
       "    </tr>\n",
       "    <tr>\n",
       "      <th>std</th>\n",
       "      <td>11.74</td>\n",
       "      <td>11.77</td>\n",
       "      <td>11.73</td>\n",
       "      <td>11.75</td>\n",
       "      <td>12.85</td>\n",
       "      <td>26705062.78</td>\n",
       "    </tr>\n",
       "    <tr>\n",
       "      <th>min</th>\n",
       "      <td>8.65</td>\n",
       "      <td>8.94</td>\n",
       "      <td>7.80</td>\n",
       "      <td>8.12</td>\n",
       "      <td>5.76</td>\n",
       "      <td>1774000.00</td>\n",
       "    </tr>\n",
       "    <tr>\n",
       "      <th>25%</th>\n",
       "      <td>26.71</td>\n",
       "      <td>27.20</td>\n",
       "      <td>26.25</td>\n",
       "      <td>26.74</td>\n",
       "      <td>18.01</td>\n",
       "      <td>10091200.00</td>\n",
       "    </tr>\n",
       "    <tr>\n",
       "      <th>50%</th>\n",
       "      <td>32.65</td>\n",
       "      <td>33.13</td>\n",
       "      <td>32.25</td>\n",
       "      <td>32.64</td>\n",
       "      <td>23.18</td>\n",
       "      <td>17086600.00</td>\n",
       "    </tr>\n",
       "    <tr>\n",
       "      <th>75%</th>\n",
       "      <td>47.75</td>\n",
       "      <td>48.19</td>\n",
       "      <td>47.33</td>\n",
       "      <td>47.79</td>\n",
       "      <td>41.58</td>\n",
       "      <td>29145250.00</td>\n",
       "    </tr>\n",
       "    <tr>\n",
       "      <th>max</th>\n",
       "      <td>65.89</td>\n",
       "      <td>66.31</td>\n",
       "      <td>65.66</td>\n",
       "      <td>65.93</td>\n",
       "      <td>57.96</td>\n",
       "      <td>478736600.00</td>\n",
       "    </tr>\n",
       "  </tbody>\n",
       "</table>\n",
       "</div>"
      ],
      "text/plain": [
       "         Open    High     Low   Close  Adj Close       Volume\n",
       "count 5754.00 5754.00 5754.00 5754.00    5754.00      5754.00\n",
       "mean    36.38   36.78   35.98   36.38      28.01  24313450.19\n",
       "std     11.74   11.77   11.73   11.75      12.85  26705062.78\n",
       "min      8.65    8.94    7.80    8.12       5.76   1774000.00\n",
       "25%     26.71   27.20   26.25   26.74      18.01  10091200.00\n",
       "50%     32.65   33.13   32.25   32.64      23.18  17086600.00\n",
       "75%     47.75   48.19   47.33   47.79      41.58  29145250.00\n",
       "max     65.89   66.31   65.66   65.93      57.96 478736600.00"
      ]
     },
     "execution_count": 15,
     "metadata": {},
     "output_type": "execute_result"
    }
   ],
   "source": [
    "wfc.describe()"
   ]
  },
  {
   "cell_type": "code",
   "execution_count": 16,
   "id": "d4ce26e5",
   "metadata": {},
   "outputs": [
    {
     "data": {
      "text/html": [
       "<style type=\"text/css\">\n",
       "#T_4fc2a_row0_col0, #T_4fc2a_row0_col1, #T_4fc2a_row0_col2, #T_4fc2a_row0_col3, #T_4fc2a_row1_col0, #T_4fc2a_row1_col1, #T_4fc2a_row1_col2, #T_4fc2a_row1_col3, #T_4fc2a_row2_col0, #T_4fc2a_row2_col1, #T_4fc2a_row2_col2, #T_4fc2a_row2_col3, #T_4fc2a_row3_col0, #T_4fc2a_row3_col1, #T_4fc2a_row3_col2, #T_4fc2a_row3_col3, #T_4fc2a_row4_col4, #T_4fc2a_row5_col5 {\n",
       "  background-color: #023858;\n",
       "  color: #f1f1f1;\n",
       "}\n",
       "#T_4fc2a_row0_col4, #T_4fc2a_row2_col4, #T_4fc2a_row3_col4 {\n",
       "  background-color: #034165;\n",
       "  color: #f1f1f1;\n",
       "}\n",
       "#T_4fc2a_row0_col5, #T_4fc2a_row3_col5 {\n",
       "  background-color: #fdf5fa;\n",
       "  color: #000000;\n",
       "}\n",
       "#T_4fc2a_row1_col4, #T_4fc2a_row4_col0, #T_4fc2a_row4_col1, #T_4fc2a_row4_col2, #T_4fc2a_row4_col3 {\n",
       "  background-color: #023f64;\n",
       "  color: #f1f1f1;\n",
       "}\n",
       "#T_4fc2a_row1_col5 {\n",
       "  background-color: #fbf4f9;\n",
       "  color: #000000;\n",
       "}\n",
       "#T_4fc2a_row2_col5, #T_4fc2a_row5_col0, #T_4fc2a_row5_col1, #T_4fc2a_row5_col2, #T_4fc2a_row5_col3, #T_4fc2a_row5_col4 {\n",
       "  background-color: #fff7fb;\n",
       "  color: #000000;\n",
       "}\n",
       "#T_4fc2a_row4_col5 {\n",
       "  background-color: #f0eaf4;\n",
       "  color: #000000;\n",
       "}\n",
       "</style>\n",
       "<table id=\"T_4fc2a\">\n",
       "  <thead>\n",
       "    <tr>\n",
       "      <th class=\"blank level0\" >&nbsp;</th>\n",
       "      <th id=\"T_4fc2a_level0_col0\" class=\"col_heading level0 col0\" >Open</th>\n",
       "      <th id=\"T_4fc2a_level0_col1\" class=\"col_heading level0 col1\" >High</th>\n",
       "      <th id=\"T_4fc2a_level0_col2\" class=\"col_heading level0 col2\" >Low</th>\n",
       "      <th id=\"T_4fc2a_level0_col3\" class=\"col_heading level0 col3\" >Close</th>\n",
       "      <th id=\"T_4fc2a_level0_col4\" class=\"col_heading level0 col4\" >Adj Close</th>\n",
       "      <th id=\"T_4fc2a_level0_col5\" class=\"col_heading level0 col5\" >Volume</th>\n",
       "    </tr>\n",
       "  </thead>\n",
       "  <tbody>\n",
       "    <tr>\n",
       "      <th id=\"T_4fc2a_level0_row0\" class=\"row_heading level0 row0\" >Open</th>\n",
       "      <td id=\"T_4fc2a_row0_col0\" class=\"data row0 col0\" >1.000000</td>\n",
       "      <td id=\"T_4fc2a_row0_col1\" class=\"data row0 col1\" >0.999324</td>\n",
       "      <td id=\"T_4fc2a_row0_col2\" class=\"data row0 col2\" >0.999274</td>\n",
       "      <td id=\"T_4fc2a_row0_col3\" class=\"data row0 col3\" >0.998754</td>\n",
       "      <td id=\"T_4fc2a_row0_col4\" class=\"data row0 col4\" >0.965403</td>\n",
       "      <td id=\"T_4fc2a_row0_col5\" class=\"data row0 col5\" >-0.184389</td>\n",
       "    </tr>\n",
       "    <tr>\n",
       "      <th id=\"T_4fc2a_level0_row1\" class=\"row_heading level0 row1\" >High</th>\n",
       "      <td id=\"T_4fc2a_row1_col0\" class=\"data row1 col0\" >0.999324</td>\n",
       "      <td id=\"T_4fc2a_row1_col1\" class=\"data row1 col1\" >1.000000</td>\n",
       "      <td id=\"T_4fc2a_row1_col2\" class=\"data row1 col2\" >0.998796</td>\n",
       "      <td id=\"T_4fc2a_row1_col3\" class=\"data row1 col3\" >0.999323</td>\n",
       "      <td id=\"T_4fc2a_row1_col4\" class=\"data row1 col4\" >0.967945</td>\n",
       "      <td id=\"T_4fc2a_row1_col5\" class=\"data row1 col5\" >-0.169457</td>\n",
       "    </tr>\n",
       "    <tr>\n",
       "      <th id=\"T_4fc2a_level0_row2\" class=\"row_heading level0 row2\" >Low</th>\n",
       "      <td id=\"T_4fc2a_row2_col0\" class=\"data row2 col0\" >0.999274</td>\n",
       "      <td id=\"T_4fc2a_row2_col1\" class=\"data row2 col1\" >0.998796</td>\n",
       "      <td id=\"T_4fc2a_row2_col2\" class=\"data row2 col2\" >1.000000</td>\n",
       "      <td id=\"T_4fc2a_row2_col3\" class=\"data row2 col3\" >0.999303</td>\n",
       "      <td id=\"T_4fc2a_row2_col4\" class=\"data row2 col4\" >0.963519</td>\n",
       "      <td id=\"T_4fc2a_row2_col5\" class=\"data row2 col5\" >-0.199335</td>\n",
       "    </tr>\n",
       "    <tr>\n",
       "      <th id=\"T_4fc2a_level0_row3\" class=\"row_heading level0 row3\" >Close</th>\n",
       "      <td id=\"T_4fc2a_row3_col0\" class=\"data row3 col0\" >0.998754</td>\n",
       "      <td id=\"T_4fc2a_row3_col1\" class=\"data row3 col1\" >0.999323</td>\n",
       "      <td id=\"T_4fc2a_row3_col2\" class=\"data row3 col2\" >0.999303</td>\n",
       "      <td id=\"T_4fc2a_row3_col3\" class=\"data row3 col3\" >1.000000</td>\n",
       "      <td id=\"T_4fc2a_row3_col4\" class=\"data row3 col4\" >0.966149</td>\n",
       "      <td id=\"T_4fc2a_row3_col5\" class=\"data row3 col5\" >-0.183272</td>\n",
       "    </tr>\n",
       "    <tr>\n",
       "      <th id=\"T_4fc2a_level0_row4\" class=\"row_heading level0 row4\" >Adj Close</th>\n",
       "      <td id=\"T_4fc2a_row4_col0\" class=\"data row4 col0\" >0.965403</td>\n",
       "      <td id=\"T_4fc2a_row4_col1\" class=\"data row4 col1\" >0.967945</td>\n",
       "      <td id=\"T_4fc2a_row4_col2\" class=\"data row4 col2\" >0.963519</td>\n",
       "      <td id=\"T_4fc2a_row4_col3\" class=\"data row4 col3\" >0.966149</td>\n",
       "      <td id=\"T_4fc2a_row4_col4\" class=\"data row4 col4\" >1.000000</td>\n",
       "      <td id=\"T_4fc2a_row4_col5\" class=\"data row4 col5\" >-0.080189</td>\n",
       "    </tr>\n",
       "    <tr>\n",
       "      <th id=\"T_4fc2a_level0_row5\" class=\"row_heading level0 row5\" >Volume</th>\n",
       "      <td id=\"T_4fc2a_row5_col0\" class=\"data row5 col0\" >-0.184389</td>\n",
       "      <td id=\"T_4fc2a_row5_col1\" class=\"data row5 col1\" >-0.169457</td>\n",
       "      <td id=\"T_4fc2a_row5_col2\" class=\"data row5 col2\" >-0.199335</td>\n",
       "      <td id=\"T_4fc2a_row5_col3\" class=\"data row5 col3\" >-0.183272</td>\n",
       "      <td id=\"T_4fc2a_row5_col4\" class=\"data row5 col4\" >-0.080189</td>\n",
       "      <td id=\"T_4fc2a_row5_col5\" class=\"data row5 col5\" >1.000000</td>\n",
       "    </tr>\n",
       "  </tbody>\n",
       "</table>\n"
      ],
      "text/plain": [
       "<pandas.io.formats.style.Styler at 0x2554158b3d0>"
      ]
     },
     "execution_count": 16,
     "metadata": {},
     "output_type": "execute_result"
    }
   ],
   "source": [
    "correlation = wfc.corr ()  \n",
    "correlation. style.background_gradient ()"
   ]
  },
  {
   "cell_type": "markdown",
   "id": "2c464387",
   "metadata": {},
   "source": [
    "# The Split"
   ]
  },
  {
   "cell_type": "code",
   "execution_count": 17,
   "id": "a3593a07",
   "metadata": {},
   "outputs": [
    {
     "name": "stdout",
     "output_type": "stream",
     "text": [
      "Min: 2000-01-03 00:00:00 Max: 2022-11-11 00:00:00\n"
     ]
    }
   ],
   "source": [
    "min_date = wfc.Date.min()\n",
    "max_date = wfc.Date.max()\n",
    "print(\"Min:\", min_date, \"Max:\", max_date)"
   ]
  },
  {
   "cell_type": "code",
   "execution_count": 18,
   "id": "bf62035d",
   "metadata": {},
   "outputs": [
    {
     "name": "stdout",
     "output_type": "stream",
     "text": [
      "Training Cutoff Date: 2017-02-23 00:00:00\n",
      "Validation Cutoff Date: 2019-11-21 18:14:24\n"
     ]
    }
   ],
   "source": [
    "train_percent = .75\n",
    "valid_percent = .12\n",
    "\n",
    "time_between = max_date - min_date\n",
    "\n",
    "train_cutoff = min_date + train_percent*time_between\n",
    "valid_cutoff = min_date + (train_percent + valid_percent)*time_between\n",
    "\n",
    "print(\"Training Cutoff Date: {:s}\".format(str(train_cutoff)))\n",
    "print(\"Validation Cutoff Date: {:s}\".format(str(valid_cutoff)))"
   ]
  },
  {
   "cell_type": "code",
   "execution_count": 19,
   "id": "7845cdb2",
   "metadata": {},
   "outputs": [],
   "source": [
    "train_df = wfc[wfc.Date <= train_cutoff]\n",
    "valid_df = wfc[(wfc.Date > train_cutoff) & (wfc.Date <= valid_cutoff)]\n",
    "test_df = wfc[wfc.Date > valid_cutoff]\n"
   ]
  },
  {
   "cell_type": "code",
   "execution_count": 20,
   "id": "6bc99643",
   "metadata": {},
   "outputs": [
    {
     "name": "stdout",
     "output_type": "stream",
     "text": [
      "Dataset shape: (5754, 7)\n",
      "Train dataset shape: (4313, 7)\n",
      "Vaid dataset shape: (692, 7)\n",
      "Test dataset shape: (749, 7)\n"
     ]
    }
   ],
   "source": [
    "print(\"Dataset shape: {:s}\".format(str(wfc.shape)))\n",
    "print(\"Train dataset shape: {:s}\".format(str(train_df.shape)))\n",
    "print(\"Vaid dataset shape: {:s}\".format(str(valid_df.shape)))\n",
    "print(\"Test dataset shape: {:s}\".format(str(test_df.shape)))"
   ]
  },
  {
   "cell_type": "markdown",
   "id": "75ade580",
   "metadata": {},
   "source": [
    "# Stock Price Graph"
   ]
  },
  {
   "cell_type": "code",
   "execution_count": 21,
   "id": "363a3387",
   "metadata": {},
   "outputs": [
    {
     "data": {
      "text/plain": [
       "<matplotlib.legend.Legend at 0x25541853d00>"
      ]
     },
     "execution_count": 21,
     "metadata": {},
     "output_type": "execute_result"
    },
    {
     "data": {
      "image/png": "[encoded data removed]",
      "text/plain": [
       "<Figure size 2000x1000 with 1 Axes>"
      ]
     },
     "metadata": {},
     "output_type": "display_data"
    }
   ],
   "source": [
    "plotSeries(train_df.Date, train_df.Close, \"Training Data\")\n",
    "plotSeries(valid_df.Date, valid_df.Close, \"Validation Data\")\n",
    "plotSeries(test_df.Date, test_df.Close, \"Test Data\")\n",
    "plt.legend(loc='upper left')"
   ]
  },
  {
   "cell_type": "code",
   "execution_count": 22,
   "id": "e5de443d",
   "metadata": {},
   "outputs": [],
   "source": [
    "train_df.set_index(['Date'],inplace=True)\n",
    "test_df.set_index(['Date'],inplace=True)\n",
    "valid_df.set_index(['Date'],inplace=True)"
   ]
  },
  {
   "cell_type": "code",
   "execution_count": 23,
   "id": "f1dd8db8",
   "metadata": {},
   "outputs": [],
   "source": [
    "scaler = MinMaxScaler()\n",
    "\n",
    "trainNorm = scaler.fit_transform(train_df.values)\n",
    "testNorm = scaler.transform(test_df.values)\n",
    "validNorm = scaler.transform(valid_df.values)\n",
    "\n",
    "trainNormDf = pd.DataFrame(trainNorm, columns=train_df.columns)\n",
    "testNormDf = pd.DataFrame(testNorm, columns=test_df.columns)\n",
    "validNormDf = pd.DataFrame(validNorm, columns=valid_df.columns)\n"
   ]
  },
  {
   "cell_type": "code",
   "execution_count": 24,
   "id": "0d85be7e",
   "metadata": {},
   "outputs": [],
   "source": [
    "def splitSequence(sequence, look_back, forecast_horizon):\n",
    "    X, y = list(), list()\n",
    "    for i in range(len(sequence)): \n",
    "        lag_end = i + look_back\n",
    "        forecast_end = lag_end + forecast_horizon\n",
    "        if forecast_end > len(sequence):\n",
    "            break\n",
    "        seq_x, seq_y = sequence[i:lag_end], sequence[lag_end:forecast_end]\n",
    "        X.append(seq_x)\n",
    "        y.append(seq_y)\n",
    "    return np.array(X), np.array(y)"
   ]
  },
  {
   "cell_type": "code",
   "execution_count": 25,
   "id": "800b9292",
   "metadata": {},
   "outputs": [],
   "source": [
    "LOOK_BACK = 24\n",
    "FORECAST_RANGE = 4\n",
    "n_features = len(trainNormDf.columns)"
   ]
  },
  {
   "cell_type": "code",
   "execution_count": 26,
   "id": "1699cea4",
   "metadata": {},
   "outputs": [],
   "source": [
    "#Add valid df\n",
    "X_train, y_train = splitSequence(trainNormDf, look_back=LOOK_BACK, forecast_horizon=FORECAST_RANGE)\n",
    "X_test, y_test = splitSequence(testNormDf, look_back=LOOK_BACK, forecast_horizon=FORECAST_RANGE)"
   ]
  },
  {
   "cell_type": "code",
   "execution_count": 27,
   "id": "f9bc50bc",
   "metadata": {},
   "outputs": [
    {
     "name": "stdout",
     "output_type": "stream",
     "text": [
      "(4286, 24, 6)\n",
      "(4286, 4, 6)\n",
      "(722, 24, 6)\n",
      "(722, 4, 6)\n"
     ]
    }
   ],
   "source": [
    "print(X_train.shape)\n",
    "print(y_train.shape)\n",
    "print(X_test.shape)\n",
    "print(y_test.shape)"
   ]
  },
  {
   "cell_type": "code",
   "execution_count": 28,
   "id": "431a1712",
   "metadata": {},
   "outputs": [],
   "source": [
    "def inverse_transform(y_test, yhat):\n",
    "    y_test_reshaped = y_test.reshape(-1, y_test.shape[-1])\n",
    "    yhat_reshaped = yhat.reshape(-1, yhat.shape[-1])\n",
    "    yhat_inverse = scaler.inverse_transform(yhat_reshaped)\n",
    "    y_test_inverse = scaler.inverse_transform(y_test_reshaped)\n",
    "    return yhat_inverse, y_test_inverse"
   ]
  },
  {
   "cell_type": "code",
   "execution_count": 29,
   "id": "436cfcc2",
   "metadata": {},
   "outputs": [],
   "source": [
    "def evaluate_forecast(y_test_inverse, yhat_inverse):\n",
    "    mse_ = tf.keras.losses.MeanSquaredError()\n",
    "    mae_ = tf.keras.losses.MeanAbsoluteError()\n",
    "    mape_ = tf.keras.losses.MeanAbsolutePercentageError()\n",
    "    mae = mae_(y_test_inverse,yhat_inverse)\n",
    "    print('mae:', mae)\n",
    "    mse = mse_(y_test_inverse,yhat_inverse)\n",
    "    print('mse:', mse)\n",
    "    mape = mape_(y_test_inverse,yhat_inverse)\n",
    "    print('mape:', mape)"
   ]
  },
  {
   "cell_type": "code",
   "execution_count": 30,
   "id": "8cc64144",
   "metadata": {},
   "outputs": [],
   "source": [
    "mse_ = tf.keras.losses.MeanSquaredError()\n",
    "mae_ = tf.keras.losses.MeanAbsoluteError()\n",
    "mape_ = tf.keras.losses.MeanAbsolutePercentageError()\n",
    "# mae = mae_(y_test_inverse,yhat_inverse)\n",
    "# # print('mae:', mae)\n",
    "# mse = mse_(y_test_inverse,yhat_inverse)\n",
    "# # print('mse:', mse)\n",
    "# mape = mape_(y_test_inverse,yhat_inverse)\n",
    "# # print('mape:', mape)"
   ]
  },
  {
   "cell_type": "code",
   "execution_count": 31,
   "id": "e4d770a4",
   "metadata": {},
   "outputs": [],
   "source": [
    "from tensorflow.keras import Sequential\n",
    "from tensorflow.keras.layers import LSTM, Dense, Dropout, TimeDistributed, Conv1D, MaxPooling1D, Flatten, Bidirectional, Input, Flatten, Activation, Reshape, RepeatVector, Concatenate\n",
    "from tensorflow.keras.models import Model\n",
    "from tensorflow.keras.utils import plot_model\n",
    "from tensorflow.keras.callbacks import EarlyStopping, ReduceLROnPlateau, ModelCheckpoint"
   ]
  },
  {
   "cell_type": "markdown",
   "id": "93d27dea",
   "metadata": {},
   "source": [
    "# Encoder Decoder Model"
   ]
  },
  {
   "cell_type": "code",
   "execution_count": 32,
   "id": "12eb1f15",
   "metadata": {},
   "outputs": [],
   "source": [
    "tf.keras.backend.clear_session()\n",
    "model_enc_dec = tf.keras.Sequential()"
   ]
  },
  {
   "cell_type": "code",
   "execution_count": 33,
   "id": "be47769d",
   "metadata": {},
   "outputs": [
    {
     "name": "stdout",
     "output_type": "stream",
     "text": [
      "WARNING:tensorflow:Layer lstm will not use cuDNN kernels since it doesn't meet the criteria. It will use a generic GPU kernel as fallback when running on GPU.\n",
      "WARNING:tensorflow:Layer lstm_1 will not use cuDNN kernels since it doesn't meet the criteria. It will use a generic GPU kernel as fallback when running on GPU.\n"
     ]
    }
   ],
   "source": [
    "# WARNING:tensorflow:Layer lstm will not use cuDNN kernels since\n",
    "# it doesn't meet the criteria. It will use a generic GPU kernel as fallback when running on GPU.\n",
    "model_enc_dec.add(LSTM(100, activation='relu', input_shape=(LOOK_BACK, n_features)))\n",
    "model_enc_dec.add(RepeatVector(FORECAST_RANGE))\n",
    "model_enc_dec.add(LSTM(100, activation='relu', return_sequences=True))\n",
    "model_enc_dec.add(TimeDistributed(Dense(n_features)))\n",
    "model_enc_dec.compile(optimizer='adam', loss='mse')"
   ]
  },
  {
   "cell_type": "code",
   "execution_count": 34,
   "id": "aec23503",
   "metadata": {},
   "outputs": [],
   "source": [
    "# plot_model(model=model_enc_dec, show_shapes=True)"
   ]
  },
  {
   "cell_type": "code",
   "execution_count": 35,
   "id": "3bef379a",
   "metadata": {},
   "outputs": [],
   "source": [
    "checkpoint_filepath = ''\n",
    "checkpoint_callback = ModelCheckpoint(\n",
    " filepath=checkpoint_filepath,\n",
    " save_weights_only=False,\n",
    " monitor='val_loss',\n",
    " mode='min',\n",
    " save_best_only=True)\n",
    "early_stopping_callback = EarlyStopping(\n",
    " monitor='val_loss',\n",
    " min_delta=0.005,\n",
    " patience=10,\n",
    " mode='min'\n",
    ")\n",
    "rlrop_callback = ReduceLROnPlateau(monitor='val_loss', factor=0.2, mode='min', patience=3, min_lr=0.001)"
   ]
  },
  {
   "cell_type": "code",
   "execution_count": 36,
   "id": "3f31744b",
   "metadata": {},
   "outputs": [],
   "source": [
    "epochs = 50\n",
    "batch_size = 32\n",
    "validation = 0.1"
   ]
  },
  {
   "cell_type": "code",
   "execution_count": 37,
   "id": "f0b11df8",
   "metadata": {},
   "outputs": [
    {
     "name": "stdout",
     "output_type": "stream",
     "text": [
      "Epoch 1/50\n",
      "121/121 [==============================] - ETA: 0s - loss: 0.0205INFO:tensorflow:Assets written to: assets\n",
      "121/121 [==============================] - 16s 107ms/step - loss: 0.0205 - val_loss: 0.0020 - lr: 0.0010\n",
      "Epoch 2/50\n",
      "121/121 [==============================] - ETA: 0s - loss: 8.5701e-04INFO:tensorflow:Assets written to: assets\n",
      "121/121 [==============================] - 13s 109ms/step - loss: 8.5701e-04 - val_loss: 0.0014 - lr: 0.0010\n",
      "Epoch 3/50\n",
      "121/121 [==============================] - ETA: 0s - loss: 7.1169e-04INFO:tensorflow:Assets written to: assets\n",
      "121/121 [==============================] - 16s 129ms/step - loss: 7.1169e-04 - val_loss: 8.7752e-04 - lr: 0.0010\n",
      "Epoch 4/50\n",
      "121/121 [==============================] - 11s 92ms/step - loss: 6.3936e-04 - val_loss: 9.9059e-04 - lr: 0.0010\n",
      "Epoch 5/50\n",
      "121/121 [==============================] - 11s 88ms/step - loss: 5.9136e-04 - val_loss: 8.8196e-04 - lr: 0.0010\n",
      "Epoch 6/50\n",
      "121/121 [==============================] - ETA: 0s - loss: 5.7532e-04INFO:tensorflow:Assets written to: assets\n",
      "121/121 [==============================] - 15s 125ms/step - loss: 5.7532e-04 - val_loss: 7.3605e-04 - lr: 0.0010\n",
      "Epoch 7/50\n",
      "121/121 [==============================] - 11s 93ms/step - loss: 5.5604e-04 - val_loss: 8.3494e-04 - lr: 0.0010\n",
      "Epoch 8/50\n",
      "121/121 [==============================] - 11s 89ms/step - loss: 5.2315e-04 - val_loss: 8.6411e-04 - lr: 0.0010\n",
      "Epoch 9/50\n",
      "121/121 [==============================] - 10s 87ms/step - loss: 4.9676e-04 - val_loss: 8.6312e-04 - lr: 0.0010\n",
      "Epoch 10/50\n",
      "121/121 [==============================] - ETA: 0s - loss: 5.0230e-04INFO:tensorflow:Assets written to: assets\n",
      "121/121 [==============================] - 16s 129ms/step - loss: 5.0230e-04 - val_loss: 6.4046e-04 - lr: 0.0010\n",
      "Epoch 11/50\n",
      "121/121 [==============================] - 11s 90ms/step - loss: 5.0504e-04 - val_loss: 8.4660e-04 - lr: 0.0010\n"
     ]
    }
   ],
   "source": [
    "history = model_enc_dec.fit(X_train, y_train, epochs=epochs, batch_size=batch_size, validation_split=validation, \\\n",
    "                            callbacks=[early_stopping_callback, checkpoint_callback, rlrop_callback])"
   ]
  },
  {
   "cell_type": "code",
   "execution_count": 38,
   "id": "5f3944d5",
   "metadata": {},
   "outputs": [],
   "source": [
    "yhat = model_enc_dec.predict(X_test, verbose=0)"
   ]
  },
  {
   "cell_type": "code",
   "execution_count": 39,
   "id": "d2dff702",
   "metadata": {},
   "outputs": [
    {
     "name": "stdout",
     "output_type": "stream",
     "text": [
      "mae: tf.Tensor(1712061.5, shape=(), dtype=float32)\n",
      "mse: tf.Tensor(33832558000000.0, shape=(), dtype=float32)\n",
      "mape: tf.Tensor(11.012134, shape=(), dtype=float32)\n"
     ]
    }
   ],
   "source": [
    "yhat_inverse, y_test_inverse = inverse_transform(y_test, yhat)\n",
    "evaluate_forecast(y_test_inverse, yhat_inverse)"
   ]
  },
  {
   "cell_type": "markdown",
   "id": "a40c2ff0",
   "metadata": {},
   "source": [
    "## CNN-LSTM Encoder-Decoder Model"
   ]
  },
  {
   "cell_type": "code",
   "execution_count": 40,
   "id": "9ef043e0",
   "metadata": {},
   "outputs": [],
   "source": [
    "tf.keras.backend.clear_session()\n",
    "model_enc_dec_cnn = Sequential()"
   ]
  },
  {
   "cell_type": "code",
   "execution_count": 41,
   "id": "00287c76",
   "metadata": {},
   "outputs": [
    {
     "name": "stdout",
     "output_type": "stream",
     "text": [
      "WARNING:tensorflow:Layer lstm will not use cuDNN kernels since it doesn't meet the criteria. It will use a generic GPU kernel as fallback when running on GPU.\n"
     ]
    }
   ],
   "source": [
    "\n",
    "model_enc_dec_cnn.add(Conv1D(filters=64, kernel_size=9, activation='relu', input_shape=(LOOK_BACK, n_features)))\n",
    "model_enc_dec_cnn.add(Conv1D(filters=64, kernel_size=11, activation='relu'))\n",
    "model_enc_dec_cnn.add(MaxPooling1D(pool_size=2))\n",
    "model_enc_dec_cnn.add(Flatten())\n",
    "model_enc_dec_cnn.add(RepeatVector(FORECAST_RANGE))\n",
    "model_enc_dec_cnn.add(LSTM(200, activation='relu', return_sequences=True))\n",
    "model_enc_dec_cnn.add(TimeDistributed(Dense(100, activation='relu')))\n",
    "model_enc_dec_cnn.add(TimeDistributed(Dense(n_features)))\n",
    "model_enc_dec_cnn.compile(loss='mse', optimizer='adam')"
   ]
  },
  {
   "cell_type": "code",
   "execution_count": 42,
   "id": "6be0636a",
   "metadata": {},
   "outputs": [
    {
     "name": "stdout",
     "output_type": "stream",
     "text": [
      "Epoch 1/50\n",
      "121/121 [==============================] - 15s 46ms/step - loss: 0.0113 - val_loss: 0.0025 - lr: 0.0010\n",
      "Epoch 2/50\n",
      "121/121 [==============================] - 3s 24ms/step - loss: 0.0012 - val_loss: 0.0019 - lr: 0.0010\n",
      "Epoch 3/50\n",
      "121/121 [==============================] - 3s 23ms/step - loss: 0.0010 - val_loss: 0.0020 - lr: 0.0010\n",
      "Epoch 4/50\n",
      "121/121 [==============================] - 3s 21ms/step - loss: 8.6363e-04 - val_loss: 0.0015 - lr: 0.0010\n",
      "Epoch 5/50\n",
      "121/121 [==============================] - 3s 21ms/step - loss: 8.3344e-04 - val_loss: 0.0013 - lr: 0.0010\n",
      "Epoch 6/50\n",
      "121/121 [==============================] - 3s 23ms/step - loss: 7.1669e-04 - val_loss: 0.0012 - lr: 0.0010\n",
      "Epoch 7/50\n",
      "121/121 [==============================] - 3s 23ms/step - loss: 7.2734e-04 - val_loss: 0.0013 - lr: 0.0010\n",
      "Epoch 8/50\n",
      "121/121 [==============================] - 3s 22ms/step - loss: 7.0600e-04 - val_loss: 0.0012 - lr: 0.0010\n",
      "Epoch 9/50\n",
      "121/121 [==============================] - 3s 25ms/step - loss: 5.9991e-04 - val_loss: 0.0013 - lr: 0.0010\n",
      "Epoch 10/50\n",
      "121/121 [==============================] - 2s 21ms/step - loss: 5.8750e-04 - val_loss: 9.8342e-04 - lr: 0.0010\n",
      "Epoch 11/50\n",
      "121/121 [==============================] - 2s 21ms/step - loss: 6.3804e-04 - val_loss: 9.6986e-04 - lr: 0.0010\n"
     ]
    }
   ],
   "source": [
    "history = model_enc_dec_cnn.fit(X_train, y_train, epochs=epochs, batch_size=batch_size, validation_split=validation, \\\n",
    "                            callbacks=[early_stopping_callback, checkpoint_callback, rlrop_callback])"
   ]
  },
  {
   "cell_type": "code",
   "execution_count": 43,
   "id": "1ab6a0e8",
   "metadata": {},
   "outputs": [],
   "source": [
    "yhat = model_enc_dec_cnn.predict(X_test, verbose=0)"
   ]
  },
  {
   "cell_type": "code",
   "execution_count": 44,
   "id": "35013fd2",
   "metadata": {},
   "outputs": [
    {
     "name": "stdout",
     "output_type": "stream",
     "text": [
      "mae: tf.Tensor(2066019.2, shape=(), dtype=float32)\n",
      "mse: tf.Tensor(38045010000000.0, shape=(), dtype=float32)\n",
      "mape: tf.Tensor(14.681202, shape=(), dtype=float32)\n"
     ]
    }
   ],
   "source": [
    "yhat_inverse, y_test_inverse = inverse_transform(y_test, yhat)\n",
    "evaluate_forecast(y_test_inverse, yhat_inverse)"
   ]
  },
  {
   "cell_type": "markdown",
   "id": "43ce24d2",
   "metadata": {},
   "source": [
    "## Model Vector Output"
   ]
  },
  {
   "cell_type": "code",
   "execution_count": 45,
   "id": "405ee120",
   "metadata": {},
   "outputs": [
    {
     "name": "stdout",
     "output_type": "stream",
     "text": [
      "WARNING:tensorflow:Layer lstm_1 will not use cuDNN kernels since it doesn't meet the criteria. It will use a generic GPU kernel as fallback when running on GPU.\n",
      "WARNING:tensorflow:Layer lstm_2 will not use cuDNN kernels since it doesn't meet the criteria. It will use a generic GPU kernel as fallback when running on GPU.\n"
     ]
    }
   ],
   "source": [
    "input_layer = Input(shape=(LOOK_BACK, n_features)) \n",
    "conv = Conv1D(filters=4, kernel_size=7, activation='relu')(input_layer)\n",
    "conv = Conv1D(filters=6, kernel_size=11, activation='relu')(conv)\n",
    "lstm = LSTM(100, return_sequences=True, activation='relu')(conv)\n",
    "dropout = Dropout(0.2)(lstm)\n",
    "lstm = LSTM(100, activation='relu')(dropout)\n",
    "dense = Dense(FORECAST_RANGE*n_features, activation='relu')(lstm)\n",
    "output_layer = Reshape((FORECAST_RANGE,n_features))(dense)\n",
    "model_vector_output = Model([input_layer], [output_layer])\n",
    "model_vector_output.compile(optimizer='adam', loss='mse')"
   ]
  },
  {
   "cell_type": "code",
   "execution_count": 46,
   "id": "7b6f3f8c",
   "metadata": {},
   "outputs": [
    {
     "name": "stdout",
     "output_type": "stream",
     "text": [
      "Epoch 1/50\n",
      "121/121 [==============================] - 164s 81ms/step - loss: 0.0473 - val_loss: 0.0682 - lr: 0.0010\n",
      "Epoch 2/50\n",
      "121/121 [==============================] - 8s 65ms/step - loss: 0.0219 - val_loss: 0.0655 - lr: 0.0010\n",
      "Epoch 3/50\n",
      "121/121 [==============================] - 8s 64ms/step - loss: 0.0213 - val_loss: 0.0648 - lr: 0.0010\n",
      "Epoch 4/50\n",
      "121/121 [==============================] - 8s 65ms/step - loss: 0.0211 - val_loss: 0.0652 - lr: 0.0010\n",
      "Epoch 5/50\n",
      "121/121 [==============================] - 8s 66ms/step - loss: 0.0210 - val_loss: 0.0659 - lr: 0.0010\n",
      "Epoch 6/50\n",
      "121/121 [==============================] - 8s 70ms/step - loss: 0.0209 - val_loss: 0.0642 - lr: 0.0010\n",
      "Epoch 7/50\n",
      "121/121 [==============================] - 8s 69ms/step - loss: 0.0208 - val_loss: 0.0643 - lr: 0.0010\n",
      "Epoch 8/50\n",
      "121/121 [==============================] - 9s 74ms/step - loss: 0.0208 - val_loss: 0.0642 - lr: 0.0010\n",
      "Epoch 9/50\n",
      "121/121 [==============================] - 9s 72ms/step - loss: 0.0207 - val_loss: 0.0640 - lr: 0.0010\n",
      "Epoch 10/50\n",
      "121/121 [==============================] - 8s 70ms/step - loss: 0.0206 - val_loss: 0.0638 - lr: 0.0010\n",
      "Epoch 11/50\n",
      "121/121 [==============================] - 8s 67ms/step - loss: 0.0207 - val_loss: 0.0642 - lr: 0.0010\n"
     ]
    }
   ],
   "source": [
    "history = model_vector_output.fit(X_train, y_train, epochs=epochs, batch_size=batch_size, validation_split=validation, \\\n",
    "                            callbacks=[early_stopping_callback, checkpoint_callback, rlrop_callback])"
   ]
  },
  {
   "cell_type": "code",
   "execution_count": 48,
   "id": "42cc8317",
   "metadata": {},
   "outputs": [],
   "source": [
    "yhat = model_vector_output.predict(X_test, verbose=0)"
   ]
  },
  {
   "cell_type": "code",
   "execution_count": 49,
   "id": "43971937",
   "metadata": {},
   "outputs": [
    {
     "name": "stdout",
     "output_type": "stream",
     "text": [
      "mae: tf.Tensor(1794407.5, shape=(), dtype=float32)\n",
      "mse: tf.Tensor(37299757000000.0, shape=(), dtype=float32)\n",
      "mape: tf.Tensor(19.838707, shape=(), dtype=float32)\n"
     ]
    }
   ],
   "source": [
    "yhat_inverse, y_test_inverse = inverse_transform(y_test, yhat)\n",
    "evaluate_forecast(y_test_inverse, yhat_inverse)"
   ]
  },
  {
   "cell_type": "markdown",
   "id": "f3d9483c",
   "metadata": {},
   "source": [
    "## Multihead CNN LSTM Model"
   ]
  },
  {
   "cell_type": "code",
   "execution_count": 50,
   "id": "a0d8ee01",
   "metadata": {},
   "outputs": [
    {
     "name": "stdout",
     "output_type": "stream",
     "text": [
      "WARNING:tensorflow:Layer lstm_3 will not use cuDNN kernels since it doesn't meet the criteria. It will use a generic GPU kernel as fallback when running on GPU.\n",
      "WARNING:tensorflow:Layer lstm_4 will not use cuDNN kernels since it doesn't meet the criteria. It will use a generic GPU kernel as fallback when running on GPU.\n"
     ]
    }
   ],
   "source": [
    "input_layer = Input(shape=(LOOK_BACK, n_features)) \n",
    "head_list = []\n",
    "for i in range(0, n_features):\n",
    "    conv_layer_head = Conv1D(filters=4, kernel_size=7, activation='relu')(input_layer)\n",
    "    conv_layer_head_2 = Conv1D(filters=6, kernel_size=11, activation='relu')(conv_layer_head)\n",
    "    conv_layer_flatten = Flatten()(conv_layer_head_2)\n",
    "    head_list.append(conv_layer_flatten)\n",
    "\n",
    "concat_cnn = Concatenate(axis=1)(head_list)\n",
    "reshape = Reshape((head_list[0].shape[1], n_features))(concat_cnn)\n",
    "lstm = LSTM(100, activation='relu')(reshape)\n",
    "repeat = RepeatVector(FORECAST_RANGE)(lstm)\n",
    "lstm_2 = LSTM(100, activation='relu', return_sequences=True)(repeat)\n",
    "dropout = Dropout(0.2)(lstm_2)\n",
    "dense = Dense(n_features, activation='linear')(dropout)\n",
    "multi_head_cnn_lstm_model = Model(inputs=input_layer, outputs=dense)\n",
    "multi_head_cnn_lstm_model.compile(optimizer='adam', loss='mse')"
   ]
  },
  {
   "cell_type": "code",
   "execution_count": 51,
   "id": "d21c208b",
   "metadata": {},
   "outputs": [
    {
     "name": "stdout",
     "output_type": "stream",
     "text": [
      "Epoch 1/50\n",
      "121/121 [==============================] - 26s 176ms/step - loss: 0.0350 - val_loss: 0.0114 - lr: 0.0010\n",
      "Epoch 2/50\n",
      "121/121 [==============================] - 22s 181ms/step - loss: 0.0055 - val_loss: 0.0040 - lr: 0.0010\n",
      "Epoch 3/50\n",
      "121/121 [==============================] - 22s 180ms/step - loss: 0.0038 - val_loss: 0.0026 - lr: 0.0010\n",
      "Epoch 4/50\n",
      "121/121 [==============================] - 23s 187ms/step - loss: 0.0031 - val_loss: 0.0022 - lr: 0.0010\n",
      "Epoch 5/50\n",
      "121/121 [==============================] - 23s 187ms/step - loss: 0.0027 - val_loss: 0.0021 - lr: 0.0010\n",
      "Epoch 6/50\n",
      "121/121 [==============================] - 23s 188ms/step - loss: 0.0026 - val_loss: 0.0020 - lr: 0.0010\n",
      "Epoch 7/50\n",
      "121/121 [==============================] - 23s 189ms/step - loss: 0.0024 - val_loss: 0.0019 - lr: 0.0010\n",
      "Epoch 8/50\n",
      "121/121 [==============================] - 23s 190ms/step - loss: 0.0022 - val_loss: 0.0017 - lr: 0.0010\n",
      "Epoch 9/50\n",
      "121/121 [==============================] - 23s 189ms/step - loss: 0.0021 - val_loss: 0.0018 - lr: 0.0010\n",
      "Epoch 10/50\n",
      "121/121 [==============================] - 23s 189ms/step - loss: 0.0019 - val_loss: 0.0018 - lr: 0.0010\n",
      "Epoch 11/50\n",
      "121/121 [==============================] - 25s 206ms/step - loss: 0.0018 - val_loss: 0.0030 - lr: 0.0010\n",
      "Epoch 12/50\n",
      "121/121 [==============================] - 26s 213ms/step - loss: 0.0017 - val_loss: 0.0022 - lr: 0.0010\n"
     ]
    }
   ],
   "source": [
    "history = multi_head_cnn_lstm_model.fit(X_train, y_train, epochs=epochs, batch_size=batch_size, validation_split=validation, \\\n",
    "                            callbacks=[early_stopping_callback, checkpoint_callback, rlrop_callback])"
   ]
  },
  {
   "cell_type": "code",
   "execution_count": 52,
   "id": "cb32c77d",
   "metadata": {},
   "outputs": [],
   "source": [
    "yhat = multi_head_cnn_lstm_model.predict(X_test, verbose=0)"
   ]
  },
  {
   "cell_type": "code",
   "execution_count": 53,
   "id": "538f465b",
   "metadata": {},
   "outputs": [
    {
     "name": "stdout",
     "output_type": "stream",
     "text": [
      "mae: tf.Tensor(1759318.0, shape=(), dtype=float32)\n",
      "mse: tf.Tensor(40323560000000.0, shape=(), dtype=float32)\n",
      "mape: tf.Tensor(15.41384, shape=(), dtype=float32)\n"
     ]
    }
   ],
   "source": [
    "yhat_inverse, y_test_inverse = inverse_transform(y_test, yhat)\n",
    "evaluate_forecast(y_test_inverse, yhat_inverse)"
   ]
  },
  {
   "cell_type": "code",
   "execution_count": 54,
   "id": "093f7e3f",
   "metadata": {},
   "outputs": [
    {
     "data": {
      "image/png": "[encoded data removed]",
      "text/plain": [
       "<Figure size 1500x500 with 1 Axes>"
      ]
     },
     "metadata": {},
     "output_type": "display_data"
    }
   ],
   "source": [
    "plt.figure(figsize=(15,5))\n",
    "plt.plot(y_test_inverse[3], label='Real')\n",
    "plt.plot(yhat_inverse[3], label='Prediction')\n",
    "\n",
    "plt.legend(loc=\"best\")\n",
    "\n",
    "#for saving figures\n",
    "plt.show()"
   ]
  },
  {
   "cell_type": "code",
   "execution_count": 55,
   "id": "9b1a8c11",
   "metadata": {},
   "outputs": [
    {
     "data": {
      "text/plain": [
       "Text(0, 0.5, 'MAPE')"
      ]
     },
     "execution_count": 55,
     "metadata": {},
     "output_type": "execute_result"
    },
    {
     "data": {
      "image/png": "[encoded data removed]",
      "text/plain": [
       "<Figure size 2000x1000 with 1 Axes>"
      ]
     },
     "metadata": {},
     "output_type": "display_data"
    }
   ],
   "source": [
    "y_test_inverse_time_step = y_test_inverse.reshape(int(y_test_inverse.shape[0]/FORECAST_RANGE), \\\n",
    "                                                  FORECAST_RANGE, y_test_inverse.shape[-1])\n",
    "yhat_inverse_time_step = yhat_inverse.reshape(int(yhat_inverse.shape[0]/FORECAST_RANGE), \\\n",
    "                                              FORECAST_RANGE, yhat_inverse.shape[-1])\n",
    "# yhat_inverse_time_step and y_test_inverse_time_step are both same dimension.\n",
    "time_step_list_yhat = [[] for i in range(FORECAST_RANGE)]\n",
    "time_step_list_y_test = [[] for i in range(FORECAST_RANGE)]\n",
    "for i in range(0, yhat_inverse_time_step.shape[0]):\n",
    "    for j in range(0, yhat_inverse_time_step.shape[1]):\n",
    "        time_step_list_yhat[j].append(list(yhat_inverse_time_step[i][j]))\n",
    "        time_step_list_y_test[j].append(list(y_test_inverse_time_step[i][j]))\n",
    "yhat_time_step = np.array(time_step_list_yhat)\n",
    "yhat_time_step = yhat_time_step.reshape(yhat_time_step.shape[0], -1)\n",
    "y_test_time_step = np.array(time_step_list_y_test)\n",
    "y_test_time_step = y_test_time_step.reshape(y_test_time_step.shape[0], -1)\n",
    "# plotting\n",
    "mape_list = []\n",
    "for i in range(0, FORECAST_RANGE):\n",
    "    mape = mape_(y_test_time_step[i], yhat_time_step[i])\n",
    "    mape_list.append(mape)\n",
    "plt.plot(range(0, FORECAST_RANGE), mape_list, marker='o')\n",
    "plt.xticks((range(0, FORECAST_RANGE)))\n",
    "plt.xlabel('Forecast Range')\n",
    "plt.ylabel('MAPE')"
   ]
  },
  {
   "cell_type": "code",
   "execution_count": 56,
   "id": "48b94380",
   "metadata": {},
   "outputs": [
    {
     "name": "stdout",
     "output_type": "stream",
     "text": [
      "-> 0\n",
      "mae: tf.Tensor(4.705805, shape=(), dtype=float32)\n",
      "mse: tf.Tensor(27.93856, shape=(), dtype=float32)\n",
      "mape: tf.Tensor(12.512093, shape=(), dtype=float32)\n",
      "-> 1\n",
      "mae: tf.Tensor(4.706102, shape=(), dtype=float32)\n",
      "mse: tf.Tensor(27.90317, shape=(), dtype=float32)\n",
      "mape: tf.Tensor(12.336573, shape=(), dtype=float32)\n",
      "-> 2\n",
      "mae: tf.Tensor(5.102394, shape=(), dtype=float32)\n",
      "mse: tf.Tensor(32.89506, shape=(), dtype=float32)\n",
      "mape: tf.Tensor(13.736178, shape=(), dtype=float32)\n",
      "-> 3\n",
      "mae: tf.Tensor(4.904879, shape=(), dtype=float32)\n",
      "mse: tf.Tensor(30.577627, shape=(), dtype=float32)\n",
      "mape: tf.Tensor(13.045998, shape=(), dtype=float32)\n",
      "-> 4\n",
      "mae: tf.Tensor(4.1348543, shape=(), dtype=float32)\n",
      "mse: tf.Tensor(22.061546, shape=(), dtype=float32)\n",
      "mape: tf.Tensor(10.956827, shape=(), dtype=float32)\n",
      "-> 5\n",
      "mae: tf.Tensor(10555885.0, shape=(), dtype=float32)\n",
      "mse: tf.Tensor(241941380000000.0, shape=(), dtype=float32)\n",
      "mape: tf.Tensor(29.89537, shape=(), dtype=float32)\n"
     ]
    }
   ],
   "source": [
    "for i in range(0, n_features):\n",
    "    print('->', i)\n",
    "    mae = mae_(y_test_inverse[:,i],yhat_inverse[:,i])\n",
    "    print('mae:', mae)\n",
    "    mse = mse_(y_test_inverse[:,i],yhat_inverse[:,i])\n",
    "    print('mse:', mse)\n",
    "    mape = mape_(y_test_inverse[:,i],yhat_inverse[:,i])\n",
    "    print('mape:', mape)"
   ]
  }
 ],
 "metadata": {
  "kernelspec": {
   "display_name": "tf1",
   "language": "python",
   "name": "tf1"
  },
  "language_info": {
   "codemirror_mode": {
    "name": "ipython",
    "version": 3
   },
   "file_extension": ".py",
   "mimetype": "text/x-python",
   "name": "python",
   "nbconvert_exporter": "python",
   "pygments_lexer": "ipython3",
   "version": "3.10.6"
  }
 },
 "nbformat": 4,
 "nbformat_minor": 5
}
