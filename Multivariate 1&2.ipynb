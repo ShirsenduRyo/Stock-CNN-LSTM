{
 "cells": [
  {
   "cell_type": "markdown",
   "id": "b8dc11ef",
   "metadata": {},
   "source": [
    "# The Packages"
   ]
  },
  {
   "cell_type": "code",
   "execution_count": 1,
   "id": "42b684fb",
   "metadata": {},
   "outputs": [],
   "source": [
    "# Two models not trained with Eval metrics created"
   ]
  },
  {
   "cell_type": "code",
   "execution_count": 2,
   "id": "b8cd3bb5",
   "metadata": {},
   "outputs": [],
   "source": [
    "import numpy as np\n",
    "import pandas as pd\n",
    "import os\n",
    "import gc\n",
    "import datetime\n",
    "import warnings"
   ]
  },
  {
   "cell_type": "code",
   "execution_count": 3,
   "id": "77568f48",
   "metadata": {},
   "outputs": [],
   "source": [
    "\n",
    "import statsmodels.api as sm\n",
    "from datetime import date"
   ]
  },
  {
   "cell_type": "code",
   "execution_count": 4,
   "id": "3777791b",
   "metadata": {},
   "outputs": [],
   "source": [
    "from sklearn.preprocessing import MinMaxScaler\n",
    "from sklearn.metrics import mean_squared_error, mean_absolute_error"
   ]
  },
  {
   "cell_type": "code",
   "execution_count": 5,
   "id": "98ea5e9d",
   "metadata": {},
   "outputs": [],
   "source": [
    "import tensorflow as tf\n",
    "import math \n",
    "# keras = tf.keras\n",
    "from tensorflow.keras.optimizers import Adam\n",
    "from tensorflow.keras.layers import LSTM\n",
    "from tensorflow.keras import losses\n",
    "from tensorflow import keras\n",
    "from tensorflow.keras.callbacks import ModelCheckpoint, CSVLogger, ReduceLROnPlateau, EarlyStopping, TensorBoard\n",
    "from tensorflow.keras.utils import plot_model"
   ]
  },
  {
   "cell_type": "code",
   "execution_count": 6,
   "id": "a724b59c",
   "metadata": {},
   "outputs": [
    {
     "data": {
      "text/plain": [
       "'2.10.1'"
      ]
     },
     "execution_count": 6,
     "metadata": {},
     "output_type": "execute_result"
    }
   ],
   "source": [
    "tf.__version__"
   ]
  },
  {
   "cell_type": "code",
   "execution_count": 7,
   "id": "9837a66b",
   "metadata": {},
   "outputs": [],
   "source": [
    "# DATA VISUALIZATION\n",
    "# ------------------------------------------------------\n",
    "import matplotlib.pyplot as plt\n",
    "import seaborn as sns\n",
    "plt.rcParams['figure.figsize'] = (20.0, 10.0)\n",
    "sns.set_style(\"darkgrid\")\n",
    "sns.color_palette(\"mako\", as_cmap=True)\n",
    "import plotly.express as px\n"
   ]
  },
  {
   "cell_type": "code",
   "execution_count": 8,
   "id": "15a50b20",
   "metadata": {},
   "outputs": [],
   "source": [
    "# CONFIGURATIONS\n",
    "# ------------------------------------------------------\n",
    "pd.set_option('display.max_columns', None)\n",
    "pd.options.display.float_format = '{:.2f}'.format\n",
    "warnings.filterwarnings('ignore')"
   ]
  },
  {
   "cell_type": "markdown",
   "id": "aa5865e8",
   "metadata": {},
   "source": [
    "# Utility Functions"
   ]
  },
  {
   "cell_type": "code",
   "execution_count": 9,
   "id": "9e95a2a6",
   "metadata": {},
   "outputs": [],
   "source": [
    "def plotSeries(time, series, lab,form='-'):\n",
    "    plt.plot(time, series, form, label=lab)\n",
    "    plt.xlabel(\"Date\")\n",
    "    plt.ylabel(\"Close Price\")\n",
    "    plt.grid(True)"
   ]
  },
  {
   "cell_type": "code",
   "execution_count": 10,
   "id": "e3006ce7",
   "metadata": {},
   "outputs": [],
   "source": [
    "def plotEvaluation(testData, predData, columns):\n",
    "    testDf = pd.DataFrame(testData, columns = columns)\n",
    "    predDf = pd.DataFrame(predData, columns = columns)\n",
    "    plt.figure(figsize=(15,5))\n",
    "    plt.plot(testDf.Close, label='Real')\n",
    "    plt.plot(predDf.Close, label='Prediction')\n",
    "\n",
    "    plt.legend(loc=\"best\")\n",
    "    #for saving figures\n",
    "    plt.show()"
   ]
  },
  {
   "cell_type": "markdown",
   "id": "63ac3c46",
   "metadata": {},
   "source": [
    "# The Data"
   ]
  },
  {
   "cell_type": "code",
   "execution_count": 11,
   "id": "b8f77ce0",
   "metadata": {},
   "outputs": [],
   "source": [
    "wfc = pd.read_csv('Dataset/Treasury.csv')"
   ]
  },
  {
   "cell_type": "code",
   "execution_count": 12,
   "id": "ad202701",
   "metadata": {},
   "outputs": [
    {
     "data": {
      "text/html": [
       "<div>\n",
       "<style scoped>\n",
       "    .dataframe tbody tr th:only-of-type {\n",
       "        vertical-align: middle;\n",
       "    }\n",
       "\n",
       "    .dataframe tbody tr th {\n",
       "        vertical-align: top;\n",
       "    }\n",
       "\n",
       "    .dataframe thead th {\n",
       "        text-align: right;\n",
       "    }\n",
       "</style>\n",
       "<table border=\"1\" class=\"dataframe\">\n",
       "  <thead>\n",
       "    <tr style=\"text-align: right;\">\n",
       "      <th></th>\n",
       "      <th>Date</th>\n",
       "      <th>Close</th>\n",
       "      <th>Weekday</th>\n",
       "      <th>volumeChange</th>\n",
       "      <th>closeChange</th>\n",
       "      <th>EMA 10</th>\n",
       "      <th>EMA 20</th>\n",
       "      <th>EMA 50</th>\n",
       "      <th>EMA 100</th>\n",
       "      <th>ROC5</th>\n",
       "      <th>ROC10</th>\n",
       "      <th>ROC15</th>\n",
       "      <th>ROC20</th>\n",
       "      <th>DTB6</th>\n",
       "      <th>DGS5</th>\n",
       "    </tr>\n",
       "  </thead>\n",
       "  <tbody>\n",
       "    <tr>\n",
       "      <th>0</th>\n",
       "      <td>2000-01-03</td>\n",
       "      <td>19.56</td>\n",
       "      <td>0</td>\n",
       "      <td>68.61</td>\n",
       "      <td>-4.95</td>\n",
       "      <td>19.56</td>\n",
       "      <td>19.56</td>\n",
       "      <td>19.56</td>\n",
       "      <td>19.56</td>\n",
       "      <td>0.00</td>\n",
       "      <td>0.00</td>\n",
       "      <td>0.00</td>\n",
       "      <td>0.00</td>\n",
       "      <td>50550.00</td>\n",
       "      <td>6050.00</td>\n",
       "    </tr>\n",
       "    <tr>\n",
       "      <th>1</th>\n",
       "      <td>2000-01-04</td>\n",
       "      <td>18.59</td>\n",
       "      <td>1</td>\n",
       "      <td>-46.00</td>\n",
       "      <td>-1.01</td>\n",
       "      <td>19.03</td>\n",
       "      <td>19.05</td>\n",
       "      <td>19.07</td>\n",
       "      <td>19.07</td>\n",
       "      <td>0.00</td>\n",
       "      <td>0.00</td>\n",
       "      <td>0.00</td>\n",
       "      <td>0.00</td>\n",
       "      <td>50500.00</td>\n",
       "      <td>6040.00</td>\n",
       "    </tr>\n",
       "    <tr>\n",
       "      <th>2</th>\n",
       "      <td>2000-01-05</td>\n",
       "      <td>18.41</td>\n",
       "      <td>2</td>\n",
       "      <td>1.20</td>\n",
       "      <td>4.41</td>\n",
       "      <td>18.78</td>\n",
       "      <td>18.82</td>\n",
       "      <td>18.84</td>\n",
       "      <td>18.85</td>\n",
       "      <td>0.00</td>\n",
       "      <td>0.00</td>\n",
       "      <td>0.00</td>\n",
       "      <td>0.00</td>\n",
       "      <td>50490.00</td>\n",
       "      <td>6051.00</td>\n",
       "    </tr>\n",
       "    <tr>\n",
       "      <th>3</th>\n",
       "      <td>2000-01-06</td>\n",
       "      <td>19.22</td>\n",
       "      <td>3</td>\n",
       "      <td>-7.39</td>\n",
       "      <td>1.79</td>\n",
       "      <td>18.92</td>\n",
       "      <td>18.93</td>\n",
       "      <td>18.94</td>\n",
       "      <td>18.94</td>\n",
       "      <td>0.00</td>\n",
       "      <td>0.00</td>\n",
       "      <td>0.00</td>\n",
       "      <td>0.00</td>\n",
       "      <td>50440.00</td>\n",
       "      <td>6046.00</td>\n",
       "    </tr>\n",
       "    <tr>\n",
       "      <th>4</th>\n",
       "      <td>2000-01-07</td>\n",
       "      <td>19.56</td>\n",
       "      <td>4</td>\n",
       "      <td>16.11</td>\n",
       "      <td>-3.19</td>\n",
       "      <td>19.11</td>\n",
       "      <td>19.08</td>\n",
       "      <td>19.07</td>\n",
       "      <td>19.07</td>\n",
       "      <td>-0.59</td>\n",
       "      <td>0.00</td>\n",
       "      <td>0.00</td>\n",
       "      <td>0.00</td>\n",
       "      <td>50420.00</td>\n",
       "      <td>6042.00</td>\n",
       "    </tr>\n",
       "  </tbody>\n",
       "</table>\n",
       "</div>"
      ],
      "text/plain": [
       "         Date  Close  Weekday  volumeChange  closeChange  EMA 10  EMA 20  \\\n",
       "0  2000-01-03  19.56        0         68.61        -4.95   19.56   19.56   \n",
       "1  2000-01-04  18.59        1        -46.00        -1.01   19.03   19.05   \n",
       "2  2000-01-05  18.41        2          1.20         4.41   18.78   18.82   \n",
       "3  2000-01-06  19.22        3         -7.39         1.79   18.92   18.93   \n",
       "4  2000-01-07  19.56        4         16.11        -3.19   19.11   19.08   \n",
       "\n",
       "   EMA 50  EMA 100  ROC5  ROC10  ROC15  ROC20     DTB6    DGS5  \n",
       "0   19.56    19.56  0.00   0.00   0.00   0.00 50550.00 6050.00  \n",
       "1   19.07    19.07  0.00   0.00   0.00   0.00 50500.00 6040.00  \n",
       "2   18.84    18.85  0.00   0.00   0.00   0.00 50490.00 6051.00  \n",
       "3   18.94    18.94  0.00   0.00   0.00   0.00 50440.00 6046.00  \n",
       "4   19.07    19.07 -0.59   0.00   0.00   0.00 50420.00 6042.00  "
      ]
     },
     "execution_count": 12,
     "metadata": {},
     "output_type": "execute_result"
    }
   ],
   "source": [
    "wfc.head()"
   ]
  },
  {
   "cell_type": "code",
   "execution_count": 13,
   "id": "a5831b2d",
   "metadata": {},
   "outputs": [
    {
     "data": {
      "text/plain": [
       "dtype('O')"
      ]
     },
     "execution_count": 13,
     "metadata": {},
     "output_type": "execute_result"
    }
   ],
   "source": [
    "wfc.Date.dtype"
   ]
  },
  {
   "cell_type": "code",
   "execution_count": 14,
   "id": "85f91b01",
   "metadata": {},
   "outputs": [],
   "source": [
    "wfc['Date'] = pd.to_datetime(wfc['Date'])\n",
    "#wfc.set_index(['Date'],inplace=True)"
   ]
  },
  {
   "cell_type": "code",
   "execution_count": 15,
   "id": "3899b716",
   "metadata": {},
   "outputs": [
    {
     "data": {
      "text/html": [
       "<div>\n",
       "<style scoped>\n",
       "    .dataframe tbody tr th:only-of-type {\n",
       "        vertical-align: middle;\n",
       "    }\n",
       "\n",
       "    .dataframe tbody tr th {\n",
       "        vertical-align: top;\n",
       "    }\n",
       "\n",
       "    .dataframe thead th {\n",
       "        text-align: right;\n",
       "    }\n",
       "</style>\n",
       "<table border=\"1\" class=\"dataframe\">\n",
       "  <thead>\n",
       "    <tr style=\"text-align: right;\">\n",
       "      <th></th>\n",
       "      <th>Date</th>\n",
       "      <th>Close</th>\n",
       "      <th>Weekday</th>\n",
       "      <th>volumeChange</th>\n",
       "      <th>closeChange</th>\n",
       "      <th>EMA 10</th>\n",
       "      <th>EMA 20</th>\n",
       "      <th>EMA 50</th>\n",
       "      <th>EMA 100</th>\n",
       "      <th>ROC5</th>\n",
       "      <th>ROC10</th>\n",
       "      <th>ROC15</th>\n",
       "      <th>ROC20</th>\n",
       "      <th>DTB6</th>\n",
       "      <th>DGS5</th>\n",
       "    </tr>\n",
       "  </thead>\n",
       "  <tbody>\n",
       "    <tr>\n",
       "      <th>0</th>\n",
       "      <td>2000-01-03</td>\n",
       "      <td>19.56</td>\n",
       "      <td>0</td>\n",
       "      <td>68.61</td>\n",
       "      <td>-4.95</td>\n",
       "      <td>19.56</td>\n",
       "      <td>19.56</td>\n",
       "      <td>19.56</td>\n",
       "      <td>19.56</td>\n",
       "      <td>0.00</td>\n",
       "      <td>0.00</td>\n",
       "      <td>0.00</td>\n",
       "      <td>0.00</td>\n",
       "      <td>50550.00</td>\n",
       "      <td>6050.00</td>\n",
       "    </tr>\n",
       "    <tr>\n",
       "      <th>1</th>\n",
       "      <td>2000-01-04</td>\n",
       "      <td>18.59</td>\n",
       "      <td>1</td>\n",
       "      <td>-46.00</td>\n",
       "      <td>-1.01</td>\n",
       "      <td>19.03</td>\n",
       "      <td>19.05</td>\n",
       "      <td>19.07</td>\n",
       "      <td>19.07</td>\n",
       "      <td>0.00</td>\n",
       "      <td>0.00</td>\n",
       "      <td>0.00</td>\n",
       "      <td>0.00</td>\n",
       "      <td>50500.00</td>\n",
       "      <td>6040.00</td>\n",
       "    </tr>\n",
       "    <tr>\n",
       "      <th>2</th>\n",
       "      <td>2000-01-05</td>\n",
       "      <td>18.41</td>\n",
       "      <td>2</td>\n",
       "      <td>1.20</td>\n",
       "      <td>4.41</td>\n",
       "      <td>18.78</td>\n",
       "      <td>18.82</td>\n",
       "      <td>18.84</td>\n",
       "      <td>18.85</td>\n",
       "      <td>0.00</td>\n",
       "      <td>0.00</td>\n",
       "      <td>0.00</td>\n",
       "      <td>0.00</td>\n",
       "      <td>50490.00</td>\n",
       "      <td>6051.00</td>\n",
       "    </tr>\n",
       "    <tr>\n",
       "      <th>3</th>\n",
       "      <td>2000-01-06</td>\n",
       "      <td>19.22</td>\n",
       "      <td>3</td>\n",
       "      <td>-7.39</td>\n",
       "      <td>1.79</td>\n",
       "      <td>18.92</td>\n",
       "      <td>18.93</td>\n",
       "      <td>18.94</td>\n",
       "      <td>18.94</td>\n",
       "      <td>0.00</td>\n",
       "      <td>0.00</td>\n",
       "      <td>0.00</td>\n",
       "      <td>0.00</td>\n",
       "      <td>50440.00</td>\n",
       "      <td>6046.00</td>\n",
       "    </tr>\n",
       "    <tr>\n",
       "      <th>4</th>\n",
       "      <td>2000-01-07</td>\n",
       "      <td>19.56</td>\n",
       "      <td>4</td>\n",
       "      <td>16.11</td>\n",
       "      <td>-3.19</td>\n",
       "      <td>19.11</td>\n",
       "      <td>19.08</td>\n",
       "      <td>19.07</td>\n",
       "      <td>19.07</td>\n",
       "      <td>-0.59</td>\n",
       "      <td>0.00</td>\n",
       "      <td>0.00</td>\n",
       "      <td>0.00</td>\n",
       "      <td>50420.00</td>\n",
       "      <td>6042.00</td>\n",
       "    </tr>\n",
       "  </tbody>\n",
       "</table>\n",
       "</div>"
      ],
      "text/plain": [
       "        Date  Close  Weekday  volumeChange  closeChange  EMA 10  EMA 20  \\\n",
       "0 2000-01-03  19.56        0         68.61        -4.95   19.56   19.56   \n",
       "1 2000-01-04  18.59        1        -46.00        -1.01   19.03   19.05   \n",
       "2 2000-01-05  18.41        2          1.20         4.41   18.78   18.82   \n",
       "3 2000-01-06  19.22        3         -7.39         1.79   18.92   18.93   \n",
       "4 2000-01-07  19.56        4         16.11        -3.19   19.11   19.08   \n",
       "\n",
       "   EMA 50  EMA 100  ROC5  ROC10  ROC15  ROC20     DTB6    DGS5  \n",
       "0   19.56    19.56  0.00   0.00   0.00   0.00 50550.00 6050.00  \n",
       "1   19.07    19.07  0.00   0.00   0.00   0.00 50500.00 6040.00  \n",
       "2   18.84    18.85  0.00   0.00   0.00   0.00 50490.00 6051.00  \n",
       "3   18.94    18.94  0.00   0.00   0.00   0.00 50440.00 6046.00  \n",
       "4   19.07    19.07 -0.59   0.00   0.00   0.00 50420.00 6042.00  "
      ]
     },
     "execution_count": 15,
     "metadata": {},
     "output_type": "execute_result"
    }
   ],
   "source": [
    "wfc.head()"
   ]
  },
  {
   "cell_type": "code",
   "execution_count": 16,
   "id": "74d869dd",
   "metadata": {},
   "outputs": [
    {
     "name": "stdout",
     "output_type": "stream",
     "text": [
      "<class 'pandas.core.frame.DataFrame'>\n",
      "RangeIndex: 5754 entries, 0 to 5753\n",
      "Data columns (total 15 columns):\n",
      " #   Column        Non-Null Count  Dtype         \n",
      "---  ------        --------------  -----         \n",
      " 0   Date          5754 non-null   datetime64[ns]\n",
      " 1   Close         5754 non-null   float64       \n",
      " 2   Weekday       5754 non-null   int64         \n",
      " 3   volumeChange  5754 non-null   float64       \n",
      " 4   closeChange   5754 non-null   float64       \n",
      " 5   EMA 10        5754 non-null   float64       \n",
      " 6   EMA 20        5754 non-null   float64       \n",
      " 7   EMA 50        5754 non-null   float64       \n",
      " 8   EMA 100       5754 non-null   float64       \n",
      " 9   ROC5          5754 non-null   float64       \n",
      " 10  ROC10         5754 non-null   float64       \n",
      " 11  ROC15         5754 non-null   float64       \n",
      " 12  ROC20         5754 non-null   float64       \n",
      " 13  DTB6          5754 non-null   float64       \n",
      " 14  DGS5          5754 non-null   float64       \n",
      "dtypes: datetime64[ns](1), float64(13), int64(1)\n",
      "memory usage: 674.4 KB\n"
     ]
    }
   ],
   "source": [
    "wfc.info()"
   ]
  },
  {
   "cell_type": "code",
   "execution_count": 17,
   "id": "725de532",
   "metadata": {},
   "outputs": [
    {
     "data": {
      "text/html": [
       "<div>\n",
       "<style scoped>\n",
       "    .dataframe tbody tr th:only-of-type {\n",
       "        vertical-align: middle;\n",
       "    }\n",
       "\n",
       "    .dataframe tbody tr th {\n",
       "        vertical-align: top;\n",
       "    }\n",
       "\n",
       "    .dataframe thead th {\n",
       "        text-align: right;\n",
       "    }\n",
       "</style>\n",
       "<table border=\"1\" class=\"dataframe\">\n",
       "  <thead>\n",
       "    <tr style=\"text-align: right;\">\n",
       "      <th></th>\n",
       "      <th>Close</th>\n",
       "      <th>Weekday</th>\n",
       "      <th>volumeChange</th>\n",
       "      <th>closeChange</th>\n",
       "      <th>EMA 10</th>\n",
       "      <th>EMA 20</th>\n",
       "      <th>EMA 50</th>\n",
       "      <th>EMA 100</th>\n",
       "      <th>ROC5</th>\n",
       "      <th>ROC10</th>\n",
       "      <th>ROC15</th>\n",
       "      <th>ROC20</th>\n",
       "      <th>DTB6</th>\n",
       "      <th>DGS5</th>\n",
       "    </tr>\n",
       "  </thead>\n",
       "  <tbody>\n",
       "    <tr>\n",
       "      <th>count</th>\n",
       "      <td>5754.00</td>\n",
       "      <td>5754.00</td>\n",
       "      <td>5754.00</td>\n",
       "      <td>5754.00</td>\n",
       "      <td>5754.00</td>\n",
       "      <td>5754.00</td>\n",
       "      <td>5754.00</td>\n",
       "      <td>5754.00</td>\n",
       "      <td>5754.00</td>\n",
       "      <td>5754.00</td>\n",
       "      <td>5754.00</td>\n",
       "      <td>5754.00</td>\n",
       "      <td>5754.00</td>\n",
       "      <td>5754.00</td>\n",
       "    </tr>\n",
       "    <tr>\n",
       "      <th>mean</th>\n",
       "      <td>36.38</td>\n",
       "      <td>2.02</td>\n",
       "      <td>5.93</td>\n",
       "      <td>0.04</td>\n",
       "      <td>36.36</td>\n",
       "      <td>36.34</td>\n",
       "      <td>36.27</td>\n",
       "      <td>36.16</td>\n",
       "      <td>0.05</td>\n",
       "      <td>0.04</td>\n",
       "      <td>0.04</td>\n",
       "      <td>0.04</td>\n",
       "      <td>6689.76</td>\n",
       "      <td>2101.97</td>\n",
       "    </tr>\n",
       "    <tr>\n",
       "      <th>std</th>\n",
       "      <td>11.75</td>\n",
       "      <td>1.40</td>\n",
       "      <td>39.58</td>\n",
       "      <td>2.45</td>\n",
       "      <td>11.71</td>\n",
       "      <td>11.68</td>\n",
       "      <td>11.59</td>\n",
       "      <td>11.45</td>\n",
       "      <td>0.99</td>\n",
       "      <td>0.65</td>\n",
       "      <td>0.52</td>\n",
       "      <td>0.43</td>\n",
       "      <td>13368.12</td>\n",
       "      <td>1528.92</td>\n",
       "    </tr>\n",
       "    <tr>\n",
       "      <th>min</th>\n",
       "      <td>8.12</td>\n",
       "      <td>0.00</td>\n",
       "      <td>-84.21</td>\n",
       "      <td>-23.82</td>\n",
       "      <td>10.68</td>\n",
       "      <td>12.45</td>\n",
       "      <td>15.86</td>\n",
       "      <td>17.93</td>\n",
       "      <td>-10.67</td>\n",
       "      <td>-6.28</td>\n",
       "      <td>-4.60</td>\n",
       "      <td>-3.39</td>\n",
       "      <td>0.00</td>\n",
       "      <td>0.00</td>\n",
       "    </tr>\n",
       "    <tr>\n",
       "      <th>25%</th>\n",
       "      <td>26.74</td>\n",
       "      <td>1.00</td>\n",
       "      <td>-18.62</td>\n",
       "      <td>-0.84</td>\n",
       "      <td>26.76</td>\n",
       "      <td>26.85</td>\n",
       "      <td>26.86</td>\n",
       "      <td>27.03</td>\n",
       "      <td>-0.34</td>\n",
       "      <td>-0.22</td>\n",
       "      <td>-0.16</td>\n",
       "      <td>-0.13</td>\n",
       "      <td>14.00</td>\n",
       "      <td>1045.00</td>\n",
       "    </tr>\n",
       "    <tr>\n",
       "      <th>50%</th>\n",
       "      <td>32.64</td>\n",
       "      <td>2.00</td>\n",
       "      <td>-0.81</td>\n",
       "      <td>0.00</td>\n",
       "      <td>32.47</td>\n",
       "      <td>32.43</td>\n",
       "      <td>32.12</td>\n",
       "      <td>31.70</td>\n",
       "      <td>0.04</td>\n",
       "      <td>0.04</td>\n",
       "      <td>0.04</td>\n",
       "      <td>0.04</td>\n",
       "      <td>1012.00</td>\n",
       "      <td>2031.00</td>\n",
       "    </tr>\n",
       "    <tr>\n",
       "      <th>75%</th>\n",
       "      <td>47.79</td>\n",
       "      <td>3.00</td>\n",
       "      <td>20.93</td>\n",
       "      <td>0.86</td>\n",
       "      <td>47.87</td>\n",
       "      <td>47.96</td>\n",
       "      <td>48.12</td>\n",
       "      <td>47.94</td>\n",
       "      <td>0.43</td>\n",
       "      <td>0.30</td>\n",
       "      <td>0.25</td>\n",
       "      <td>0.22</td>\n",
       "      <td>4096.00</td>\n",
       "      <td>3068.00</td>\n",
       "    </tr>\n",
       "    <tr>\n",
       "      <th>max</th>\n",
       "      <td>65.93</td>\n",
       "      <td>4.00</td>\n",
       "      <td>480.19</td>\n",
       "      <td>32.76</td>\n",
       "      <td>65.12</td>\n",
       "      <td>64.10</td>\n",
       "      <td>61.54</td>\n",
       "      <td>59.00</td>\n",
       "      <td>11.66</td>\n",
       "      <td>7.05</td>\n",
       "      <td>5.18</td>\n",
       "      <td>3.79</td>\n",
       "      <td>60240.00</td>\n",
       "      <td>6083.00</td>\n",
       "    </tr>\n",
       "  </tbody>\n",
       "</table>\n",
       "</div>"
      ],
      "text/plain": [
       "        Close  Weekday  volumeChange  closeChange  EMA 10  EMA 20  EMA 50  \\\n",
       "count 5754.00  5754.00       5754.00      5754.00 5754.00 5754.00 5754.00   \n",
       "mean    36.38     2.02          5.93         0.04   36.36   36.34   36.27   \n",
       "std     11.75     1.40         39.58         2.45   11.71   11.68   11.59   \n",
       "min      8.12     0.00        -84.21       -23.82   10.68   12.45   15.86   \n",
       "25%     26.74     1.00        -18.62        -0.84   26.76   26.85   26.86   \n",
       "50%     32.64     2.00         -0.81         0.00   32.47   32.43   32.12   \n",
       "75%     47.79     3.00         20.93         0.86   47.87   47.96   48.12   \n",
       "max     65.93     4.00        480.19        32.76   65.12   64.10   61.54   \n",
       "\n",
       "       EMA 100    ROC5   ROC10   ROC15   ROC20     DTB6    DGS5  \n",
       "count  5754.00 5754.00 5754.00 5754.00 5754.00  5754.00 5754.00  \n",
       "mean     36.16    0.05    0.04    0.04    0.04  6689.76 2101.97  \n",
       "std      11.45    0.99    0.65    0.52    0.43 13368.12 1528.92  \n",
       "min      17.93  -10.67   -6.28   -4.60   -3.39     0.00    0.00  \n",
       "25%      27.03   -0.34   -0.22   -0.16   -0.13    14.00 1045.00  \n",
       "50%      31.70    0.04    0.04    0.04    0.04  1012.00 2031.00  \n",
       "75%      47.94    0.43    0.30    0.25    0.22  4096.00 3068.00  \n",
       "max      59.00   11.66    7.05    5.18    3.79 60240.00 6083.00  "
      ]
     },
     "execution_count": 17,
     "metadata": {},
     "output_type": "execute_result"
    }
   ],
   "source": [
    "wfc.describe()"
   ]
  },
  {
   "cell_type": "code",
   "execution_count": 18,
   "id": "d4ce26e5",
   "metadata": {},
   "outputs": [
    {
     "data": {
      "text/html": [
       "<style type=\"text/css\">\n",
       "#T_08eee_row0_col0, #T_08eee_row0_col4, #T_08eee_row1_col1, #T_08eee_row2_col2, #T_08eee_row3_col3, #T_08eee_row4_col0, #T_08eee_row4_col4, #T_08eee_row4_col5, #T_08eee_row5_col4, #T_08eee_row5_col5, #T_08eee_row5_col6, #T_08eee_row6_col5, #T_08eee_row6_col6, #T_08eee_row6_col7, #T_08eee_row7_col6, #T_08eee_row7_col7, #T_08eee_row8_col8, #T_08eee_row9_col9, #T_08eee_row10_col10, #T_08eee_row11_col11, #T_08eee_row12_col12, #T_08eee_row13_col13 {\n",
       "  background-color: #023858;\n",
       "  color: #f1f1f1;\n",
       "}\n",
       "#T_08eee_row0_col1, #T_08eee_row1_col10, #T_08eee_row4_col1, #T_08eee_row4_col11, #T_08eee_row5_col1, #T_08eee_row6_col1, #T_08eee_row7_col1, #T_08eee_row12_col2, #T_08eee_row12_col9, #T_08eee_row13_col2 {\n",
       "  background-color: #f1ebf5;\n",
       "  color: #000000;\n",
       "}\n",
       "#T_08eee_row0_col2, #T_08eee_row4_col2, #T_08eee_row5_col2, #T_08eee_row6_col2, #T_08eee_row7_col2, #T_08eee_row8_col1, #T_08eee_row9_col1, #T_08eee_row10_col1, #T_08eee_row11_col1 {\n",
       "  background-color: #f2ecf5;\n",
       "  color: #000000;\n",
       "}\n",
       "#T_08eee_row0_col3, #T_08eee_row1_col2, #T_08eee_row2_col1, #T_08eee_row6_col8, #T_08eee_row6_col9, #T_08eee_row7_col8, #T_08eee_row7_col9, #T_08eee_row7_col10, #T_08eee_row7_col11, #T_08eee_row7_col12, #T_08eee_row7_col13, #T_08eee_row12_col0, #T_08eee_row12_col4, #T_08eee_row12_col5, #T_08eee_row12_col6, #T_08eee_row12_col7 {\n",
       "  background-color: #fff7fb;\n",
       "  color: #000000;\n",
       "}\n",
       "#T_08eee_row0_col5, #T_08eee_row4_col6, #T_08eee_row5_col0, #T_08eee_row6_col4 {\n",
       "  background-color: #02395a;\n",
       "  color: #f1f1f1;\n",
       "}\n",
       "#T_08eee_row0_col6, #T_08eee_row5_col7, #T_08eee_row6_col0, #T_08eee_row7_col5 {\n",
       "  background-color: #023a5b;\n",
       "  color: #f1f1f1;\n",
       "}\n",
       "#T_08eee_row0_col7, #T_08eee_row7_col0 {\n",
       "  background-color: #023d60;\n",
       "  color: #f1f1f1;\n",
       "}\n",
       "#T_08eee_row0_col8 {\n",
       "  background-color: #f5eff6;\n",
       "  color: #000000;\n",
       "}\n",
       "#T_08eee_row0_col9, #T_08eee_row1_col11, #T_08eee_row13_col1 {\n",
       "  background-color: #f0eaf4;\n",
       "  color: #000000;\n",
       "}\n",
       "#T_08eee_row0_col10, #T_08eee_row12_col11 {\n",
       "  background-color: #ede8f3;\n",
       "  color: #000000;\n",
       "}\n",
       "#T_08eee_row0_col11 {\n",
       "  background-color: #ebe6f2;\n",
       "  color: #000000;\n",
       "}\n",
       "#T_08eee_row0_col12, #T_08eee_row0_col13, #T_08eee_row4_col12, #T_08eee_row4_col13, #T_08eee_row5_col3, #T_08eee_row5_col12, #T_08eee_row5_col13, #T_08eee_row6_col3, #T_08eee_row6_col10 {\n",
       "  background-color: #fef6fa;\n",
       "  color: #000000;\n",
       "}\n",
       "#T_08eee_row1_col0, #T_08eee_row1_col4, #T_08eee_row1_col5, #T_08eee_row2_col6, #T_08eee_row8_col0 {\n",
       "  background-color: #bdc8e1;\n",
       "  color: #000000;\n",
       "}\n",
       "#T_08eee_row1_col3, #T_08eee_row5_col9 {\n",
       "  background-color: #fcf4fa;\n",
       "  color: #000000;\n",
       "}\n",
       "#T_08eee_row1_col6, #T_08eee_row2_col7, #T_08eee_row3_col10 {\n",
       "  background-color: #bcc7e1;\n",
       "  color: #000000;\n",
       "}\n",
       "#T_08eee_row1_col7, #T_08eee_row2_col12, #T_08eee_row3_col12, #T_08eee_row9_col0 {\n",
       "  background-color: #bbc7e0;\n",
       "  color: #000000;\n",
       "}\n",
       "#T_08eee_row1_col8, #T_08eee_row5_col11, #T_08eee_row8_col2 {\n",
       "  background-color: #f7f0f7;\n",
       "  color: #000000;\n",
       "}\n",
       "#T_08eee_row1_col9, #T_08eee_row13_col9 {\n",
       "  background-color: #f3edf5;\n",
       "  color: #000000;\n",
       "}\n",
       "#T_08eee_row1_col12, #T_08eee_row8_col12, #T_08eee_row9_col12 {\n",
       "  background-color: #b9c6e0;\n",
       "  color: #000000;\n",
       "}\n",
       "#T_08eee_row1_col13 {\n",
       "  background-color: #c0c9e2;\n",
       "  color: #000000;\n",
       "}\n",
       "#T_08eee_row2_col0, #T_08eee_row2_col4, #T_08eee_row2_col5 {\n",
       "  background-color: #bfc9e1;\n",
       "  color: #000000;\n",
       "}\n",
       "#T_08eee_row2_col3, #T_08eee_row4_col8, #T_08eee_row6_col11, #T_08eee_row7_col3 {\n",
       "  background-color: #fdf5fa;\n",
       "  color: #000000;\n",
       "}\n",
       "#T_08eee_row2_col8 {\n",
       "  background-color: #fbf4f9;\n",
       "  color: #000000;\n",
       "}\n",
       "#T_08eee_row2_col9, #T_08eee_row13_col8 {\n",
       "  background-color: #f6eff7;\n",
       "  color: #000000;\n",
       "}\n",
       "#T_08eee_row2_col10, #T_08eee_row3_col1, #T_08eee_row11_col2 {\n",
       "  background-color: #f4edf6;\n",
       "  color: #000000;\n",
       "}\n",
       "#T_08eee_row2_col11, #T_08eee_row12_col1, #T_08eee_row13_col10 {\n",
       "  background-color: #f1ebf4;\n",
       "  color: #000000;\n",
       "}\n",
       "#T_08eee_row2_col13, #T_08eee_row3_col7, #T_08eee_row3_col11, #T_08eee_row11_col13 {\n",
       "  background-color: #c1cae2;\n",
       "  color: #000000;\n",
       "}\n",
       "#T_08eee_row3_col0, #T_08eee_row9_col4 {\n",
       "  background-color: #c6cce3;\n",
       "  color: #000000;\n",
       "}\n",
       "#T_08eee_row3_col2, #T_08eee_row9_col2, #T_08eee_row10_col2, #T_08eee_row12_col8 {\n",
       "  background-color: #f5eef6;\n",
       "  color: #000000;\n",
       "}\n",
       "#T_08eee_row3_col4 {\n",
       "  background-color: #c5cce3;\n",
       "  color: #000000;\n",
       "}\n",
       "#T_08eee_row3_col5, #T_08eee_row3_col13, #T_08eee_row10_col4 {\n",
       "  background-color: #c4cbe3;\n",
       "  color: #000000;\n",
       "}\n",
       "#T_08eee_row3_col6, #T_08eee_row8_col13, #T_08eee_row9_col13, #T_08eee_row10_col13, #T_08eee_row11_col4 {\n",
       "  background-color: #c2cbe2;\n",
       "  color: #000000;\n",
       "}\n",
       "#T_08eee_row3_col8 {\n",
       "  background-color: #84b0d3;\n",
       "  color: #f1f1f1;\n",
       "}\n",
       "#T_08eee_row3_col9 {\n",
       "  background-color: #abbfdc;\n",
       "  color: #000000;\n",
       "}\n",
       "#T_08eee_row4_col3, #T_08eee_row5_col8, #T_08eee_row6_col12, #T_08eee_row6_col13 {\n",
       "  background-color: #fef6fb;\n",
       "  color: #000000;\n",
       "}\n",
       "#T_08eee_row4_col7, #T_08eee_row7_col4 {\n",
       "  background-color: #023c5f;\n",
       "  color: #f1f1f1;\n",
       "}\n",
       "#T_08eee_row4_col9 {\n",
       "  background-color: #f8f1f8;\n",
       "  color: #000000;\n",
       "}\n",
       "#T_08eee_row4_col10 {\n",
       "  background-color: #f4eef6;\n",
       "  color: #000000;\n",
       "}\n",
       "#T_08eee_row5_col10, #T_08eee_row12_col3 {\n",
       "  background-color: #f9f2f8;\n",
       "  color: #000000;\n",
       "}\n",
       "#T_08eee_row8_col3 {\n",
       "  background-color: #8bb2d4;\n",
       "  color: #000000;\n",
       "}\n",
       "#T_08eee_row8_col4 {\n",
       "  background-color: #c9cee4;\n",
       "  color: #000000;\n",
       "}\n",
       "#T_08eee_row8_col5, #T_08eee_row8_col7, #T_08eee_row10_col3, #T_08eee_row11_col5 {\n",
       "  background-color: #cacee5;\n",
       "  color: #000000;\n",
       "}\n",
       "#T_08eee_row8_col6, #T_08eee_row10_col5 {\n",
       "  background-color: #cccfe5;\n",
       "  color: #000000;\n",
       "}\n",
       "#T_08eee_row8_col9 {\n",
       "  background-color: #1e80b8;\n",
       "  color: #f1f1f1;\n",
       "}\n",
       "#T_08eee_row8_col10 {\n",
       "  background-color: #4295c3;\n",
       "  color: #f1f1f1;\n",
       "}\n",
       "#T_08eee_row8_col11 {\n",
       "  background-color: #6da6cd;\n",
       "  color: #f1f1f1;\n",
       "}\n",
       "#T_08eee_row9_col3 {\n",
       "  background-color: #b5c4df;\n",
       "  color: #000000;\n",
       "}\n",
       "#T_08eee_row9_col5 {\n",
       "  background-color: #cdd0e5;\n",
       "  color: #000000;\n",
       "}\n",
       "#T_08eee_row9_col6 {\n",
       "  background-color: #d1d2e6;\n",
       "  color: #000000;\n",
       "}\n",
       "#T_08eee_row9_col7 {\n",
       "  background-color: #d0d1e6;\n",
       "  color: #000000;\n",
       "}\n",
       "#T_08eee_row9_col8 {\n",
       "  background-color: #2182b9;\n",
       "  color: #f1f1f1;\n",
       "}\n",
       "#T_08eee_row9_col10, #T_08eee_row12_col13 {\n",
       "  background-color: #0568a3;\n",
       "  color: #f1f1f1;\n",
       "}\n",
       "#T_08eee_row9_col11 {\n",
       "  background-color: #167bb6;\n",
       "  color: #f1f1f1;\n",
       "}\n",
       "#T_08eee_row10_col0, #T_08eee_row10_col12, #T_08eee_row11_col0, #T_08eee_row11_col12 {\n",
       "  background-color: #b8c6e0;\n",
       "  color: #000000;\n",
       "}\n",
       "#T_08eee_row10_col6 {\n",
       "  background-color: #d2d2e7;\n",
       "  color: #000000;\n",
       "}\n",
       "#T_08eee_row10_col7 {\n",
       "  background-color: #d2d3e7;\n",
       "  color: #000000;\n",
       "}\n",
       "#T_08eee_row10_col8 {\n",
       "  background-color: #4a98c5;\n",
       "  color: #f1f1f1;\n",
       "}\n",
       "#T_08eee_row10_col9 {\n",
       "  background-color: #0569a4;\n",
       "  color: #f1f1f1;\n",
       "}\n",
       "#T_08eee_row10_col11, #T_08eee_row11_col10 {\n",
       "  background-color: #046096;\n",
       "  color: #f1f1f1;\n",
       "}\n",
       "#T_08eee_row11_col3, #T_08eee_row11_col6 {\n",
       "  background-color: #d3d4e7;\n",
       "  color: #000000;\n",
       "}\n",
       "#T_08eee_row11_col7 {\n",
       "  background-color: #d5d5e8;\n",
       "  color: #000000;\n",
       "}\n",
       "#T_08eee_row11_col8 {\n",
       "  background-color: #79abd0;\n",
       "  color: #f1f1f1;\n",
       "}\n",
       "#T_08eee_row11_col9 {\n",
       "  background-color: #1b7eb7;\n",
       "  color: #f1f1f1;\n",
       "}\n",
       "#T_08eee_row12_col10 {\n",
       "  background-color: #efe9f3;\n",
       "  color: #000000;\n",
       "}\n",
       "#T_08eee_row13_col0, #T_08eee_row13_col4, #T_08eee_row13_col5, #T_08eee_row13_col6, #T_08eee_row13_col7 {\n",
       "  background-color: #fbf3f9;\n",
       "  color: #000000;\n",
       "}\n",
       "#T_08eee_row13_col3 {\n",
       "  background-color: #faf3f9;\n",
       "  color: #000000;\n",
       "}\n",
       "#T_08eee_row13_col11 {\n",
       "  background-color: #eee9f3;\n",
       "  color: #000000;\n",
       "}\n",
       "#T_08eee_row13_col12 {\n",
       "  background-color: #0567a1;\n",
       "  color: #f1f1f1;\n",
       "}\n",
       "</style>\n",
       "<table id=\"T_08eee\">\n",
       "  <thead>\n",
       "    <tr>\n",
       "      <th class=\"blank level0\" >&nbsp;</th>\n",
       "      <th id=\"T_08eee_level0_col0\" class=\"col_heading level0 col0\" >Close</th>\n",
       "      <th id=\"T_08eee_level0_col1\" class=\"col_heading level0 col1\" >Weekday</th>\n",
       "      <th id=\"T_08eee_level0_col2\" class=\"col_heading level0 col2\" >volumeChange</th>\n",
       "      <th id=\"T_08eee_level0_col3\" class=\"col_heading level0 col3\" >closeChange</th>\n",
       "      <th id=\"T_08eee_level0_col4\" class=\"col_heading level0 col4\" >EMA 10</th>\n",
       "      <th id=\"T_08eee_level0_col5\" class=\"col_heading level0 col5\" >EMA 20</th>\n",
       "      <th id=\"T_08eee_level0_col6\" class=\"col_heading level0 col6\" >EMA 50</th>\n",
       "      <th id=\"T_08eee_level0_col7\" class=\"col_heading level0 col7\" >EMA 100</th>\n",
       "      <th id=\"T_08eee_level0_col8\" class=\"col_heading level0 col8\" >ROC5</th>\n",
       "      <th id=\"T_08eee_level0_col9\" class=\"col_heading level0 col9\" >ROC10</th>\n",
       "      <th id=\"T_08eee_level0_col10\" class=\"col_heading level0 col10\" >ROC15</th>\n",
       "      <th id=\"T_08eee_level0_col11\" class=\"col_heading level0 col11\" >ROC20</th>\n",
       "      <th id=\"T_08eee_level0_col12\" class=\"col_heading level0 col12\" >DTB6</th>\n",
       "      <th id=\"T_08eee_level0_col13\" class=\"col_heading level0 col13\" >DGS5</th>\n",
       "    </tr>\n",
       "  </thead>\n",
       "  <tbody>\n",
       "    <tr>\n",
       "      <th id=\"T_08eee_level0_row0\" class=\"row_heading level0 row0\" >Close</th>\n",
       "      <td id=\"T_08eee_row0_col0\" class=\"data row0 col0\" >1.000000</td>\n",
       "      <td id=\"T_08eee_row0_col1\" class=\"data row0 col1\" >0.001747</td>\n",
       "      <td id=\"T_08eee_row0_col2\" class=\"data row0 col2\" >-0.006274</td>\n",
       "      <td id=\"T_08eee_row0_col3\" class=\"data row0 col3\" >-0.039838</td>\n",
       "      <td id=\"T_08eee_row0_col4\" class=\"data row0 col4\" >0.996956</td>\n",
       "      <td id=\"T_08eee_row0_col5\" class=\"data row0 col5\" >0.993631</td>\n",
       "      <td id=\"T_08eee_row0_col6\" class=\"data row0 col6\" >0.983874</td>\n",
       "      <td id=\"T_08eee_row0_col7\" class=\"data row0 col7\" >0.968750</td>\n",
       "      <td id=\"T_08eee_row0_col8\" class=\"data row0 col8\" >0.004187</td>\n",
       "      <td id=\"T_08eee_row0_col9\" class=\"data row0 col9\" >0.015491</td>\n",
       "      <td id=\"T_08eee_row0_col10\" class=\"data row0 col10\" >0.022925</td>\n",
       "      <td id=\"T_08eee_row0_col11\" class=\"data row0 col11\" >0.026540</td>\n",
       "      <td id=\"T_08eee_row0_col12\" class=\"data row0 col12\" >-0.439516</td>\n",
       "      <td id=\"T_08eee_row0_col13\" class=\"data row0 col13\" >-0.398083</td>\n",
       "    </tr>\n",
       "    <tr>\n",
       "      <th id=\"T_08eee_level0_row1\" class=\"row_heading level0 row1\" >Weekday</th>\n",
       "      <td id=\"T_08eee_row1_col0\" class=\"data row1 col0\" >0.001747</td>\n",
       "      <td id=\"T_08eee_row1_col1\" class=\"data row1 col1\" >1.000000</td>\n",
       "      <td id=\"T_08eee_row1_col2\" class=\"data row1 col2\" >-0.098591</td>\n",
       "      <td id=\"T_08eee_row1_col3\" class=\"data row1 col3\" >-0.017046</td>\n",
       "      <td id=\"T_08eee_row1_col4\" class=\"data row1 col4\" >0.001691</td>\n",
       "      <td id=\"T_08eee_row1_col5\" class=\"data row1 col5\" >0.001688</td>\n",
       "      <td id=\"T_08eee_row1_col6\" class=\"data row1 col6\" >0.001563</td>\n",
       "      <td id=\"T_08eee_row1_col7\" class=\"data row1 col7\" >0.001403</td>\n",
       "      <td id=\"T_08eee_row1_col8\" class=\"data row1 col8\" >-0.007323</td>\n",
       "      <td id=\"T_08eee_row1_col9\" class=\"data row1 col9\" >-0.005586</td>\n",
       "      <td id=\"T_08eee_row1_col10\" class=\"data row1 col10\" >-0.006370</td>\n",
       "      <td id=\"T_08eee_row1_col11\" class=\"data row1 col11\" >-0.004390</td>\n",
       "      <td id=\"T_08eee_row1_col12\" class=\"data row1 col12\" >0.006768</td>\n",
       "      <td id=\"T_08eee_row1_col13\" class=\"data row1 col13\" >0.010420</td>\n",
       "    </tr>\n",
       "    <tr>\n",
       "      <th id=\"T_08eee_level0_row2\" class=\"row_heading level0 row2\" >volumeChange</th>\n",
       "      <td id=\"T_08eee_row2_col0\" class=\"data row2 col0\" >-0.006274</td>\n",
       "      <td id=\"T_08eee_row2_col1\" class=\"data row2 col1\" >-0.098591</td>\n",
       "      <td id=\"T_08eee_row2_col2\" class=\"data row2 col2\" >1.000000</td>\n",
       "      <td id=\"T_08eee_row2_col3\" class=\"data row2 col3\" >-0.022412</td>\n",
       "      <td id=\"T_08eee_row2_col4\" class=\"data row2 col4\" >-0.004357</td>\n",
       "      <td id=\"T_08eee_row2_col5\" class=\"data row2 col5\" >-0.004683</td>\n",
       "      <td id=\"T_08eee_row2_col6\" class=\"data row2 col6\" >-0.005411</td>\n",
       "      <td id=\"T_08eee_row2_col7\" class=\"data row2 col7\" >-0.005978</td>\n",
       "      <td id=\"T_08eee_row2_col8\" class=\"data row2 col8\" >-0.039711</td>\n",
       "      <td id=\"T_08eee_row2_col9\" class=\"data row2 col9\" >-0.024530</td>\n",
       "      <td id=\"T_08eee_row2_col10\" class=\"data row2 col10\" >-0.024136</td>\n",
       "      <td id=\"T_08eee_row2_col11\" class=\"data row2 col11\" >-0.015871</td>\n",
       "      <td id=\"T_08eee_row2_col12\" class=\"data row2 col12\" >0.002426</td>\n",
       "      <td id=\"T_08eee_row2_col13\" class=\"data row2 col13\" >0.002252</td>\n",
       "    </tr>\n",
       "    <tr>\n",
       "      <th id=\"T_08eee_level0_row3\" class=\"row_heading level0 row3\" >closeChange</th>\n",
       "      <td id=\"T_08eee_row3_col0\" class=\"data row3 col0\" >-0.039838</td>\n",
       "      <td id=\"T_08eee_row3_col1\" class=\"data row3 col1\" >-0.017046</td>\n",
       "      <td id=\"T_08eee_row3_col2\" class=\"data row3 col2\" >-0.022412</td>\n",
       "      <td id=\"T_08eee_row3_col3\" class=\"data row3 col3\" >1.000000</td>\n",
       "      <td id=\"T_08eee_row3_col4\" class=\"data row3 col4\" >-0.033387</td>\n",
       "      <td id=\"T_08eee_row3_col5\" class=\"data row3 col5\" >-0.031502</td>\n",
       "      <td id=\"T_08eee_row3_col6\" class=\"data row3 col6\" >-0.029588</td>\n",
       "      <td id=\"T_08eee_row3_col7\" class=\"data row3 col7\" >-0.027446</td>\n",
       "      <td id=\"T_08eee_row3_col8\" class=\"data row3 col8\" >0.422185</td>\n",
       "      <td id=\"T_08eee_row3_col9\" class=\"data row3 col9\" >0.304658</td>\n",
       "      <td id=\"T_08eee_row3_col10\" class=\"data row3 col10\" >0.236822</td>\n",
       "      <td id=\"T_08eee_row3_col11\" class=\"data row3 col11\" >0.207675</td>\n",
       "      <td id=\"T_08eee_row3_col12\" class=\"data row3 col12\" >0.002199</td>\n",
       "      <td id=\"T_08eee_row3_col13\" class=\"data row3 col13\" >-0.005255</td>\n",
       "    </tr>\n",
       "    <tr>\n",
       "      <th id=\"T_08eee_level0_row4\" class=\"row_heading level0 row4\" >EMA 10</th>\n",
       "      <td id=\"T_08eee_row4_col0\" class=\"data row4 col0\" >0.996956</td>\n",
       "      <td id=\"T_08eee_row4_col1\" class=\"data row4 col1\" >0.001691</td>\n",
       "      <td id=\"T_08eee_row4_col2\" class=\"data row4 col2\" >-0.004357</td>\n",
       "      <td id=\"T_08eee_row4_col3\" class=\"data row4 col3\" >-0.033387</td>\n",
       "      <td id=\"T_08eee_row4_col4\" class=\"data row4 col4\" >1.000000</td>\n",
       "      <td id=\"T_08eee_row4_col5\" class=\"data row4 col5\" >0.998894</td>\n",
       "      <td id=\"T_08eee_row4_col6\" class=\"data row4 col6\" >0.991294</td>\n",
       "      <td id=\"T_08eee_row4_col7\" class=\"data row4 col7\" >0.976955</td>\n",
       "      <td id=\"T_08eee_row4_col8\" class=\"data row4 col8\" >-0.048146</td>\n",
       "      <td id=\"T_08eee_row4_col9\" class=\"data row4 col9\" >-0.040130</td>\n",
       "      <td id=\"T_08eee_row4_col10\" class=\"data row4 col10\" >-0.028623</td>\n",
       "      <td id=\"T_08eee_row4_col11\" class=\"data row4 col11\" >-0.019722</td>\n",
       "      <td id=\"T_08eee_row4_col12\" class=\"data row4 col12\" >-0.441711</td>\n",
       "      <td id=\"T_08eee_row4_col13\" class=\"data row4 col13\" >-0.399340</td>\n",
       "    </tr>\n",
       "    <tr>\n",
       "      <th id=\"T_08eee_level0_row5\" class=\"row_heading level0 row5\" >EMA 20</th>\n",
       "      <td id=\"T_08eee_row5_col0\" class=\"data row5 col0\" >0.993631</td>\n",
       "      <td id=\"T_08eee_row5_col1\" class=\"data row5 col1\" >0.001688</td>\n",
       "      <td id=\"T_08eee_row5_col2\" class=\"data row5 col2\" >-0.004683</td>\n",
       "      <td id=\"T_08eee_row5_col3\" class=\"data row5 col3\" >-0.031502</td>\n",
       "      <td id=\"T_08eee_row5_col4\" class=\"data row5 col4\" >0.998894</td>\n",
       "      <td id=\"T_08eee_row5_col5\" class=\"data row5 col5\" >1.000000</td>\n",
       "      <td id=\"T_08eee_row5_col6\" class=\"data row5 col6\" >0.995826</td>\n",
       "      <td id=\"T_08eee_row5_col7\" class=\"data row5 col7\" >0.983434</td>\n",
       "      <td id=\"T_08eee_row5_col8\" class=\"data row5 col8\" >-0.059152</td>\n",
       "      <td id=\"T_08eee_row5_col9\" class=\"data row5 col9\" >-0.065863</td>\n",
       "      <td id=\"T_08eee_row5_col10\" class=\"data row5 col10\" >-0.062123</td>\n",
       "      <td id=\"T_08eee_row5_col11\" class=\"data row5 col11\" >-0.056749</td>\n",
       "      <td id=\"T_08eee_row5_col12\" class=\"data row5 col12\" >-0.443600</td>\n",
       "      <td id=\"T_08eee_row5_col13\" class=\"data row5 col13\" >-0.400658</td>\n",
       "    </tr>\n",
       "    <tr>\n",
       "      <th id=\"T_08eee_level0_row6\" class=\"row_heading level0 row6\" >EMA 50</th>\n",
       "      <td id=\"T_08eee_row6_col0\" class=\"data row6 col0\" >0.983874</td>\n",
       "      <td id=\"T_08eee_row6_col1\" class=\"data row6 col1\" >0.001563</td>\n",
       "      <td id=\"T_08eee_row6_col2\" class=\"data row6 col2\" >-0.005411</td>\n",
       "      <td id=\"T_08eee_row6_col3\" class=\"data row6 col3\" >-0.029588</td>\n",
       "      <td id=\"T_08eee_row6_col4\" class=\"data row6 col4\" >0.991294</td>\n",
       "      <td id=\"T_08eee_row6_col5\" class=\"data row6 col5\" >0.995826</td>\n",
       "      <td id=\"T_08eee_row6_col6\" class=\"data row6 col6\" >1.000000</td>\n",
       "      <td id=\"T_08eee_row6_col7\" class=\"data row6 col7\" >0.994964</td>\n",
       "      <td id=\"T_08eee_row6_col8\" class=\"data row6 col8\" >-0.065505</td>\n",
       "      <td id=\"T_08eee_row6_col9\" class=\"data row6 col9\" >-0.087485</td>\n",
       "      <td id=\"T_08eee_row6_col10\" class=\"data row6 col10\" >-0.097548</td>\n",
       "      <td id=\"T_08eee_row6_col11\" class=\"data row6 col11\" >-0.104024</td>\n",
       "      <td id=\"T_08eee_row6_col12\" class=\"data row6 col12\" >-0.448769</td>\n",
       "      <td id=\"T_08eee_row6_col13\" class=\"data row6 col13\" >-0.405436</td>\n",
       "    </tr>\n",
       "    <tr>\n",
       "      <th id=\"T_08eee_level0_row7\" class=\"row_heading level0 row7\" >EMA 100</th>\n",
       "      <td id=\"T_08eee_row7_col0\" class=\"data row7 col0\" >0.968750</td>\n",
       "      <td id=\"T_08eee_row7_col1\" class=\"data row7 col1\" >0.001403</td>\n",
       "      <td id=\"T_08eee_row7_col2\" class=\"data row7 col2\" >-0.005978</td>\n",
       "      <td id=\"T_08eee_row7_col3\" class=\"data row7 col3\" >-0.027446</td>\n",
       "      <td id=\"T_08eee_row7_col4\" class=\"data row7 col4\" >0.976955</td>\n",
       "      <td id=\"T_08eee_row7_col5\" class=\"data row7 col5\" >0.983434</td>\n",
       "      <td id=\"T_08eee_row7_col6\" class=\"data row7 col6\" >0.994964</td>\n",
       "      <td id=\"T_08eee_row7_col7\" class=\"data row7 col7\" >1.000000</td>\n",
       "      <td id=\"T_08eee_row7_col8\" class=\"data row7 col8\" >-0.064271</td>\n",
       "      <td id=\"T_08eee_row7_col9\" class=\"data row7 col9\" >-0.091319</td>\n",
       "      <td id=\"T_08eee_row7_col10\" class=\"data row7 col10\" >-0.107953</td>\n",
       "      <td id=\"T_08eee_row7_col11\" class=\"data row7 col11\" >-0.121656</td>\n",
       "      <td id=\"T_08eee_row7_col12\" class=\"data row7 col12\" >-0.456469</td>\n",
       "      <td id=\"T_08eee_row7_col13\" class=\"data row7 col13\" >-0.412816</td>\n",
       "    </tr>\n",
       "    <tr>\n",
       "      <th id=\"T_08eee_level0_row8\" class=\"row_heading level0 row8\" >ROC5</th>\n",
       "      <td id=\"T_08eee_row8_col0\" class=\"data row8 col0\" >0.004187</td>\n",
       "      <td id=\"T_08eee_row8_col1\" class=\"data row8 col1\" >-0.007323</td>\n",
       "      <td id=\"T_08eee_row8_col2\" class=\"data row8 col2\" >-0.039711</td>\n",
       "      <td id=\"T_08eee_row8_col3\" class=\"data row8 col3\" >0.422185</td>\n",
       "      <td id=\"T_08eee_row8_col4\" class=\"data row8 col4\" >-0.048146</td>\n",
       "      <td id=\"T_08eee_row8_col5\" class=\"data row8 col5\" >-0.059152</td>\n",
       "      <td id=\"T_08eee_row8_col6\" class=\"data row8 col6\" >-0.065505</td>\n",
       "      <td id=\"T_08eee_row8_col7\" class=\"data row8 col7\" >-0.064271</td>\n",
       "      <td id=\"T_08eee_row8_col8\" class=\"data row8 col8\" >1.000000</td>\n",
       "      <td id=\"T_08eee_row8_col9\" class=\"data row8 col9\" >0.655172</td>\n",
       "      <td id=\"T_08eee_row8_col10\" class=\"data row8 col10\" >0.556507</td>\n",
       "      <td id=\"T_08eee_row8_col11\" class=\"data row8 col11\" >0.453355</td>\n",
       "      <td id=\"T_08eee_row8_col12\" class=\"data row8 col12\" >0.007238</td>\n",
       "      <td id=\"T_08eee_row8_col13\" class=\"data row8 col13\" >-0.000947</td>\n",
       "    </tr>\n",
       "    <tr>\n",
       "      <th id=\"T_08eee_level0_row9\" class=\"row_heading level0 row9\" >ROC10</th>\n",
       "      <td id=\"T_08eee_row9_col0\" class=\"data row9 col0\" >0.015491</td>\n",
       "      <td id=\"T_08eee_row9_col1\" class=\"data row9 col1\" >-0.005586</td>\n",
       "      <td id=\"T_08eee_row9_col2\" class=\"data row9 col2\" >-0.024530</td>\n",
       "      <td id=\"T_08eee_row9_col3\" class=\"data row9 col3\" >0.304658</td>\n",
       "      <td id=\"T_08eee_row9_col4\" class=\"data row9 col4\" >-0.040130</td>\n",
       "      <td id=\"T_08eee_row9_col5\" class=\"data row9 col5\" >-0.065863</td>\n",
       "      <td id=\"T_08eee_row9_col6\" class=\"data row9 col6\" >-0.087485</td>\n",
       "      <td id=\"T_08eee_row9_col7\" class=\"data row9 col7\" >-0.091319</td>\n",
       "      <td id=\"T_08eee_row9_col8\" class=\"data row9 col8\" >0.655172</td>\n",
       "      <td id=\"T_08eee_row9_col9\" class=\"data row9 col9\" >1.000000</td>\n",
       "      <td id=\"T_08eee_row9_col10\" class=\"data row9 col10\" >0.773739</td>\n",
       "      <td id=\"T_08eee_row9_col11\" class=\"data row9 col11\" >0.667275</td>\n",
       "      <td id=\"T_08eee_row9_col12\" class=\"data row9 col12\" >0.007035</td>\n",
       "      <td id=\"T_08eee_row9_col13\" class=\"data row9 col13\" >-0.003986</td>\n",
       "    </tr>\n",
       "    <tr>\n",
       "      <th id=\"T_08eee_level0_row10\" class=\"row_heading level0 row10\" >ROC15</th>\n",
       "      <td id=\"T_08eee_row10_col0\" class=\"data row10 col0\" >0.022925</td>\n",
       "      <td id=\"T_08eee_row10_col1\" class=\"data row10 col1\" >-0.006370</td>\n",
       "      <td id=\"T_08eee_row10_col2\" class=\"data row10 col2\" >-0.024136</td>\n",
       "      <td id=\"T_08eee_row10_col3\" class=\"data row10 col3\" >0.236822</td>\n",
       "      <td id=\"T_08eee_row10_col4\" class=\"data row10 col4\" >-0.028623</td>\n",
       "      <td id=\"T_08eee_row10_col5\" class=\"data row10 col5\" >-0.062123</td>\n",
       "      <td id=\"T_08eee_row10_col6\" class=\"data row10 col6\" >-0.097548</td>\n",
       "      <td id=\"T_08eee_row10_col7\" class=\"data row10 col7\" >-0.107953</td>\n",
       "      <td id=\"T_08eee_row10_col8\" class=\"data row10 col8\" >0.556507</td>\n",
       "      <td id=\"T_08eee_row10_col9\" class=\"data row10 col9\" >0.773739</td>\n",
       "      <td id=\"T_08eee_row10_col10\" class=\"data row10 col10\" >1.000000</td>\n",
       "      <td id=\"T_08eee_row10_col11\" class=\"data row10 col11\" >0.823853</td>\n",
       "      <td id=\"T_08eee_row10_col12\" class=\"data row10 col12\" >0.010876</td>\n",
       "      <td id=\"T_08eee_row10_col13\" class=\"data row10 col13\" >-0.000735</td>\n",
       "    </tr>\n",
       "    <tr>\n",
       "      <th id=\"T_08eee_level0_row11\" class=\"row_heading level0 row11\" >ROC20</th>\n",
       "      <td id=\"T_08eee_row11_col0\" class=\"data row11 col0\" >0.026540</td>\n",
       "      <td id=\"T_08eee_row11_col1\" class=\"data row11 col1\" >-0.004390</td>\n",
       "      <td id=\"T_08eee_row11_col2\" class=\"data row11 col2\" >-0.015871</td>\n",
       "      <td id=\"T_08eee_row11_col3\" class=\"data row11 col3\" >0.207675</td>\n",
       "      <td id=\"T_08eee_row11_col4\" class=\"data row11 col4\" >-0.019722</td>\n",
       "      <td id=\"T_08eee_row11_col5\" class=\"data row11 col5\" >-0.056749</td>\n",
       "      <td id=\"T_08eee_row11_col6\" class=\"data row11 col6\" >-0.104024</td>\n",
       "      <td id=\"T_08eee_row11_col7\" class=\"data row11 col7\" >-0.121656</td>\n",
       "      <td id=\"T_08eee_row11_col8\" class=\"data row11 col8\" >0.453355</td>\n",
       "      <td id=\"T_08eee_row11_col9\" class=\"data row11 col9\" >0.667275</td>\n",
       "      <td id=\"T_08eee_row11_col10\" class=\"data row11 col10\" >0.823853</td>\n",
       "      <td id=\"T_08eee_row11_col11\" class=\"data row11 col11\" >1.000000</td>\n",
       "      <td id=\"T_08eee_row11_col12\" class=\"data row11 col12\" >0.013140</td>\n",
       "      <td id=\"T_08eee_row11_col13\" class=\"data row11 col13\" >0.002743</td>\n",
       "    </tr>\n",
       "    <tr>\n",
       "      <th id=\"T_08eee_level0_row12\" class=\"row_heading level0 row12\" >DTB6</th>\n",
       "      <td id=\"T_08eee_row12_col0\" class=\"data row12 col0\" >-0.439516</td>\n",
       "      <td id=\"T_08eee_row12_col1\" class=\"data row12 col1\" >0.006768</td>\n",
       "      <td id=\"T_08eee_row12_col2\" class=\"data row12 col2\" >0.002426</td>\n",
       "      <td id=\"T_08eee_row12_col3\" class=\"data row12 col3\" >0.002199</td>\n",
       "      <td id=\"T_08eee_row12_col4\" class=\"data row12 col4\" >-0.441711</td>\n",
       "      <td id=\"T_08eee_row12_col5\" class=\"data row12 col5\" >-0.443600</td>\n",
       "      <td id=\"T_08eee_row12_col6\" class=\"data row12 col6\" >-0.448769</td>\n",
       "      <td id=\"T_08eee_row12_col7\" class=\"data row12 col7\" >-0.456469</td>\n",
       "      <td id=\"T_08eee_row12_col8\" class=\"data row12 col8\" >0.007238</td>\n",
       "      <td id=\"T_08eee_row12_col9\" class=\"data row12 col9\" >0.007035</td>\n",
       "      <td id=\"T_08eee_row12_col10\" class=\"data row12 col10\" >0.010876</td>\n",
       "      <td id=\"T_08eee_row12_col11\" class=\"data row12 col11\" >0.013140</td>\n",
       "      <td id=\"T_08eee_row12_col12\" class=\"data row12 col12\" >1.000000</td>\n",
       "      <td id=\"T_08eee_row12_col13\" class=\"data row12 col13\" >0.710803</td>\n",
       "    </tr>\n",
       "    <tr>\n",
       "      <th id=\"T_08eee_level0_row13\" class=\"row_heading level0 row13\" >DGS5</th>\n",
       "      <td id=\"T_08eee_row13_col0\" class=\"data row13 col0\" >-0.398083</td>\n",
       "      <td id=\"T_08eee_row13_col1\" class=\"data row13 col1\" >0.010420</td>\n",
       "      <td id=\"T_08eee_row13_col2\" class=\"data row13 col2\" >0.002252</td>\n",
       "      <td id=\"T_08eee_row13_col3\" class=\"data row13 col3\" >-0.005255</td>\n",
       "      <td id=\"T_08eee_row13_col4\" class=\"data row13 col4\" >-0.399340</td>\n",
       "      <td id=\"T_08eee_row13_col5\" class=\"data row13 col5\" >-0.400658</td>\n",
       "      <td id=\"T_08eee_row13_col6\" class=\"data row13 col6\" >-0.405436</td>\n",
       "      <td id=\"T_08eee_row13_col7\" class=\"data row13 col7\" >-0.412816</td>\n",
       "      <td id=\"T_08eee_row13_col8\" class=\"data row13 col8\" >-0.000947</td>\n",
       "      <td id=\"T_08eee_row13_col9\" class=\"data row13 col9\" >-0.003986</td>\n",
       "      <td id=\"T_08eee_row13_col10\" class=\"data row13 col10\" >-0.000735</td>\n",
       "      <td id=\"T_08eee_row13_col11\" class=\"data row13 col11\" >0.002743</td>\n",
       "      <td id=\"T_08eee_row13_col12\" class=\"data row13 col12\" >0.710803</td>\n",
       "      <td id=\"T_08eee_row13_col13\" class=\"data row13 col13\" >1.000000</td>\n",
       "    </tr>\n",
       "  </tbody>\n",
       "</table>\n"
      ],
      "text/plain": [
       "<pandas.io.formats.style.Styler at 0x1ff92563070>"
      ]
     },
     "execution_count": 18,
     "metadata": {},
     "output_type": "execute_result"
    }
   ],
   "source": [
    "correlation = wfc.corr ()  \n",
    "correlation. style.background_gradient ()"
   ]
  },
  {
   "cell_type": "code",
   "execution_count": 19,
   "id": "e60e4c4c",
   "metadata": {},
   "outputs": [],
   "source": [
    "#Dropping Volume for Clearer Scale"
   ]
  },
  {
   "cell_type": "markdown",
   "id": "2c464387",
   "metadata": {},
   "source": [
    "# The Split"
   ]
  },
  {
   "cell_type": "code",
   "execution_count": 20,
   "id": "a3593a07",
   "metadata": {},
   "outputs": [
    {
     "name": "stdout",
     "output_type": "stream",
     "text": [
      "Min: 2000-01-03 00:00:00 Max: 2022-11-11 00:00:00\n"
     ]
    }
   ],
   "source": [
    "min_date = wfc.Date.min()\n",
    "max_date = wfc.Date.max()\n",
    "print(\"Min:\", min_date, \"Max:\", max_date)"
   ]
  },
  {
   "cell_type": "code",
   "execution_count": 21,
   "id": "bf62035d",
   "metadata": {},
   "outputs": [
    {
     "name": "stdout",
     "output_type": "stream",
     "text": [
      "Training Cutoff Date: 2017-02-23 00:00:00\n",
      "Validation Cutoff Date: 2019-11-21 18:14:24\n"
     ]
    }
   ],
   "source": [
    "train_percent = .75\n",
    "valid_percent = .12\n",
    "\n",
    "time_between = max_date - min_date\n",
    "\n",
    "train_cutoff = min_date + train_percent*time_between\n",
    "valid_cutoff = min_date + (train_percent + valid_percent)*time_between\n",
    "\n",
    "print(\"Training Cutoff Date: {:s}\".format(str(train_cutoff)))\n",
    "print(\"Validation Cutoff Date: {:s}\".format(str(valid_cutoff)))"
   ]
  },
  {
   "cell_type": "code",
   "execution_count": 22,
   "id": "7845cdb2",
   "metadata": {},
   "outputs": [],
   "source": [
    "train_df = wfc[wfc.Date <= train_cutoff]\n",
    "valid_df = wfc[(wfc.Date > train_cutoff) & (wfc.Date <= valid_cutoff)]\n",
    "test_df = wfc[wfc.Date > valid_cutoff]\n"
   ]
  },
  {
   "cell_type": "code",
   "execution_count": 23,
   "id": "6bc99643",
   "metadata": {},
   "outputs": [
    {
     "name": "stdout",
     "output_type": "stream",
     "text": [
      "Dataset shape: (5754, 15)\n",
      "Train dataset shape: (4313, 15)\n",
      "Vaid dataset shape: (692, 15)\n",
      "Test dataset shape: (749, 15)\n"
     ]
    }
   ],
   "source": [
    "print(\"Dataset shape: {:s}\".format(str(wfc.shape)))\n",
    "print(\"Train dataset shape: {:s}\".format(str(train_df.shape)))\n",
    "print(\"Vaid dataset shape: {:s}\".format(str(valid_df.shape)))\n",
    "print(\"Test dataset shape: {:s}\".format(str(test_df.shape)))"
   ]
  },
  {
   "cell_type": "markdown",
   "id": "75ade580",
   "metadata": {},
   "source": [
    "# Stock Price Graph"
   ]
  },
  {
   "cell_type": "code",
   "execution_count": 24,
   "id": "363a3387",
   "metadata": {},
   "outputs": [
    {
     "data": {
      "text/plain": [
       "<matplotlib.legend.Legend at 0x1ff928bc100>"
      ]
     },
     "execution_count": 24,
     "metadata": {},
     "output_type": "execute_result"
    },
    {
     "data": {
      "image/png": "[encoded data removed]",
      "text/plain": [
       "<Figure size 2000x1000 with 1 Axes>"
      ]
     },
     "metadata": {},
     "output_type": "display_data"
    }
   ],
   "source": [
    "plotSeries(train_df.Date, train_df.Close, \"Training Data\")\n",
    "plotSeries(valid_df.Date, valid_df.Close, \"Validation Data\")\n",
    "plotSeries(test_df.Date, test_df.Close, \"Test Data\")\n",
    "plt.legend(loc='upper left')"
   ]
  },
  {
   "cell_type": "markdown",
   "id": "85221217",
   "metadata": {},
   "source": [
    "# Feature Engineering"
   ]
  },
  {
   "cell_type": "code",
   "execution_count": 25,
   "id": "6544794d",
   "metadata": {},
   "outputs": [],
   "source": [
    "train_df.set_index(['Date'],inplace=True)\n",
    "test_df.set_index(['Date'],inplace=True)\n",
    "valid_df.set_index(['Date'],inplace=True)"
   ]
  },
  {
   "cell_type": "code",
   "execution_count": 26,
   "id": "7627e83d",
   "metadata": {},
   "outputs": [
    {
     "data": {
      "text/html": [
       "<div>\n",
       "<style scoped>\n",
       "    .dataframe tbody tr th:only-of-type {\n",
       "        vertical-align: middle;\n",
       "    }\n",
       "\n",
       "    .dataframe tbody tr th {\n",
       "        vertical-align: top;\n",
       "    }\n",
       "\n",
       "    .dataframe thead th {\n",
       "        text-align: right;\n",
       "    }\n",
       "</style>\n",
       "<table border=\"1\" class=\"dataframe\">\n",
       "  <thead>\n",
       "    <tr style=\"text-align: right;\">\n",
       "      <th></th>\n",
       "      <th>Close</th>\n",
       "      <th>Weekday</th>\n",
       "      <th>volumeChange</th>\n",
       "      <th>closeChange</th>\n",
       "      <th>EMA 10</th>\n",
       "      <th>EMA 20</th>\n",
       "      <th>EMA 50</th>\n",
       "      <th>EMA 100</th>\n",
       "      <th>ROC5</th>\n",
       "      <th>ROC10</th>\n",
       "      <th>ROC15</th>\n",
       "      <th>ROC20</th>\n",
       "      <th>DTB6</th>\n",
       "      <th>DGS5</th>\n",
       "    </tr>\n",
       "    <tr>\n",
       "      <th>Date</th>\n",
       "      <th></th>\n",
       "      <th></th>\n",
       "      <th></th>\n",
       "      <th></th>\n",
       "      <th></th>\n",
       "      <th></th>\n",
       "      <th></th>\n",
       "      <th></th>\n",
       "      <th></th>\n",
       "      <th></th>\n",
       "      <th></th>\n",
       "      <th></th>\n",
       "      <th></th>\n",
       "      <th></th>\n",
       "    </tr>\n",
       "  </thead>\n",
       "  <tbody>\n",
       "    <tr>\n",
       "      <th>2000-01-03</th>\n",
       "      <td>19.56</td>\n",
       "      <td>0</td>\n",
       "      <td>68.61</td>\n",
       "      <td>-4.95</td>\n",
       "      <td>19.56</td>\n",
       "      <td>19.56</td>\n",
       "      <td>19.56</td>\n",
       "      <td>19.56</td>\n",
       "      <td>0.00</td>\n",
       "      <td>0.00</td>\n",
       "      <td>0.00</td>\n",
       "      <td>0.00</td>\n",
       "      <td>50550.00</td>\n",
       "      <td>6050.00</td>\n",
       "    </tr>\n",
       "    <tr>\n",
       "      <th>2000-01-04</th>\n",
       "      <td>18.59</td>\n",
       "      <td>1</td>\n",
       "      <td>-46.00</td>\n",
       "      <td>-1.01</td>\n",
       "      <td>19.03</td>\n",
       "      <td>19.05</td>\n",
       "      <td>19.07</td>\n",
       "      <td>19.07</td>\n",
       "      <td>0.00</td>\n",
       "      <td>0.00</td>\n",
       "      <td>0.00</td>\n",
       "      <td>0.00</td>\n",
       "      <td>50500.00</td>\n",
       "      <td>6040.00</td>\n",
       "    </tr>\n",
       "    <tr>\n",
       "      <th>2000-01-05</th>\n",
       "      <td>18.41</td>\n",
       "      <td>2</td>\n",
       "      <td>1.20</td>\n",
       "      <td>4.41</td>\n",
       "      <td>18.78</td>\n",
       "      <td>18.82</td>\n",
       "      <td>18.84</td>\n",
       "      <td>18.85</td>\n",
       "      <td>0.00</td>\n",
       "      <td>0.00</td>\n",
       "      <td>0.00</td>\n",
       "      <td>0.00</td>\n",
       "      <td>50490.00</td>\n",
       "      <td>6051.00</td>\n",
       "    </tr>\n",
       "    <tr>\n",
       "      <th>2000-01-06</th>\n",
       "      <td>19.22</td>\n",
       "      <td>3</td>\n",
       "      <td>-7.39</td>\n",
       "      <td>1.79</td>\n",
       "      <td>18.92</td>\n",
       "      <td>18.93</td>\n",
       "      <td>18.94</td>\n",
       "      <td>18.94</td>\n",
       "      <td>0.00</td>\n",
       "      <td>0.00</td>\n",
       "      <td>0.00</td>\n",
       "      <td>0.00</td>\n",
       "      <td>50440.00</td>\n",
       "      <td>6046.00</td>\n",
       "    </tr>\n",
       "    <tr>\n",
       "      <th>2000-01-07</th>\n",
       "      <td>19.56</td>\n",
       "      <td>4</td>\n",
       "      <td>16.11</td>\n",
       "      <td>-3.19</td>\n",
       "      <td>19.11</td>\n",
       "      <td>19.08</td>\n",
       "      <td>19.07</td>\n",
       "      <td>19.07</td>\n",
       "      <td>-0.59</td>\n",
       "      <td>0.00</td>\n",
       "      <td>0.00</td>\n",
       "      <td>0.00</td>\n",
       "      <td>50420.00</td>\n",
       "      <td>6042.00</td>\n",
       "    </tr>\n",
       "  </tbody>\n",
       "</table>\n",
       "</div>"
      ],
      "text/plain": [
       "            Close  Weekday  volumeChange  closeChange  EMA 10  EMA 20  EMA 50  \\\n",
       "Date                                                                            \n",
       "2000-01-03  19.56        0         68.61        -4.95   19.56   19.56   19.56   \n",
       "2000-01-04  18.59        1        -46.00        -1.01   19.03   19.05   19.07   \n",
       "2000-01-05  18.41        2          1.20         4.41   18.78   18.82   18.84   \n",
       "2000-01-06  19.22        3         -7.39         1.79   18.92   18.93   18.94   \n",
       "2000-01-07  19.56        4         16.11        -3.19   19.11   19.08   19.07   \n",
       "\n",
       "            EMA 100  ROC5  ROC10  ROC15  ROC20     DTB6    DGS5  \n",
       "Date                                                             \n",
       "2000-01-03    19.56  0.00   0.00   0.00   0.00 50550.00 6050.00  \n",
       "2000-01-04    19.07  0.00   0.00   0.00   0.00 50500.00 6040.00  \n",
       "2000-01-05    18.85  0.00   0.00   0.00   0.00 50490.00 6051.00  \n",
       "2000-01-06    18.94  0.00   0.00   0.00   0.00 50440.00 6046.00  \n",
       "2000-01-07    19.07 -0.59   0.00   0.00   0.00 50420.00 6042.00  "
      ]
     },
     "execution_count": 26,
     "metadata": {},
     "output_type": "execute_result"
    }
   ],
   "source": [
    "train_df.head()"
   ]
  },
  {
   "cell_type": "code",
   "execution_count": null,
   "id": "e05b9454",
   "metadata": {},
   "outputs": [],
   "source": []
  },
  {
   "cell_type": "code",
   "execution_count": 27,
   "id": "48c0a164",
   "metadata": {},
   "outputs": [],
   "source": [
    "scaler = MinMaxScaler()\n",
    "\n",
    "trainNorm = scaler.fit_transform(train_df.values)\n",
    "testNorm = scaler.transform(test_df.values)\n",
    "validNorm = scaler.transform(valid_df.values)\n",
    "\n",
    "trainNormDf = pd.DataFrame(trainNorm, columns=train_df.columns)\n",
    "testNormDf = pd.DataFrame(testNorm, columns=test_df.columns)\n",
    "validNormDf = pd.DataFrame(validNorm, columns=valid_df.columns)\n"
   ]
  },
  {
   "cell_type": "code",
   "execution_count": 28,
   "id": "0c9ec585",
   "metadata": {},
   "outputs": [],
   "source": [
    "def splitSequence(sequence, look_back, forecast_horizon):\n",
    "    X, y = list(), list()\n",
    "    for i in range(len(sequence)): \n",
    "        lag_end = i + look_back\n",
    "        forecast_end = lag_end + forecast_horizon\n",
    "        if forecast_end > len(sequence):\n",
    "            break\n",
    "        seq_x, seq_y = sequence[i:lag_end], sequence[lag_end:forecast_end]\n",
    "        X.append(seq_x)\n",
    "        y.append(seq_y)\n",
    "    return np.array(X), np.array(y)"
   ]
  },
  {
   "cell_type": "code",
   "execution_count": 29,
   "id": "ba094684",
   "metadata": {},
   "outputs": [],
   "source": [
    "LOOK_BACK = 24\n",
    "FORECAST_RANGE = 5\n",
    "n_features = len(trainNormDf.columns)"
   ]
  },
  {
   "cell_type": "code",
   "execution_count": 30,
   "id": "261f23e6",
   "metadata": {},
   "outputs": [],
   "source": [
    "#Add valid df\n",
    "Xtrain, Ytrain = splitSequence(trainNormDf, look_back=LOOK_BACK, forecast_horizon=FORECAST_RANGE)\n",
    "Xvalid, Yvalid = splitSequence(validNormDf, look_back=LOOK_BACK, forecast_horizon=FORECAST_RANGE)\n",
    "Xtest, Ytest = splitSequence(testNormDf, look_back=LOOK_BACK, forecast_horizon=FORECAST_RANGE)"
   ]
  },
  {
   "cell_type": "code",
   "execution_count": 31,
   "id": "f64c0fc2",
   "metadata": {},
   "outputs": [
    {
     "name": "stdout",
     "output_type": "stream",
     "text": [
      "(4285, 24, 14)\n",
      "(4285, 5, 14)\n",
      "(664, 24, 14)\n",
      "(664, 5, 14)\n",
      "(721, 24, 14)\n",
      "(721, 5, 14)\n"
     ]
    }
   ],
   "source": [
    "print(Xtrain.shape)\n",
    "print(Ytrain.shape)\n",
    "print(Xvalid.shape)\n",
    "print(Yvalid.shape)\n",
    "print(Xtest.shape)\n",
    "print(Ytest.shape)"
   ]
  },
  {
   "cell_type": "code",
   "execution_count": 32,
   "id": "df7ff8c9",
   "metadata": {},
   "outputs": [],
   "source": [
    "def inverse_transform(y_test, yhat):\n",
    "    y_test_reshaped = y_test.reshape(-1, y_test.shape[-1])\n",
    "    yhat_reshaped = yhat.reshape(-1, yhat.shape[-1])\n",
    "    yhat_inverse = scaler.inverse_transform(yhat_reshaped)\n",
    "    y_test_inverse = scaler.inverse_transform(y_test_reshaped)\n",
    "    return yhat_inverse, y_test_inverse"
   ]
  },
  {
   "cell_type": "code",
   "execution_count": 33,
   "id": "b89d15f1",
   "metadata": {},
   "outputs": [],
   "source": [
    "def plotMAPEperRange(testData, predData):\n",
    "    y_test_inverse_time_step  = testData.reshape(int(testData.shape[0]/FORECAST_RANGE), \\\n",
    "                                                      FORECAST_RANGE, testData.shape[-1])\n",
    "    yhat_inverse_time_step = predData.reshape(int(predData.shape[0]/FORECAST_RANGE), \\\n",
    "                                                  FORECAST_RANGE, predData.shape[-1])\n",
    "    # yhat_inverse_time_step and y_test_inverse_time_step are both same dimension.\n",
    "    time_step_list_yhat = [[] for i in range(FORECAST_RANGE)]\n",
    "    time_step_list_y_test = [[] for i in range(FORECAST_RANGE)]\n",
    "    for i in range(0, yhat_inverse_time_step.shape[0]):\n",
    "        for j in range(0, yhat_inverse_time_step.shape[1]):\n",
    "            time_step_list_yhat[j].append(list(yhat_inverse_time_step[i][j]))\n",
    "            time_step_list_y_test[j].append(list(y_test_inverse_time_step[i][j]))\n",
    "    yhat_time_step = np.array(time_step_list_yhat)\n",
    "    yhat_time_step = yhat_time_step.reshape(yhat_time_step.shape[0], -1)\n",
    "    y_test_time_step = np.array(time_step_list_y_test)\n",
    "    y_test_time_step = y_test_time_step.reshape(y_test_time_step.shape[0], -1)\n",
    "    # plotting\n",
    "    mape_list = []\n",
    "    for i in range(0, FORECAST_RANGE):\n",
    "        mape = mape_(y_test_time_step[i], yhat_time_step[i])\n",
    "        print(mape)\n",
    "        mape_list.append(mape)\n",
    "    plt.plot(range(0, FORECAST_RANGE), mape_list, marker='o')\n",
    "    plt.xticks((range(0, FORECAST_RANGE)))\n",
    "    plt.xlabel('Forecast Range')\n",
    "    plt.ylabel('MAPE')\n",
    "    "
   ]
  },
  {
   "cell_type": "code",
   "execution_count": 34,
   "id": "651fb8da",
   "metadata": {},
   "outputs": [],
   "source": [
    "def evaluate_forecast(y_test_inverse, yhat_inverse):\n",
    "    mse_ = tf.keras.losses.MeanSquaredError()\n",
    "    mae_ = tf.keras.losses.MeanAbsoluteError()\n",
    "    mape_ = tf.keras.losses.MeanAbsolutePercentageError()\n",
    "    mae = mae_(y_test_inverse,yhat_inverse)\n",
    "    print('mae:', mae)\n",
    "    mse = mse_(y_test_inverse,yhat_inverse)\n",
    "    print('mse:', mse)\n",
    "    mape = mape_(y_test_inverse,yhat_inverse)\n",
    "    print('mape:', mape)\n",
    "    "
   ]
  },
  {
   "cell_type": "code",
   "execution_count": 35,
   "id": "36b5a8b6",
   "metadata": {},
   "outputs": [],
   "source": [
    "mse_ = tf.keras.losses.MeanSquaredError()\n",
    "mae_ = tf.keras.losses.MeanAbsoluteError()\n",
    "mape_ = tf.keras.losses.MeanAbsolutePercentageError()\n",
    "# mae = mae_(y_test_inverse,yhat_inverse)\n",
    "# # print('mae:', mae)\n",
    "# mse = mse_(y_test_inverse,yhat_inverse)\n",
    "# # print('mse:', mse)\n",
    "# mape = mape_(y_test_inverse,yhat_inverse)\n",
    "# # print('mape:', mape)"
   ]
  },
  {
   "cell_type": "code",
   "execution_count": 36,
   "id": "b10a9aaf",
   "metadata": {},
   "outputs": [],
   "source": [
    "from tensorflow.keras import Sequential\n",
    "from tensorflow.keras.layers import LSTM, Dense, Dropout, TimeDistributed, Conv1D, MaxPooling1D, Flatten, Bidirectional, Input, Flatten, Activation, Reshape, RepeatVector, Concatenate\n",
    "from tensorflow.keras.models import Model\n",
    "from tensorflow.keras.utils import plot_model\n",
    "from tensorflow.keras.callbacks import EarlyStopping, ReduceLROnPlateau, ModelCheckpoint"
   ]
  },
  {
   "cell_type": "markdown",
   "id": "e0861993",
   "metadata": {},
   "source": [
    "# Encoder Decoder Model"
   ]
  },
  {
   "cell_type": "code",
   "execution_count": 37,
   "id": "bb3f976f",
   "metadata": {},
   "outputs": [],
   "source": [
    "tf.keras.backend.clear_session()\n",
    "model_enc_dec = tf.keras.Sequential()"
   ]
  },
  {
   "cell_type": "code",
   "execution_count": 38,
   "id": "1e55e091",
   "metadata": {},
   "outputs": [],
   "source": [
    "# WARNING:tensorflow:Layer lstm will not use cuDNN kernels since\n",
    "# it doesn't meet the criteria. It will use a generic GPU kernel as fallback when running on GPU.\n",
    "model_enc_dec.add(LSTM(100, input_shape=(LOOK_BACK, n_features)))\n",
    "model_enc_dec.add(RepeatVector(FORECAST_RANGE))\n",
    "model_enc_dec.add(LSTM(100, return_sequences=True))\n",
    "model_enc_dec.add(TimeDistributed(Dense(n_features)))\n"
   ]
  },
  {
   "cell_type": "code",
   "execution_count": 39,
   "id": "054658ea",
   "metadata": {},
   "outputs": [],
   "source": [
    "# lrSchedule = tf.keras.callbacks.LearningRateScheduler(\n",
    "#     lambda epoch:1e-8*10**(epoch/20))\n",
    "# earlyStop = tf.keras.callbacks.EarlyStopping(monitor='loss', patience=45, restore_best_weights=True)\n"
   ]
  },
  {
   "cell_type": "code",
   "execution_count": 40,
   "id": "24917a23",
   "metadata": {},
   "outputs": [],
   "source": [
    "# optimizer = Adam(1e-3)\n",
    "# model_enc_dec.compile(loss=tf.keras.losses.MeanSquaredError(),\n",
    "#              optimizer = optimizer,\n",
    "#              metrics = [\"mae\"])\n"
   ]
  },
  {
   "cell_type": "code",
   "execution_count": 41,
   "id": "e820169e",
   "metadata": {
    "scrolled": true
   },
   "outputs": [],
   "source": [
    "# history = model_enc_dec.fit(Xtrain,Ytrain,batch_size=128, epochs=500, callbacks=[lrSchedule, earlyStop])"
   ]
  },
  {
   "cell_type": "code",
   "execution_count": 42,
   "id": "2212d3bd",
   "metadata": {},
   "outputs": [],
   "source": [
    "# plt.figure(figsize=(20,8))\n",
    "# plt.semilogx(history.history[\"lr\"], history.history[\"loss\"])"
   ]
  },
  {
   "cell_type": "code",
   "execution_count": 43,
   "id": "47ffd31c",
   "metadata": {},
   "outputs": [],
   "source": [
    "# plt.figure(figsize=(20,8))\n",
    "# plt.semilogx(history.history[\"lr\"], history.history[\"loss\"])\n",
    "# plt.axis([1e-8, 1e-1, 0, 30])"
   ]
  },
  {
   "cell_type": "markdown",
   "id": "1a554a96",
   "metadata": {},
   "source": [
    "## Final Model"
   ]
  },
  {
   "cell_type": "code",
   "execution_count": 44,
   "id": "14e4b5cc",
   "metadata": {},
   "outputs": [],
   "source": [
    "model_enc_dec.compile(loss=tf.keras.losses.MeanSquaredError(),\n",
    "              optimizer=Adam(1e-2),\n",
    "              metrics=['mae'])"
   ]
  },
  {
   "cell_type": "code",
   "execution_count": 45,
   "id": "02e0ee7b",
   "metadata": {},
   "outputs": [],
   "source": [
    "# plot_model(model=model_enc_dec, show_shapes=True)"
   ]
  },
  {
   "cell_type": "code",
   "execution_count": 46,
   "id": "ae30735c",
   "metadata": {},
   "outputs": [],
   "source": [
    "log_dir = \"logs\\\\\" + datetime.datetime.now().strftime(\"%d-%m-%Y_%H%M%S\")\n",
    "# model_path = \"\"\n",
    "tensorboard_callback = [\n",
    "#                         tf.keras.callbacks.TensorBoard(log_dir=log_dir, histogram_freq=1),\n",
    "#                         ModelCheckpoint(model_path, verbose=1, save_best_only=True),\n",
    "                        ReduceLROnPlateau(monitor='val_mae', factor=0.3,patience=5, min_lr=1e-6, verbose=1),\n",
    "#                         CSVLogger(csv_path),\n",
    "                        TensorBoard(),\n",
    "                        EarlyStopping(monitor= \"val_mae\", patience=10, restore_best_weights=True)\n",
    "                       ]"
   ]
  },
  {
   "cell_type": "code",
   "execution_count": 47,
   "id": "ee08cfaf",
   "metadata": {},
   "outputs": [
    {
     "name": "stdout",
     "output_type": "stream",
     "text": [
      "Epoch 1/100\n",
      "34/34 [==============================] - 6s 63ms/step - loss: 0.0413 - mae: 0.1333 - val_loss: 0.0132 - val_mae: 0.0718 - lr: 0.0100\n",
      "Epoch 2/100\n",
      "34/34 [==============================] - 1s 35ms/step - loss: 0.0118 - mae: 0.0559 - val_loss: 0.0107 - val_mae: 0.0509 - lr: 0.0100\n",
      "Epoch 3/100\n",
      "34/34 [==============================] - 1s 35ms/step - loss: 0.0108 - mae: 0.0478 - val_loss: 0.0104 - val_mae: 0.0488 - lr: 0.0100\n",
      "Epoch 4/100\n",
      "34/34 [==============================] - 1s 34ms/step - loss: 0.0104 - mae: 0.0447 - val_loss: 0.0102 - val_mae: 0.0469 - lr: 0.0100\n",
      "Epoch 5/100\n",
      "34/34 [==============================] - 1s 33ms/step - loss: 0.0103 - mae: 0.0434 - val_loss: 0.0101 - val_mae: 0.0464 - lr: 0.0100\n",
      "Epoch 6/100\n",
      "34/34 [==============================] - 1s 34ms/step - loss: 0.0102 - mae: 0.0427 - val_loss: 0.0102 - val_mae: 0.0477 - lr: 0.0100\n",
      "Epoch 7/100\n",
      "34/34 [==============================] - 1s 34ms/step - loss: 0.0101 - mae: 0.0422 - val_loss: 0.0100 - val_mae: 0.0450 - lr: 0.0100\n",
      "Epoch 8/100\n",
      "34/34 [==============================] - 1s 35ms/step - loss: 0.0099 - mae: 0.0426 - val_loss: 0.0095 - val_mae: 0.0438 - lr: 0.0100\n",
      "Epoch 9/100\n",
      "34/34 [==============================] - 1s 35ms/step - loss: 0.0092 - mae: 0.0428 - val_loss: 0.0082 - val_mae: 0.0458 - lr: 0.0100\n",
      "Epoch 10/100\n",
      "34/34 [==============================] - 1s 35ms/step - loss: 0.0072 - mae: 0.0403 - val_loss: 0.0054 - val_mae: 0.0395 - lr: 0.0100\n",
      "Epoch 11/100\n",
      "34/34 [==============================] - 1s 36ms/step - loss: 0.0046 - mae: 0.0350 - val_loss: 0.0037 - val_mae: 0.0334 - lr: 0.0100\n",
      "Epoch 12/100\n",
      "34/34 [==============================] - 1s 35ms/step - loss: 0.0036 - mae: 0.0302 - val_loss: 0.0033 - val_mae: 0.0342 - lr: 0.0100\n",
      "Epoch 13/100\n",
      "34/34 [==============================] - 1s 36ms/step - loss: 0.0033 - mae: 0.0281 - val_loss: 0.0029 - val_mae: 0.0305 - lr: 0.0100\n",
      "Epoch 14/100\n",
      "34/34 [==============================] - 1s 35ms/step - loss: 0.0031 - mae: 0.0270 - val_loss: 0.0028 - val_mae: 0.0282 - lr: 0.0100\n",
      "Epoch 15/100\n",
      "34/34 [==============================] - 1s 33ms/step - loss: 0.0031 - mae: 0.0269 - val_loss: 0.0026 - val_mae: 0.0260 - lr: 0.0100\n",
      "Epoch 16/100\n",
      "34/34 [==============================] - 1s 33ms/step - loss: 0.0029 - mae: 0.0254 - val_loss: 0.0027 - val_mae: 0.0267 - lr: 0.0100\n",
      "Epoch 17/100\n",
      "34/34 [==============================] - 1s 33ms/step - loss: 0.0029 - mae: 0.0255 - val_loss: 0.0026 - val_mae: 0.0270 - lr: 0.0100\n",
      "Epoch 18/100\n",
      "34/34 [==============================] - 1s 33ms/step - loss: 0.0029 - mae: 0.0251 - val_loss: 0.0025 - val_mae: 0.0256 - lr: 0.0100\n",
      "Epoch 19/100\n",
      "34/34 [==============================] - 1s 34ms/step - loss: 0.0029 - mae: 0.0250 - val_loss: 0.0023 - val_mae: 0.0238 - lr: 0.0100\n",
      "Epoch 20/100\n",
      "34/34 [==============================] - 1s 33ms/step - loss: 0.0029 - mae: 0.0261 - val_loss: 0.0027 - val_mae: 0.0278 - lr: 0.0100\n",
      "Epoch 21/100\n",
      "34/34 [==============================] - 1s 35ms/step - loss: 0.0029 - mae: 0.0255 - val_loss: 0.0025 - val_mae: 0.0253 - lr: 0.0100\n",
      "Epoch 22/100\n",
      "34/34 [==============================] - 1s 36ms/step - loss: 0.0028 - mae: 0.0253 - val_loss: 0.0027 - val_mae: 0.0297 - lr: 0.0100\n",
      "Epoch 23/100\n",
      "34/34 [==============================] - 1s 36ms/step - loss: 0.0028 - mae: 0.0248 - val_loss: 0.0024 - val_mae: 0.0245 - lr: 0.0100\n",
      "Epoch 24/100\n",
      "33/34 [============================>.] - ETA: 0s - loss: 0.0028 - mae: 0.0243\n",
      "Epoch 24: ReduceLROnPlateau reducing learning rate to 0.0029999999329447745.\n",
      "34/34 [==============================] - 1s 35ms/step - loss: 0.0028 - mae: 0.0242 - val_loss: 0.0031 - val_mae: 0.0294 - lr: 0.0100\n",
      "Epoch 25/100\n",
      "34/34 [==============================] - 1s 36ms/step - loss: 0.0027 - mae: 0.0228 - val_loss: 0.0023 - val_mae: 0.0229 - lr: 0.0030\n",
      "Epoch 26/100\n",
      "34/34 [==============================] - 1s 36ms/step - loss: 0.0026 - mae: 0.0220 - val_loss: 0.0024 - val_mae: 0.0243 - lr: 0.0030\n",
      "Epoch 27/100\n",
      "34/34 [==============================] - 1s 35ms/step - loss: 0.0026 - mae: 0.0218 - val_loss: 0.0023 - val_mae: 0.0233 - lr: 0.0030\n",
      "Epoch 28/100\n",
      "34/34 [==============================] - 1s 36ms/step - loss: 0.0026 - mae: 0.0218 - val_loss: 0.0022 - val_mae: 0.0220 - lr: 0.0030\n",
      "Epoch 29/100\n",
      "34/34 [==============================] - 1s 36ms/step - loss: 0.0026 - mae: 0.0221 - val_loss: 0.0024 - val_mae: 0.0238 - lr: 0.0030\n",
      "Epoch 30/100\n",
      "34/34 [==============================] - 1s 34ms/step - loss: 0.0026 - mae: 0.0221 - val_loss: 0.0023 - val_mae: 0.0233 - lr: 0.0030\n",
      "Epoch 31/100\n",
      "34/34 [==============================] - 1s 35ms/step - loss: 0.0026 - mae: 0.0220 - val_loss: 0.0023 - val_mae: 0.0231 - lr: 0.0030\n",
      "Epoch 32/100\n",
      "34/34 [==============================] - 1s 33ms/step - loss: 0.0026 - mae: 0.0219 - val_loss: 0.0024 - val_mae: 0.0233 - lr: 0.0030\n",
      "Epoch 33/100\n",
      "33/34 [============================>.] - ETA: 0s - loss: 0.0026 - mae: 0.0220\n",
      "Epoch 33: ReduceLROnPlateau reducing learning rate to 0.0009000000078231095.\n",
      "34/34 [==============================] - 1s 33ms/step - loss: 0.0026 - mae: 0.0220 - val_loss: 0.0023 - val_mae: 0.0230 - lr: 0.0030\n",
      "Epoch 34/100\n",
      "34/34 [==============================] - 1s 34ms/step - loss: 0.0026 - mae: 0.0215 - val_loss: 0.0023 - val_mae: 0.0226 - lr: 9.0000e-04\n",
      "Epoch 35/100\n",
      "34/34 [==============================] - 1s 32ms/step - loss: 0.0026 - mae: 0.0213 - val_loss: 0.0023 - val_mae: 0.0235 - lr: 9.0000e-04\n",
      "Epoch 36/100\n",
      "34/34 [==============================] - 1s 33ms/step - loss: 0.0026 - mae: 0.0213 - val_loss: 0.0023 - val_mae: 0.0233 - lr: 9.0000e-04\n",
      "Epoch 37/100\n",
      "34/34 [==============================] - 1s 33ms/step - loss: 0.0026 - mae: 0.0213 - val_loss: 0.0023 - val_mae: 0.0232 - lr: 9.0000e-04\n",
      "Epoch 38/100\n",
      "33/34 [============================>.] - ETA: 0s - loss: 0.0026 - mae: 0.0214\n",
      "Epoch 38: ReduceLROnPlateau reducing learning rate to 0.00026999999536201356.\n",
      "34/34 [==============================] - 1s 32ms/step - loss: 0.0026 - mae: 0.0214 - val_loss: 0.0023 - val_mae: 0.0224 - lr: 9.0000e-04\n"
     ]
    }
   ],
   "source": [
    "history = model_enc_dec.fit(Xtrain, Ytrain,batch_size=128, epochs=100, verbose=1,validation_data=(Xvalid, Yvalid), \\\n",
    "                            callbacks=tensorboard_callback)"
   ]
  },
  {
   "cell_type": "markdown",
   "id": "65a4ee1c",
   "metadata": {},
   "source": [
    "## Keras Score"
   ]
  },
  {
   "cell_type": "code",
   "execution_count": 48,
   "id": "1d855b4e",
   "metadata": {},
   "outputs": [
    {
     "name": "stdout",
     "output_type": "stream",
     "text": [
      "134/134 [==============================] - 1s 7ms/step - loss: 0.0026 - mae: 0.0212\n",
      "21/21 [==============================] - 0s 5ms/step - loss: 0.0022 - mae: 0.0220\n",
      "23/23 [==============================] - 0s 5ms/step - loss: 0.0029 - mae: 0.0282\n"
     ]
    }
   ],
   "source": [
    "trainScore = model_enc_dec.evaluate(Xtrain, Ytrain, verbose=1)\n",
    "validScore = model_enc_dec.evaluate(Xvalid, Yvalid, verbose=1)\n",
    "testScore = model_enc_dec.evaluate(Xtest, Ytest, verbose=1)"
   ]
  },
  {
   "cell_type": "code",
   "execution_count": 49,
   "id": "17117074",
   "metadata": {},
   "outputs": [
    {
     "data": {
      "text/plain": [
       "([0.002918045734986663, 0.028166383504867554],\n",
       " [0.0022442995104938745, 0.021992066875100136],\n",
       " [0.0026276514399796724, 0.021238282322883606])"
      ]
     },
     "execution_count": 49,
     "metadata": {},
     "output_type": "execute_result"
    }
   ],
   "source": [
    "testScore, validScore, trainScore"
   ]
  },
  {
   "cell_type": "code",
   "execution_count": 50,
   "id": "ec3a962b",
   "metadata": {},
   "outputs": [],
   "source": [
    "yhat = model_enc_dec.predict(Xtest, verbose=0)"
   ]
  },
  {
   "cell_type": "code",
   "execution_count": 51,
   "id": "a1fd0299",
   "metadata": {},
   "outputs": [
    {
     "name": "stdout",
     "output_type": "stream",
     "text": [
      "mae: tf.Tensor(54.71318, shape=(), dtype=float32)\n",
      "mse: tf.Tensor(43117.613, shape=(), dtype=float32)\n",
      "mape: tf.Tensor(1184202800.0, shape=(), dtype=float32)\n"
     ]
    }
   ],
   "source": [
    "predData, testData = inverse_transform(Ytest, yhat)\n",
    "evaluate_forecast(testData, predData)"
   ]
  },
  {
   "cell_type": "code",
   "execution_count": 52,
   "id": "9da6d987",
   "metadata": {},
   "outputs": [
    {
     "data": {
      "image/png": "[encoded data removed]",
      "text/plain": [
       "<Figure size 1500x500 with 1 Axes>"
      ]
     },
     "metadata": {},
     "output_type": "display_data"
    }
   ],
   "source": [
    "plotEvaluation(testData, predData, columns = testNormDf.columns)"
   ]
  },
  {
   "cell_type": "markdown",
   "id": "f166c677",
   "metadata": {},
   "source": [
    "## Ploting The Evaluation"
   ]
  },
  {
   "cell_type": "code",
   "execution_count": 53,
   "id": "e9316ea8",
   "metadata": {},
   "outputs": [
    {
     "name": "stdout",
     "output_type": "stream",
     "text": [
      "tf.Tensor(1006525200.0, shape=(), dtype=float32)\n",
      "tf.Tensor(1074540900.0, shape=(), dtype=float32)\n",
      "tf.Tensor(1044593700.0, shape=(), dtype=float32)\n",
      "tf.Tensor(1030128700.0, shape=(), dtype=float32)\n",
      "tf.Tensor(1765225600.0, shape=(), dtype=float32)\n"
     ]
    },
    {
     "data": {
      "image/png": "[encoded data removed]",
      "text/plain": [
       "<Figure size 2000x1000 with 1 Axes>"
      ]
     },
     "metadata": {},
     "output_type": "display_data"
    }
   ],
   "source": [
    "plotMAPEperRange(testData, predData)"
   ]
  },
  {
   "cell_type": "code",
   "execution_count": 54,
   "id": "e79a165f",
   "metadata": {},
   "outputs": [],
   "source": [
    "def displayMetricsByFeatures(testData, predData, columns):\n",
    "    for i in range(0, len(columns)):\n",
    "        print('->', columns[i])\n",
    "        mae = mae_(testData[:,i],predData[:,i])\n",
    "        print('mae:', mae)\n",
    "        mse = mse_(testData[:,i],predData[:,i])\n",
    "        print('mse:', mse)\n",
    "        mape = mape_(testData[:,i],predData[:,i])\n",
    "        print('mape:', mape)"
   ]
  },
  {
   "cell_type": "code",
   "execution_count": 55,
   "id": "0c165c07",
   "metadata": {},
   "outputs": [],
   "source": [
    "def displayMetricsByColumn(testData, predData, columns, i):\n",
    "\n",
    "    print('->', columns[i])\n",
    "    mae = mae_(testData[:,i],predData[:,i])\n",
    "    print('mae:', mae)\n",
    "    mse = mse_(testData[:,i],predData[:,i])\n",
    "    print('mse:', mse)\n",
    "    mape = mape_(testData[:,i],predData[:,i])\n",
    "    print('mape:', mape)"
   ]
  },
  {
   "cell_type": "code",
   "execution_count": 56,
   "id": "c8968695",
   "metadata": {},
   "outputs": [
    {
     "name": "stdout",
     "output_type": "stream",
     "text": [
      "-> Close\n",
      "mae: tf.Tensor(1.2808751, shape=(), dtype=float32)\n",
      "mse: tf.Tensor(3.2472696, shape=(), dtype=float32)\n",
      "mape: tf.Tensor(3.405546, shape=(), dtype=float32)\n"
     ]
    }
   ],
   "source": [
    "displayMetricsByColumn(testData, predData, train_df.columns, 0)"
   ]
  },
  {
   "cell_type": "code",
   "execution_count": 57,
   "id": "2a66824e",
   "metadata": {},
   "outputs": [
    {
     "name": "stdout",
     "output_type": "stream",
     "text": [
      "-> Close\n",
      "mae: tf.Tensor(1.2808751, shape=(), dtype=float32)\n",
      "mse: tf.Tensor(3.2472696, shape=(), dtype=float32)\n",
      "mape: tf.Tensor(3.405546, shape=(), dtype=float32)\n",
      "-> Weekday\n",
      "mae: tf.Tensor(0.2702827, shape=(), dtype=float32)\n",
      "mse: tf.Tensor(0.32384345, shape=(), dtype=float32)\n",
      "mape: tf.Tensor(87519570.0, shape=(), dtype=float32)\n",
      "-> volumeChange\n",
      "mae: tf.Tensor(26.789587, shape=(), dtype=float32)\n",
      "mse: tf.Tensor(1518.4438, shape=(), dtype=float32)\n",
      "mape: tf.Tensor(1947895.9, shape=(), dtype=float32)\n",
      "-> closeChange\n",
      "mae: tf.Tensor(2.053641, shape=(), dtype=float32)\n",
      "mse: tf.Tensor(8.50483, shape=(), dtype=float32)\n",
      "mape: tf.Tensor(2382929.8, shape=(), dtype=float32)\n",
      "-> EMA 10\n",
      "mae: tf.Tensor(0.55896854, shape=(), dtype=float32)\n",
      "mse: tf.Tensor(0.65524757, shape=(), dtype=float32)\n",
      "mape: tf.Tensor(1.5055702, shape=(), dtype=float32)\n",
      "-> EMA 20\n",
      "mae: tf.Tensor(0.47743213, shape=(), dtype=float32)\n",
      "mse: tf.Tensor(0.44575658, shape=(), dtype=float32)\n",
      "mape: tf.Tensor(1.3593726, shape=(), dtype=float32)\n",
      "-> EMA 50\n",
      "mae: tf.Tensor(0.43135256, shape=(), dtype=float32)\n",
      "mse: tf.Tensor(0.29216996, shape=(), dtype=float32)\n",
      "mape: tf.Tensor(1.2656376, shape=(), dtype=float32)\n",
      "-> EMA 100\n",
      "mae: tf.Tensor(0.66311496, shape=(), dtype=float32)\n",
      "mse: tf.Tensor(0.79161716, shape=(), dtype=float32)\n",
      "mape: tf.Tensor(1.7186798, shape=(), dtype=float32)\n",
      "-> ROC5\n",
      "mae: tf.Tensor(0.81084126, shape=(), dtype=float32)\n",
      "mse: tf.Tensor(1.263955, shape=(), dtype=float32)\n",
      "mape: tf.Tensor(49444.62, shape=(), dtype=float32)\n",
      "-> ROC10\n",
      "mae: tf.Tensor(0.41975746, shape=(), dtype=float32)\n",
      "mse: tf.Tensor(0.33131316, shape=(), dtype=float32)\n",
      "mape: tf.Tensor(35042.082, shape=(), dtype=float32)\n",
      "-> ROC15\n",
      "mae: tf.Tensor(0.2852719, shape=(), dtype=float32)\n",
      "mse: tf.Tensor(0.16061702, shape=(), dtype=float32)\n",
      "mape: tf.Tensor(58778.02, shape=(), dtype=float32)\n",
      "-> ROC20\n",
      "mae: tf.Tensor(0.22429973, shape=(), dtype=float32)\n",
      "mse: tf.Tensor(0.094550714, shape=(), dtype=float32)\n",
      "mape: tf.Tensor(81195.42, shape=(), dtype=float32)\n",
      "-> DTB6\n",
      "mae: tf.Tensor(548.2083, shape=(), dtype=float32)\n",
      "mse: tf.Tensor(504481.62, shape=(), dtype=float32)\n",
      "mape: tf.Tensor(8066459000.0, shape=(), dtype=float32)\n",
      "-> DGS5\n",
      "mae: tf.Tensor(183.51085, shape=(), dtype=float32)\n",
      "mse: tf.Tensor(97630.35, shape=(), dtype=float32)\n",
      "mape: tf.Tensor(8420303400.0, shape=(), dtype=float32)\n"
     ]
    }
   ],
   "source": [
    "displayMetricsByFeatures(testData, predData, train_df.columns)"
   ]
  },
  {
   "cell_type": "markdown",
   "id": "64052be5",
   "metadata": {},
   "source": [
    "## CNN-LSTM Encoder-Decoder Model"
   ]
  },
  {
   "cell_type": "code",
   "execution_count": 58,
   "id": "cf2fc860",
   "metadata": {},
   "outputs": [],
   "source": [
    "tf.keras.backend.clear_session()\n",
    "model_enc_dec_cnn = Sequential()"
   ]
  },
  {
   "cell_type": "code",
   "execution_count": 59,
   "id": "326f6212",
   "metadata": {},
   "outputs": [],
   "source": [
    "model_enc_dec_cnn.add(Conv1D(filters=64, kernel_size=9, activation='relu', input_shape=(LOOK_BACK, n_features)))\n",
    "model_enc_dec_cnn.add(Conv1D(filters=64, kernel_size=11, activation='relu'))\n",
    "model_enc_dec_cnn.add(MaxPooling1D(pool_size=2))\n",
    "model_enc_dec_cnn.add(Flatten())\n",
    "model_enc_dec_cnn.add(RepeatVector(FORECAST_RANGE))\n",
    "model_enc_dec_cnn.add(LSTM(200, return_sequences=True))\n",
    "model_enc_dec_cnn.add(TimeDistributed(Dense(100, activation='relu')))\n",
    "model_enc_dec_cnn.add(TimeDistributed(Dense(n_features)))"
   ]
  },
  {
   "cell_type": "code",
   "execution_count": 60,
   "id": "bf08e019",
   "metadata": {},
   "outputs": [],
   "source": [
    "model_enc_dec_cnn.compile(loss=tf.keras.losses.MeanSquaredError(),\n",
    "              optimizer=Adam(1e-2),\n",
    "              metrics=['mae'])"
   ]
  },
  {
   "cell_type": "code",
   "execution_count": 61,
   "id": "3717c5a5",
   "metadata": {},
   "outputs": [
    {
     "name": "stdout",
     "output_type": "stream",
     "text": [
      "Epoch 1/100\n",
      "34/34 [==============================] - 3s 47ms/step - loss: 0.0026 - mae: 0.0214 - val_loss: 0.0023 - val_mae: 0.0228 - lr: 2.7000e-04\n",
      "Epoch 2/100\n",
      "34/34 [==============================] - 1s 41ms/step - loss: 0.0026 - mae: 0.0214 - val_loss: 0.0023 - val_mae: 0.0225 - lr: 2.7000e-04\n",
      "Epoch 3/100\n",
      "34/34 [==============================] - 1s 38ms/step - loss: 0.0026 - mae: 0.0214 - val_loss: 0.0023 - val_mae: 0.0225 - lr: 2.7000e-04\n",
      "Epoch 4/100\n",
      "34/34 [==============================] - 1s 39ms/step - loss: 0.0026 - mae: 0.0213 - val_loss: 0.0023 - val_mae: 0.0231 - lr: 2.7000e-04\n",
      "Epoch 5/100\n",
      "34/34 [==============================] - 1s 39ms/step - loss: 0.0026 - mae: 0.0213 - val_loss: 0.0023 - val_mae: 0.0226 - lr: 2.7000e-04\n",
      "Epoch 6/100\n",
      "34/34 [==============================] - 1s 39ms/step - loss: 0.0026 - mae: 0.0213 - val_loss: 0.0023 - val_mae: 0.0235 - lr: 2.7000e-04\n",
      "Epoch 7/100\n",
      "33/34 [============================>.] - ETA: 0s - loss: 0.0026 - mae: 0.0214\n",
      "Epoch 7: ReduceLROnPlateau reducing learning rate to 8.099999686237424e-05.\n",
      "34/34 [==============================] - 1s 40ms/step - loss: 0.0026 - mae: 0.0214 - val_loss: 0.0023 - val_mae: 0.0228 - lr: 2.7000e-04\n",
      "Epoch 8/100\n",
      "34/34 [==============================] - 1s 41ms/step - loss: 0.0026 - mae: 0.0213 - val_loss: 0.0023 - val_mae: 0.0231 - lr: 8.1000e-05\n",
      "Epoch 9/100\n",
      "34/34 [==============================] - 1s 39ms/step - loss: 0.0026 - mae: 0.0213 - val_loss: 0.0023 - val_mae: 0.0229 - lr: 8.1000e-05\n",
      "Epoch 10/100\n",
      "34/34 [==============================] - 1s 38ms/step - loss: 0.0026 - mae: 0.0213 - val_loss: 0.0023 - val_mae: 0.0229 - lr: 8.1000e-05\n",
      "Epoch 11/100\n",
      "34/34 [==============================] - 1s 39ms/step - loss: 0.0026 - mae: 0.0213 - val_loss: 0.0023 - val_mae: 0.0229 - lr: 8.1000e-05\n",
      "Epoch 12/100\n",
      "33/34 [============================>.] - ETA: 0s - loss: 0.0026 - mae: 0.0212\n",
      "Epoch 12: ReduceLROnPlateau reducing learning rate to 2.429999949526973e-05.\n",
      "34/34 [==============================] - 1s 39ms/step - loss: 0.0026 - mae: 0.0212 - val_loss: 0.0023 - val_mae: 0.0231 - lr: 8.1000e-05\n"
     ]
    }
   ],
   "source": [
    "history = model_enc_dec.fit(Xtrain, Ytrain,batch_size=128, epochs=100, verbose=1,validation_data=(Xvalid, Yvalid), \\\n",
    "                            callbacks=tensorboard_callback)"
   ]
  },
  {
   "cell_type": "code",
   "execution_count": 62,
   "id": "42367b81",
   "metadata": {},
   "outputs": [
    {
     "name": "stdout",
     "output_type": "stream",
     "text": [
      "134/134 [==============================] - 1s 3ms/step - loss: 0.2249 - mae: 0.4132\n",
      "21/21 [==============================] - 0s 4ms/step - loss: 0.4111 - mae: 0.5587\n",
      "23/23 [==============================] - 0s 4ms/step - loss: 0.2689 - mae: 0.4523\n"
     ]
    }
   ],
   "source": [
    "trainScore = model_enc_dec_cnn.evaluate(Xtrain, Ytrain, verbose=1)\n",
    "validScore = model_enc_dec_cnn.evaluate(Xvalid, Yvalid, verbose=1)\n",
    "testScore = model_enc_dec_cnn.evaluate(Xtest, Ytest, verbose=1)"
   ]
  },
  {
   "cell_type": "code",
   "execution_count": 63,
   "id": "696c2e1a",
   "metadata": {},
   "outputs": [
    {
     "data": {
      "text/plain": [
       "([0.26894059777259827, 0.4523486793041229],\n",
       " [0.4111143946647644, 0.5587201714515686],\n",
       " [0.22494742274284363, 0.4131549596786499])"
      ]
     },
     "execution_count": 63,
     "metadata": {},
     "output_type": "execute_result"
    }
   ],
   "source": [
    "testScore, validScore, trainScore"
   ]
  },
  {
   "cell_type": "code",
   "execution_count": 64,
   "id": "cf77ca70",
   "metadata": {},
   "outputs": [],
   "source": [
    "yhat = model_enc_dec.predict(Xtest, verbose=0)"
   ]
  },
  {
   "cell_type": "code",
   "execution_count": 65,
   "id": "ffe2ab6c",
   "metadata": {},
   "outputs": [
    {
     "name": "stdout",
     "output_type": "stream",
     "text": [
      "mae: tf.Tensor(50.09817, shape=(), dtype=float32)\n",
      "mse: tf.Tensor(36666.285, shape=(), dtype=float32)\n",
      "mape: tf.Tensor(1052341060.0, shape=(), dtype=float32)\n"
     ]
    }
   ],
   "source": [
    "predData, testData = inverse_transform(Ytest, yhat)\n",
    "evaluate_forecast(testData, predData)"
   ]
  },
  {
   "cell_type": "code",
   "execution_count": 66,
   "id": "a36a7062",
   "metadata": {},
   "outputs": [
    {
     "data": {
      "image/png": "[encoded data removed]",
      "text/plain": [
       "<Figure size 1500x500 with 1 Axes>"
      ]
     },
     "metadata": {},
     "output_type": "display_data"
    }
   ],
   "source": [
    "plotEvaluation(testData, predData, columns = testNormDf.columns)"
   ]
  },
  {
   "cell_type": "code",
   "execution_count": 67,
   "id": "b2baaae9",
   "metadata": {},
   "outputs": [
    {
     "name": "stdout",
     "output_type": "stream",
     "text": [
      "-> Close\n",
      "mae: tf.Tensor(1.2557882, shape=(), dtype=float32)\n",
      "mse: tf.Tensor(3.1322157, shape=(), dtype=float32)\n",
      "mape: tf.Tensor(3.3368256, shape=(), dtype=float32)\n"
     ]
    }
   ],
   "source": [
    "displayMetricsByColumn(testData, predData, train_df.columns, 0)"
   ]
  },
  {
   "cell_type": "markdown",
   "id": "ee4170f6",
   "metadata": {},
   "source": [
    "# WIP"
   ]
  },
  {
   "cell_type": "code",
   "execution_count": 68,
   "id": "df33b6ad",
   "metadata": {},
   "outputs": [
    {
     "data": {
      "text/plain": [
       "array([0., 1., 3., 4., 0., 1., 3., 4., 0., 1., 3., 4., 0., 1., 2., 4., 0.,\n",
       "       1., 2., 3.])"
      ]
     },
     "execution_count": 68,
     "metadata": {},
     "output_type": "execute_result"
    }
   ],
   "source": [
    "testData[:20,1]"
   ]
  },
  {
   "cell_type": "code",
   "execution_count": 69,
   "id": "964d5c3b",
   "metadata": {},
   "outputs": [
    {
     "data": {
      "text/plain": [
       "array([1.052774  , 0.97755253, 2.0675893 , 2.9910645 , 3.4314966 ,\n",
       "       0.9611057 , 1.8820395 , 2.890162  , 3.7674396 , 0.14472413,\n",
       "       1.9941092 , 3.2158208 , 3.7945025 , 0.1296893 , 1.1648798 ,\n",
       "       3.761371  , 0.55075794, 0.86589754, 1.673841  , 2.6651206 ],\n",
       "      dtype=float32)"
      ]
     },
     "execution_count": 69,
     "metadata": {},
     "output_type": "execute_result"
    }
   ],
   "source": [
    "predData[:20,1]"
   ]
  },
  {
   "cell_type": "code",
   "execution_count": 70,
   "id": "1c6818c6",
   "metadata": {},
   "outputs": [
    {
     "data": {
      "text/plain": [
       "(721, 5, 14)"
      ]
     },
     "execution_count": 70,
     "metadata": {},
     "output_type": "execute_result"
    }
   ],
   "source": [
    "Ytest.shape"
   ]
  },
  {
   "cell_type": "code",
   "execution_count": 71,
   "id": "3ceafeec",
   "metadata": {},
   "outputs": [
    {
     "data": {
      "text/plain": [
       "(3605, 14)"
      ]
     },
     "execution_count": 71,
     "metadata": {},
     "output_type": "execute_result"
    }
   ],
   "source": [
    "testData.shape"
   ]
  },
  {
   "cell_type": "code",
   "execution_count": 72,
   "id": "6baacf87",
   "metadata": {},
   "outputs": [],
   "source": [
    "from sklearn.metrics import mean_absolute_error as MAE\n",
    "from sklearn.metrics import mean_absolute_percentage_error as MAPE\n"
   ]
  },
  {
   "cell_type": "code",
   "execution_count": 73,
   "id": "a8bbca4f",
   "metadata": {},
   "outputs": [],
   "source": [
    "key = 0\n",
    "testFore1, testFore2, testFore3, testFore4, testFore5 = list(), list(), list(), list(), list()\n",
    "predFore1, predFore2, predFore3, predFore4, predFore5 = list(), list(), list(), list(), list()\n",
    "for i in range(testData.shape[0]): #testData.shape(0)\n",
    "    remainder = i%5\n",
    "    if remainder == 0:\n",
    "        testFore1.append(testData[i][key])\n",
    "        predFore1.append(predData[i][key])\n",
    "    elif remainder == 1:\n",
    "        testFore2.append(testData[i][key])\n",
    "        predFore2.append(predData[i][key])\n",
    "    elif remainder == 2:\n",
    "        testFore3.append(testData[i][key])\n",
    "        predFore3.append(predData[i][key])\n",
    "    elif remainder == 3:\n",
    "        testFore4.append(testData[i][key])\n",
    "        predFore4.append(predData[i][key])\n",
    "    elif remainder == 4:\n",
    "        testFore5.append(testData[i][key])\n",
    "        predFore5.append(predData[i][key])"
   ]
  },
  {
   "cell_type": "code",
   "execution_count": null,
   "id": "95eef564",
   "metadata": {},
   "outputs": [],
   "source": []
  },
  {
   "cell_type": "code",
   "execution_count": 74,
   "id": "aa5b688a",
   "metadata": {},
   "outputs": [
    {
     "data": {
      "text/plain": [
       "(721, 721, 721, 721)"
      ]
     },
     "execution_count": 74,
     "metadata": {},
     "output_type": "execute_result"
    }
   ],
   "source": [
    "len(testFore1), len(testFore5), len(predFore1), len(predFore5)"
   ]
  },
  {
   "cell_type": "code",
   "execution_count": 75,
   "id": "ee6e3642",
   "metadata": {},
   "outputs": [],
   "source": [
    "evalDict = {\"testData1\" : testFore1, \"testData2\" : testFore2, \"testData3\": testFore3, \"testData4\" : testFore4, \\\n",
    "                  \"testData5\" : testFore5, \"predData1\" : predFore1, \"predData2\" : predFore2, \"predData3\": predFore3, \\\n",
    "                  \"predData4\" : predFore4, \"predData5\" : predFore5}"
   ]
  },
  {
   "cell_type": "code",
   "execution_count": 76,
   "id": "ac644dfc",
   "metadata": {},
   "outputs": [
    {
     "data": {
      "text/html": [
       "<div>\n",
       "<style scoped>\n",
       "    .dataframe tbody tr th:only-of-type {\n",
       "        vertical-align: middle;\n",
       "    }\n",
       "\n",
       "    .dataframe tbody tr th {\n",
       "        vertical-align: top;\n",
       "    }\n",
       "\n",
       "    .dataframe thead th {\n",
       "        text-align: right;\n",
       "    }\n",
       "</style>\n",
       "<table border=\"1\" class=\"dataframe\">\n",
       "  <thead>\n",
       "    <tr style=\"text-align: right;\">\n",
       "      <th></th>\n",
       "      <th>testData1</th>\n",
       "      <th>testData2</th>\n",
       "      <th>testData3</th>\n",
       "      <th>testData4</th>\n",
       "      <th>testData5</th>\n",
       "      <th>predData1</th>\n",
       "      <th>predData2</th>\n",
       "      <th>predData3</th>\n",
       "      <th>predData4</th>\n",
       "      <th>predData5</th>\n",
       "    </tr>\n",
       "  </thead>\n",
       "  <tbody>\n",
       "    <tr>\n",
       "      <th>0</th>\n",
       "      <td>53.60</td>\n",
       "      <td>53.80</td>\n",
       "      <td>53.75</td>\n",
       "      <td>53.42</td>\n",
       "      <td>53.10</td>\n",
       "      <td>53.29</td>\n",
       "      <td>53.39</td>\n",
       "      <td>53.02</td>\n",
       "      <td>53.30</td>\n",
       "      <td>53.36</td>\n",
       "    </tr>\n",
       "    <tr>\n",
       "      <th>1</th>\n",
       "      <td>53.80</td>\n",
       "      <td>53.75</td>\n",
       "      <td>53.42</td>\n",
       "      <td>53.10</td>\n",
       "      <td>52.66</td>\n",
       "      <td>53.38</td>\n",
       "      <td>53.31</td>\n",
       "      <td>53.46</td>\n",
       "      <td>53.42</td>\n",
       "      <td>53.82</td>\n",
       "    </tr>\n",
       "    <tr>\n",
       "      <th>2</th>\n",
       "      <td>53.75</td>\n",
       "      <td>53.42</td>\n",
       "      <td>53.10</td>\n",
       "      <td>52.66</td>\n",
       "      <td>52.82</td>\n",
       "      <td>53.57</td>\n",
       "      <td>53.57</td>\n",
       "      <td>53.27</td>\n",
       "      <td>53.35</td>\n",
       "      <td>53.37</td>\n",
       "    </tr>\n",
       "    <tr>\n",
       "      <th>3</th>\n",
       "      <td>53.42</td>\n",
       "      <td>53.10</td>\n",
       "      <td>52.66</td>\n",
       "      <td>52.82</td>\n",
       "      <td>52.73</td>\n",
       "      <td>53.31</td>\n",
       "      <td>53.40</td>\n",
       "      <td>53.19</td>\n",
       "      <td>53.27</td>\n",
       "      <td>53.45</td>\n",
       "    </tr>\n",
       "    <tr>\n",
       "      <th>4</th>\n",
       "      <td>53.10</td>\n",
       "      <td>52.66</td>\n",
       "      <td>52.82</td>\n",
       "      <td>52.73</td>\n",
       "      <td>52.50</td>\n",
       "      <td>53.44</td>\n",
       "      <td>53.48</td>\n",
       "      <td>53.09</td>\n",
       "      <td>53.41</td>\n",
       "      <td>53.52</td>\n",
       "    </tr>\n",
       "  </tbody>\n",
       "</table>\n",
       "</div>"
      ],
      "text/plain": [
       "   testData1  testData2  testData3  testData4  testData5  predData1  \\\n",
       "0      53.60      53.80      53.75      53.42      53.10      53.29   \n",
       "1      53.80      53.75      53.42      53.10      52.66      53.38   \n",
       "2      53.75      53.42      53.10      52.66      52.82      53.57   \n",
       "3      53.42      53.10      52.66      52.82      52.73      53.31   \n",
       "4      53.10      52.66      52.82      52.73      52.50      53.44   \n",
       "\n",
       "   predData2  predData3  predData4  predData5  \n",
       "0      53.39      53.02      53.30      53.36  \n",
       "1      53.31      53.46      53.42      53.82  \n",
       "2      53.57      53.27      53.35      53.37  \n",
       "3      53.40      53.19      53.27      53.45  \n",
       "4      53.48      53.09      53.41      53.52  "
      ]
     },
     "execution_count": 76,
     "metadata": {},
     "output_type": "execute_result"
    }
   ],
   "source": [
    "evaluationDf = pd.DataFrame(evalDict)\n",
    "evaluationDf.head()"
   ]
  },
  {
   "cell_type": "code",
   "execution_count": 77,
   "id": "3dc737d5",
   "metadata": {},
   "outputs": [
    {
     "data": {
      "text/plain": [
       "0.01939660690295993"
      ]
     },
     "execution_count": 77,
     "metadata": {},
     "output_type": "execute_result"
    }
   ],
   "source": [
    "MAPE(evaluationDf.testData1, evaluationDf.predData1)"
   ]
  },
  {
   "cell_type": "code",
   "execution_count": 78,
   "id": "961ed437",
   "metadata": {},
   "outputs": [
    {
     "data": {
      "text/plain": [
       "0.027411395550276746"
      ]
     },
     "execution_count": 78,
     "metadata": {},
     "output_type": "execute_result"
    }
   ],
   "source": [
    "MAPE(evaluationDf.testData2, evaluationDf.predData2)"
   ]
  },
  {
   "cell_type": "code",
   "execution_count": 79,
   "id": "1db4ef35",
   "metadata": {},
   "outputs": [
    {
     "data": {
      "text/plain": [
       "0.033951258695705075"
      ]
     },
     "execution_count": 79,
     "metadata": {},
     "output_type": "execute_result"
    }
   ],
   "source": [
    "MAPE(evaluationDf.testData3, evaluationDf.predData3)"
   ]
  },
  {
   "cell_type": "code",
   "execution_count": 80,
   "id": "cb02b920",
   "metadata": {},
   "outputs": [
    {
     "data": {
      "text/plain": [
       "0.04030877078210666"
      ]
     },
     "execution_count": 80,
     "metadata": {},
     "output_type": "execute_result"
    }
   ],
   "source": [
    "MAPE(evaluationDf.testData4, evaluationDf.predData4)"
   ]
  },
  {
   "cell_type": "code",
   "execution_count": 81,
   "id": "0b73c481",
   "metadata": {},
   "outputs": [
    {
     "data": {
      "text/plain": [
       "0.045773242943633"
      ]
     },
     "execution_count": 81,
     "metadata": {},
     "output_type": "execute_result"
    }
   ],
   "source": [
    "MAPE(evaluationDf.testData5, evaluationDf.predData5)"
   ]
  },
  {
   "cell_type": "code",
   "execution_count": 82,
   "id": "9b1d468d",
   "metadata": {},
   "outputs": [
    {
     "data": {
      "image/png": "[encoded data removed]",
      "text/plain": [
       "<Figure size 1200x500 with 1 Axes>"
      ]
     },
     "metadata": {},
     "output_type": "display_data"
    }
   ],
   "source": [
    "plt.figure(figsize=(12,5))\n",
    "plt.plot(evaluationDf.testData1, label='Real')\n",
    "plt.plot(evaluationDf.predData1, label='Prediction')\n",
    "\n",
    "plt.legend(loc=\"best\")\n",
    "#for saving figures\n",
    "plt.savefig('media/CnnLstmEnDe.png')\n",
    "plt.show()"
   ]
  },
  {
   "cell_type": "code",
   "execution_count": 83,
   "id": "87689368",
   "metadata": {},
   "outputs": [],
   "source": [
    "def average():\n",
    "    s = (MAPE(evaluationDf.testData1, evaluationDf.predData1) + MAPE(evaluationDf.testData2, evaluationDf.predData2) + \\\n",
    "    MAPE(evaluationDf.testData3, evaluationDf.predData3) + MAPE(evaluationDf.testData4, evaluationDf.predData4) + \\\n",
    "    MAPE(evaluationDf.testData5, evaluationDf.predData5))/5\n",
    "    print(s)"
   ]
  },
  {
   "cell_type": "code",
   "execution_count": 84,
   "id": "ded34de6",
   "metadata": {},
   "outputs": [
    {
     "name": "stdout",
     "output_type": "stream",
     "text": [
      "0.03336825497493628\n"
     ]
    }
   ],
   "source": [
    "average()"
   ]
  },
  {
   "cell_type": "code",
   "execution_count": null,
   "id": "c33e20d5",
   "metadata": {},
   "outputs": [],
   "source": []
  }
 ],
 "metadata": {
  "kernelspec": {
   "display_name": "tf1",
   "language": "python",
   "name": "tf1"
  },
  "language_info": {
   "codemirror_mode": {
    "name": "ipython",
    "version": 3
   },
   "file_extension": ".py",
   "mimetype": "text/x-python",
   "name": "python",
   "nbconvert_exporter": "python",
   "pygments_lexer": "ipython3",
   "version": "3.10.6"
  }
 },
 "nbformat": 4,
 "nbformat_minor": 5
}
